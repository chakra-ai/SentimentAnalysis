{
  "nbformat": 4,
  "nbformat_minor": 0,
  "metadata": {
    "colab": {
      "name": "NaiveBayesApproach.ipynb",
      "provenance": [],
      "collapsed_sections": [],
      "authorship_tag": "ABX9TyM1CsdXJ7nSbJfwDrEnbrae",
      "include_colab_link": true
    },
    "kernelspec": {
      "name": "python3",
      "display_name": "Python 3"
    }
  },
  "cells": [
    {
      "cell_type": "markdown",
      "metadata": {
        "id": "view-in-github",
        "colab_type": "text"
      },
      "source": [
        "<a href=\"https://colab.research.google.com/github/chakra-ai/SentimentAnalysis/blob/master/NaiveBayesApproach.ipynb\" target=\"_parent\"><img src=\"https://colab.research.google.com/assets/colab-badge.svg\" alt=\"Open In Colab\"/></a>"
      ]
    },
    {
      "cell_type": "code",
      "metadata": {
        "id": "JMOoBtFItQ1F",
        "colab_type": "code",
        "colab": {
          "base_uri": "https://localhost:8080/",
          "height": 51
        },
        "outputId": "33f666e7-9aeb-4f21-e236-bf65d3a22bfe"
      },
      "source": [
        "import numpy as np\n",
        "import pandas as pd\n",
        "import matplotlib.pyplot as plt\n",
        "import seaborn as sns\n",
        "import re\n",
        "import string\n",
        "import warnings\n",
        "warnings.filterwarnings('ignore')"
      ],
      "execution_count": 1,
      "outputs": [
        {
          "output_type": "stream",
          "text": [
            "/usr/local/lib/python3.6/dist-packages/statsmodels/tools/_testing.py:19: FutureWarning: pandas.util.testing is deprecated. Use the functions in the public API at pandas.testing instead.\n",
            "  import pandas.util.testing as tm\n"
          ],
          "name": "stderr"
        }
      ]
    },
    {
      "cell_type": "code",
      "metadata": {
        "id": "FZ_GbFDdt5Yv",
        "colab_type": "code",
        "colab": {}
      },
      "source": [
        "url = 'https://raw.githubusercontent.com/chakra-ai/SentimentAnalysis/master/RomanUrduDataSet.csv'\n",
        "df = pd.read_csv(url, encoding='utf8', header=None)\n",
        "df.columns = ['text','target','junk']\n",
        "df.drop('junk',axis=1, inplace=True)\n",
        "df.dropna(inplace=True)\n",
        "data = df[df['target'] != 'Neative']"
      ],
      "execution_count": 2,
      "outputs": []
    },
    {
      "cell_type": "markdown",
      "metadata": {
        "id": "JpdJQpQiw1v4",
        "colab_type": "text"
      },
      "source": [
        "# **Eliminate biased words are common across classes**"
      ]
    },
    {
      "cell_type": "code",
      "metadata": {
        "id": "Znrub6Eht6FF",
        "colab_type": "code",
        "colab": {}
      },
      "source": [
        "pos = df[df['target']=='Positive']['text'].values\n",
        "neg = df[df['target']=='Negative']['text'].values\n",
        "neu = df[df['target']=='Neutral']['text'].values\n",
        "\n",
        "pos_corpus = []\n",
        "neg_corpus = []\n",
        "neu_corpus = []\n",
        "\n",
        "for sentence in pos:\n",
        "    words = sentence.split()\n",
        "    pos_corpus = pos_corpus + words\n",
        "pos_corpus = set(pos_corpus)\n",
        "\n",
        "for sentence in neg:\n",
        "    words = sentence.split()\n",
        "    neg_corpus = neg_corpus + words\n",
        "neg_corpus = set(neg_corpus)\n",
        "\n",
        "for sentence in neu:\n",
        "    words = sentence.split()\n",
        "    neu_corpus = neu_corpus + words\n",
        "neu_corpus = set(neu_corpus)"
      ],
      "execution_count": 3,
      "outputs": []
    },
    {
      "cell_type": "code",
      "metadata": {
        "id": "o8Yvwv2FwzWY",
        "colab_type": "code",
        "colab": {
          "base_uri": "https://localhost:8080/",
          "height": 71
        },
        "outputId": "2b898e1c-4c4a-4351-de15-4cc19c086d47"
      },
      "source": [
        "common_words = pos_corpus.intersection(neg_corpus, neu_corpus)\n",
        "print(len(common_words))\n",
        "print(common_words)"
      ],
      "execution_count": 4,
      "outputs": [
        {
          "output_type": "stream",
          "text": [
            "5387\n",
            "{'agay', 'Pehli', 'kyoon', 'kaam', 'Ke', 'bana', 'Par', 'Jata', 'wicket', '40', 'Siyasi', 'Chemistry', 'maqbool', 'pizza', 'our', 'tahafuz', 'hmri', 'Bhar', 'mamlat', 'yaad', 'tery', 'baghair', 'nikl', 'Sa', 'aisay', 'Khanay', 'yar', 'Mery', 'sahab', 'haal', 'rya', 'hoi', 'idare', 'mary', 'dastoor', 'Call', 'Murad', 'waldain', 'copy', 'hii', '2013', 'Zakhmi', 'stadiums', 'Men', 'Logon', 'hoon', 'mene', 'm', 'warna', 'len', 'weight', 'Ayoub', '😂😂😂😂😂😂', 'Inter', 'Hon', 'manaya', 'Amna', 'Kitna', 'barae', 'sahir', 'aankh', 'sarhad', 'samait', 'December', 'dee', 'mustaqil', 'nara', 'always', 'Usi', 'Aafia', 'qism', '2006', 'girls', 'tk', 'milti', 'Still', 'halka', 'Sab', 'unhon', 'magar', 'imdad', 'me..', 'lgy', 'siasi', 'pakistani', 'Kash', 'baten', 'chale', 'Indian', 'Chauhanne', 'hona', 'Thik', 'pride', 'chaheye', \"It's\", 'Mushtaq', 'Multan', 'hon,', 'smile', 'hamin', 'Ravi', 'Rahi', 'hukam', 'alawa', '2009', 'Jaan', 'rahin', 'qaiym', 'choice', 'numayan', 'chalta', 'association', 'style', 'One', 'iskay', 'Do', 'hazar', 'nikla', 'khilariyon', 'andaza', 'ba', 'hareef', 'Martin', 'Aj', 'mosikaron', 'Drama', 'dad', 'irada', 'ko', 'govt.', 'article', 'report', 'blast', 'dramas', 'prediction', 'Rupay', 'IN', 'bunyadi', 'govt', 'Ur', 'bani', 'quaid', 'aney', 'pary', 'Mirza', 'umeed', 'taleem', 'Sialkot', 'Tariq', 'wja', 'sab', 'sahee', 'ho', 'Jiya', 'jane', 'jga', 'got', 'kein', 'last', 'press', 'sochna', 'Yah', 'mumalik', 'E', 'net', 'Insan', 'goya', '1979', 'Jaya', 'dialogue', 'gair', 'dekha', 'likha', 'PTV', 'course', 'work', 'pehne', 'facebook', 'sahi', 'picture', 'WO', ':p', '57', 'Q', 'logon', 'long', 'how', 'Reham', '1949', 'Aap', 'un', 'amazing', 'yaa', 'Barishon', 'sadar', 'usy', 'moqa', 'Waqai', 'Waliden', 'add', 'saamne', 'pyaar', 'lagai', 'Charles', 'arsa', 'shahrukh', 'Gulzar', 'youth', 'kaisay', 'bohata', 'at', 'farigh', 'This', 'idhr', 'tarh', 'samajhne', 'roles', 'Achay', 'Firing', 'March', 'coaching', 'aata', 'Millat', 'stage', 'tulba', 'hain..', 'promote', 'notice', 'Wazeer-e-Azam', 'paray', 'hoty', 'pasnd', 'apki', 'credit', 'Governor', 'rock', 'enjoy', 'help', 'banaya', 'azaz', 'sona', 'majmua', 'samjhi', 'fahad', '247', 'ho!', 'kerney', 'humary', 'coat', 'Quran', 'society', 'life', 'big', 'Wohi', 'products', 'samjh', 'chunn', 'Director', 'District', 'insaf', 'hakeem', '44', 'paseena', 'sakty', '😘', 'day.', 'dollar', 'zrort', 'six', 'nhe', 'mansab', 'cheezon', 'new', 'session', 'milty', 'they', 'Khoro', 'Gi', 'wakeel', 'deceleration', 'sambhala', 'Banane', 'bataur', 'wife', 'gal', 'kehte', 'gayi', 'chali', 'Faiz', 'Zardari', 'darjan', 'Acha', 'aqal', 'Abdul', 'wase', 'aesy', 'iski', 'maf', 'aapko', 'kooch', 'talluq', 'Kabul', 'chahy', 'nazam', 'chuke', 'Allah.', 'this', 'Ibtedai', 'akmal', 'Sy', 'All', 'Tujhe', 'support', 'kahin', 'kya?', 'ri', 'naik', 'puraney', 'Ghaffar', 'guzre', 'subai', 'Madad', 'dakho', 'wah', 'ladki', 'sary', 'lea', 'krti', 'duniya', 'soch', 'poori', 'july', 'banta', 'halal', 'ai', 'urdu', 'hea', '1940', 'pari', 'true', 'Jawed', 'sarbarah', 'hai?Nasir', 'hoti', 'lo', 'Na', 'thin', 'bayanat', 'Pas', 'musalmano', 'akhbar', 'Jaye', 'badqismati', 'education', 'Zahir', 'nishast', 'c', 'nahi,', 'ha.', 'Ubqari', 'SB', 'producer', 'jeeta', 'kron', 'ma', 'Islamabad', 'afsaran', 'wazaif', 'kahna', 'bhari', 'nakaam', 'Ali,', 'hn', 'Hehehe', 'mamooli', 'afrad', 'Tv', 'ga...', 'ahmiyat', 'ho.', 'kar', 'Chalo', 'kr', 'zere', 'one', 'dastaan', 'teri', 'koe', 'mehaz', 'wa', 'tashreef', 'Wala', 'Matlab', 'tawajah', 'Apny', 'unhi', 'Bilkul', 'ghulami', 'azaa', 'ulad', 'hayn', 'zaiyd', 'liya', 'fikri', 'batao', 'unhain', 'force', '42', 'body', 'ye', 'nizam', '48', 'mujhy', 'parhta', 'Watson', 'Malik', 'large', 'kash', 'Adalat', 'aham', 'istemal', 'Degree', 'PAK', 'Hen', '1944', 'shirkat', 'loog', 'raj', 'baatain', 'smjha', 'zaroorat', 'khilafat', 'chota', 'jab', 'matlb', 'Lo', 'taur', 'Ashfaq', 'Dost', 'taqreeb', 'chanda', 'Le', 'karain', 'mae', 'ais', 'beyan', 'muaawza', 'Hai.', 'Bushra', 'lambi', '!!', 'muqabla', 'Airport', 'reh', 'Afzal', 'Altaf', 'raho', 'HAI', 'Justice', 'zaroor', 'saholaten', 'Shop', 's', 'banne', 'fil', 'Islam', 'riyasat', 'episodes', 'nikal', 'IS', 'shohar', 'karta', 'wesi', 'allah', 'kum', 'bnaya', 'abhi', 'mayoos', 'Guzishta', 'buzzer', 'Section', 'bijli', 'Pani', 'mohabat', '1959', 'Chundrigar', 'bass', 'Your', 'tars', 'Dollor', 'Ja', 'sala', 'waghairah', 'Dr', 'Khel', 'Ramzan', 'campaign', 'dia', 'lana', 'bahi', 'aks', 'Urdu', 'kis', 'Gia', 'bowling', 'sawalaat', 'geet', 'run', 'barqarar', 'unki', 'tum', 'hamari', 'Line', 'hn.', 'iskeem', ':3', 'shoot', 'pichay', 'program', 'Birthday', 'baras', 'deye', 'boring', 'Europe', 'hit', 'Awan', 'Nawab', 'zamane', 'hisse', 'Jawan', 'tawun', 'hum', 'taba', 'call', 'khud', 'ah', 'list', 'Dan', 'Badshah', 'Jani', 'balkay', 'wali', 'think', 'Shadi', 'Street', 'asli', 'dill', 'uthaya', 'lagti', 'direction', 'Army', 'hameshah', '😝', 'issue', 'tashadud', 'week', 'Australia', 'en', 'Naam', 'skte', 'gia', 'rehaiysh', 'kasam', 'jalsa', 'nahee', 'property', 'rh', 'parho', 'kitne', 'bhiii', 'hope', 'batein', 'jinhe', 'Gya', 'insan', 'fund', 'feel', 'ik', 'peche', 'matlab', 'baney', 'Sadiq', 'Insaf', 'atay', 'milte', 'howe', 'nojawan', 'e', 'Baad', 'zaroori', 'lagana', '(', 'leyeh', 'British', 'Mian', 'aa', 'Den', 'Tere', 'wle', 'masroof', 'YE', 'kort', 'mokhalif', 'sorry', 'kry', 'classes', 'mulik', 'Yun', 'their', '43', 'Kohat', 'aor', 'aapne', 'hukoomat', 'team', 'Izafa', 'hmarey', 'maray', 'lagta', 'liye', 'koo', 'bhag', 'qayam', 'tera', 'humen', '???', 'Aam', 'amm', 'Bahut', 'driver', 'dunia', 'deni', 'ali', 'bat', 'waste', 'said', 'ami', 'mehfooz', 'nahi', ':D', 'end', 'Bahi', 'News', 'pohanch', 'elaqon', 'ko.', 'chuka', 'bap', 'Y', 'jaisay', 'world', 'gir', 'bharti', 'khuwab', 'afraad', 'izzat', 'phone', 'Next', 'saaf', 'regular', 'XD', 'h', 'ga😂😂😂', 'frnd', 'tarha', 'sanbhala', 'sunte', 'then', 'ahan', 'haa', 'Baji', 'ly', 'lye', '32', 'bhi', 'tawajjah', 'raju', 'Jolie', 'abu', 'pa', 'Ameen', '95', 'Hai', 'gali', 'baad', '0', 'the.', 'nice', 'waly', 'dora', 'samjhdar', 'times', 'mehdod', 'istefa', 'kyun', 'milne', 'bhe', 'Hussain', 'naa', 'Unit', 'zariye', 'min', 'sal', 'azmai', 'tmhare', 'samajh', 'It', 'kabil', 'kehta', 'bnai', 'Comedy', 'chahta', 'mjhse', '????', 'with', 'Hall', 'sharik', 'deay', 'chehra', 'result', 'hand', 'deya', 'Kaash', 'hain?Nasir', 'naye', 'beshtar', 'natije', 'offensive', 'tumhare', 'Ese', 'aj', 'mai', 'North', 'tank', 'Ary', 'Isi', 'taweel', 'directors', 'hogae', 'Balochistan', 'aur', 'Book', 'Bharti', 'banana', 'programs', 'nazreen', 'jise', 'hen.', 'Hazrat', 'atna', 'apka', 'saf', 'healthy', 'Sachi', 'Waqi', 'number', 'Qaim', 'language', 'banane', 'Arey', 'Angrez', 'albata', 'Dakhla', '1980', 'hoo', 'khelaf', 'ga.', 'Chuki', 'naheen', 'sabit', 'Axha', 'Per', 'roll', 'guzishta', 'aadmi', 'hawale', 'shaksiyat', 'Shareef', 'jani', 'khatir', 'mehsos', 'lai', 'shak', 'games', 'main', 'still', 'mare', 'wahin', 'exams', 'Roshan', 'lagae', 'huway', 'Miandad', 'zimmedari', 'Iss', 'sawal', 'Hahahah', 'Shukr', 'matchon', 'Court', 'we', 'Hein', 'abi', 'ilawa', 'singer', 'Mera', '64', 'tor', 'journalist', 'story', 'Liya', 'apke', 'dkh', 'ahsan', 'otherwise', 'lot', 'Hamain', 'Her', 'Net', 'if', 'looks', 'ji', 'high', 'samjha', 'sun', 'Gaye', 'qiyam', 'akar', 'cha', 'bahal', 'jung', 'paristaron', 'zubaan', 'hain!', 'Service', 'inning', 'jiya', 'khod', 'kartay', 'founder', '&', 'Dar', 'hooi', 'Kayi', 'New', 'sanat', 'krtay', 'shru', '🤣', 'Tumari', 'Barkat', 'molazmat', 'yhi', 'Talib', 'Dubai', 'lehaza', 'Hanif', '1995', 'hin', 'kamyabi', 'Bht', 'Diana', 'hare', 'maah', 'lets', 'rehta', 'sy', 'bas', 'rahai', 'conference', 'Mohyeddin', 'films', 'pahar', 'sher', 'ilaj', 'Kernay', 'production', 'maan', 'tehrir', 'Phone', 'hami', '25', 'waqeyat', 'behas', 'nawa', 'vote', 'mn', 'adakar', 'kamzor', '1965', 'hadayat', 'drama', 'hi.', 'fani', '30', 'horaha', 'Khatoon', 'Waqt', 'nafiz', 'yasir', 'budget', 'Yaad', 'Karachi,', 'PTI', 'had', 'Zindagi', 'nikala', 'chalaney', 'hissa', 're', 'bnna', 'Movement', 'pgl', 'hia', 'any', 'minister', 'Marilyn', 'Seriously', 'daikh', 'Kamyab', 'chala', 'dey', 'months', 'corrupt', 'trah', 'Saudi', 'Pe', 'hai...', 'aasan', '72', 'zeyada', 'halak', 'chehre', 'jeeto', 'milta', 'woo', 'hosh', 'chunache', 'chakar', 'Musharaf', '“', 'shows', 'demand', 'Mulki', 'bahir', 'Laga', 'dance', 'Mukhtalif', '120', 'Zia-ul-Haq', 'ha', 'training', 'hairat', 'adda', 'oil', 'biwi', 'faidah', 'trha', 'Aao', 'sahibaan', 'prime', 'Prince', 'Hindi', 'wafd', 'unhe', 'Abdullah', 'doosry', 'unty', 'khaiz', 'parta', 'rehna', 'itni', 'siyasi', 'tarikh', 'what', '14', 'Kuch', 'Cup', 'Afrad', 'actress', 'Mary', 'De', 'So', 'ghareeb', 'YA', 'hifazat', 'anti', 'baton', 'rounder', 'Har', ':-D', 'kharab', 'ek', 'company', 'farz', 'Yasir', 'Khail', 'its', 'mila.', 'You', 'Se', 'ure', 'king', 'akkasi', 'talba', 'likhe', 'khilaaf', 'hy', 'dahi', 'behn', 'dala', 'kahani', 'dena', 'unke', 'Hide', 'aai', 'Not', 'jesi', 'Read', 'khtm', 'music', 'hamrah', 'nai', 'simi', 'Subha', '4', 'Bs', 'asa', 'jata', 'Hogi', 'test', 'Buri', 'achy', 'aati', 'apne', 'kabina', 'Roman', 'shuru', 'Mere', 'tareen', 'khati', 'mjy', 'Mother', '6', 'Yay', 'karda', 'hanste', 'yr', 'hahahaha', 'jia', '😜', 'Sub', 'khan', 'Hazar', 'naami', 'taqreer', 'khare', 'audition', 'haii', 'chor', 'Miss', \"I'm\", 'ambulance', 'fankaron', 'mention', 'Agree', 'agarcha', 'huae', 'awam', 'masail', 'orat', 'bharat', 'haye', 'hidayat', 'hill', 'aya', '1999', '2005', 'days', 'zulm', 'Rajiv', 'Dy', 'Jai', 'qareeb', 'hon', 'nishan', 'tehreek', 'chaye', 'kehna', 'bachon', 'Stations', 'awwal', 'bemari', 'Mene', 'Zimni', 'hain...', 'really', 'Sheikh', 'Un', 'Hm', 'Mujh', 'use', 'elawa', 'Farhan', 'sakht', 'Nahi', 'Pehla', 'PMLN', 'Himayat', 'Aqwam', 'paae', 'thanks', 'Zaid', 'khidmat', 'Hamara', 'like', 'je', 'Dua', 'ga,', 'kab', 'hawala', 'urooj', 'key', 'tadad', 'husband', 'reha', 'bajaye', 'block', 'KSE', 'zahir', 'aziz', 'lene', 'Musalman', 'auntie', 'lar', 'deer', 'azaad', 'cream', 'trip', 'dy', 'dnt', 'zaati', 'tumhain', 'We', 'message', 'his', 'April', 'aba', 'share', 'lagi', 'taa', 'peechy', 'Khayal', 'Report', 'waqeya', 'dino', 'gay.', 'baja', 'dosri', 'tumhri', 'nain', 'ni', 'ge.', 'shugal', 'hamil', '3rd', 'zordar', 'dano', 'badal', 'Bachan', '7', 'deegar', 'natija', 'par', 'here', 'Tayar', 'ice', 'siwa', 'country', 'kissi', 'Rahai', 'masher', 'Afghan', 'Laila', 'shaiqeen', 'bacho', 'hoy', 'mustaqbil', 'dekh', 'madad', 'dolat', 'ha,', 'janib', 'usi', 'Amir', 'dikhae', 'Chacha', 'hoga..', 'GA', 'Fatima', 'Alhamdulilah', 'NA', 'under', 'deny', 'dehaiyon', 'mal', 'Mehdi', 'wesy', 'jila', 'du', 'Jhot', 'amal', 'qayadat', 'kee', 'request', ':/', 'khair', 'sa', '%', 'Ansar', 'walk', 'beth', 'tym', 'bazi', 'olad', 'mujhey', 'chore', 'feelings', 'jaega', 'producers', 'information', 'matches', 'zalimo', 'Jin', 'rukniyat', 'lya', 'leather', 'dikhai', 'baba', 'ra', 'four', 'PM', 'Inhe', 'bahot', 'lie', 'kre', 'Rakho', 'Han', 'Honay', '2011', 'bola', 'zawal', 'score', 'tujhy', 'halat', 'hamen', 'Bilawal', 'Tum', 'rohani', 'Point', 'Ne', 'k.', 'aarha', 'season', 'alan', 'kaha', 'uske', 'nikalti', 'saalo', 'rahay', 'kesy', 'kerte', 'hei', 'smjh', 'bi', 'Bajay', 'kehny', 'ain', 'uss', 'khail', 'lekh', 'kae', 'jorhi', 'kerna', '1975', 'funn', 'parha', 'pae', 'up', 'yea', 'gii', 'pra', 'Unho', 'mahaul', 'seekh', '1969', 'hamwar', 'question', 'se.', 'roshni', 'bole', 'milay', 'Khush', 'OR', '1990', 'hahahah', 'rakhti', 'hamry', 'bitha', 'zani', 'acting', 'set', 'laty', 'ada', 'khuda', 'Miser', 'politician', 'garhi', '46', 'Baghair', 'Rehnuma', 'tell', 'maam', '?', 'ishq', 'Karkun', 'yai', 'nay', 'lety', 'Phr', 'dete', 'wifi', 'gaming', 'esa', 'Lewis', 'islami', 'Biwi', 'rhi', 'Notification', 'manhoos', 'baqi', 'kbhi', 'third', 'mukhtalif', 'khas', 'hoa', 'Mei', 'drame', 'datay', 'Faisal', 'he.', 'house', 'banda', 'Pagara', 'saal', 'Baki', 'Sal', 'been', 'per', 'masaib', 'dekhty', 'vo', 'Niazi', 'agree', 'Safdar', 'Lena', 'judagana', 'usey', '5', 'sada', 'ha..', 'admi', 'munfarid', 'rokne', '2016', 'sorat', 'kb', 'kalaam', 'lekn', 'saza', 'masjid', 'inhe', 'lain', 'pehen', 'sudhar', 'tmhari', 'Hafiz', 'mila', 'Mufti', 'Work', 'so', 'kiye,', 'Dr.', 'shadi', 'zror', 'chalo', 'karte', 'Size', 'ki', 'Jahan', 'Bijli', 'Elan', 'aap', 'tahum', 'bench', 'kapre', 'Pr', 'karey', 'chalana', 'ak', 'Nhe', 'lakhon', 'Ka', 'Kya', 'ho???', 'banday', 'banaye', '😁', 'unky', 'kharch', 'jao', 'actor', 'phly', 'himayat', 'Sir', 'dawa', 'faisla', 'bila', 'qanon', 'barish', 'kro', 'sultan', 'Bator', 'showbiz', 'Sadar', 'krdena', 'Chal', 'maddahon', '90', 'Yon', 'Supreme', 'volume', 'Aman', 'Mumlikat', 'SAB', 'Krne', 'phool', 'tajurba', 'Rai', 'send', 'Shakhs', 'meray', 'tarah', 'tar', 'abad', 'Abi', 'Pakistani', 'opoen', 'hoqoq', 'Bas', 'Zarorat', 'daur', 'International', 'Bhi', 'Iran', 'jai', 'Insaan', 'sakti', 'asraat', 'besh', 'Ya', 'Sardar', 'aalam', 'khule', ')', 'pardah', 'agy', 'jari', 'izaz', 'Raat', 'Monroe', 'shouq', '2', 'Kenya', 'Asal', 'Karnay', 'Ager', 'cover', 'se', 'chalane', 'Lahore,', 'sharif', 'markaz', 'raha', 'total', 'bolty', 'burger', 'Depp', 'mian', 'haram', 'apni', 'lagi.', 'zehni', 'lae', 'car', 'ladkiyon', 'Rabta', 'mosalsal', 'log', 'numaindagi', 'krin', 'logo', 'bai', 'president', 'chay', 'hy..', 'samaji', 'hai....', 'Ansari', 'Yar', 'La', 'theen', 'halqey', 'gaye.', 'need', 'Yaa', 'hojaye', 'ghalat', 'kush', 'train', 'BDS', 'hoga', 'lafz', 'dikh', 'dye', 'maa', 'krlo', 'timing', 'Qurbani', 'yani', 'Iski', 'Uncle', '75', 'art', 'zyada', 'Amitabh', 'saala', 'Rae', 'maze', 'Kafi', 'khasa', 'Nadeem', 'hamary', 'gira', 'iqrar', 'bnd', 'ty', 'qadri', 'Waseem', '1946', 'Ameen.', 'darmiyani', 'sazindon', 'serial', 'Agr', 'uni', 'gaey', 'Aakhri', 'Shaukat', 'hi', 'shaheed', '6th', 'chahiye', 'liey', 'karliya', 'maut', 'Bus', 'Wasim', 'Iman', 'waqt', 'real', 'rahein', 'fit', 'serials', 'watan', 'Ijazat', 'eman', 'sahb', 'hesiyat', 'hoein', 'mahaz', 'pe', 'project', 'point', 'sain', 'parhi', 'union', 'Bary', 'di', 'saab', 'Wajah', 'bta', 'daein', 'khty', 'hi,', 'es', 'jany', 'cut', 'Panjwani', 'Last', 'mujhe', 'Sirf', 'heroin', 'lgty', 'Bano', 'rehte', 'Bukhari', 'honi', 'being', 'panah', 'itna', 'maza', 'jayen', 'keep', 'deliver', 'dai', 'a', 'chaly', 'karwa', 'lga', 'taraqi', 'cola', 'mutafiqa', 'maar', 'pai', 'taraf', 'larki', 'kaisa', 'mareez', 'bemar', 'waisay', 'promo', 'paisay', 'punjab', 'Just', 'DY', 'Aey', 'Inka', 'much', 'Please', 'kitna', 'pack', 'Jauhar', 'baat', 'asy', 'better', 'nigran', 'watni', 'Shahadat', 'kabhi', 'Peer', 'Hindustan', 'bore', 'Billion', 'zid', 'fvrt', 'rhy', 'hain?', 'khatra', 'Assistant', 'Aaye', 'plzz', 'khez', 'bete', 'khidmaat', 'haina', 'yes', 'I', 'musalman', 'singing', 'hai.', 'provide', 'wo', 'degree', 'nikalte', 'dam', 'moti', 'adaa', 'rahi', 'jahaz', 'Din', '1000', 'Rahe', 'Imran', 'manzor', 'dekhy', 'KPK', '500', 'mood', 'jamaton', 'arsey', 'misaal', 'Sim', 'Assembly', 'idea', 'Arsal', 'shreef', 'Marshal', 'Edward', 'mukhalif', 'aise', 'Lala', 'gud', 'check', 'slam', 'Krny', 'hmara', 'gyi', 'rujhaan', 'fr', 'Saghar', 'halaat', 'Tab', 'ga?', 'yahn', 'Lye', '1971', 'Town', 'jhandey', 'maharat', 'chah', 'shirt', 'char', 'Lahore', 'dakhil', 'Haroon', 'are', 'paas', 'can', 'Hmari', 'Hamare', '.....', 'peshkash', 'try', 'mauseeqi', 'Bhai', 'dna', '2no', 'aesi', 'me', 'hey', 'mulazmat', 'Hahah', 'words', 'shobey', \":'(\", 'Namaz', 'zabardasti', 'hukomat', 'diya', 'aesa', 'Pehle', 'gari', 'izat', 'kya', 'gai', 'lahore', 'karti', 'chupe', 'Halat', '1997', 'pmln', 'Noor', ':(', 'Khuda', 'Emma', 'Indies', 'Baqi', 'kidr', 'han', 'chaa', 'dekhne', 'dosra', 'she', 'Tujh', 'rha', 'huq', 'cheez', 'ben', 'rakhna', '1952', 'hooa', 'India', 'zarye', 'KR', 'lein', 'American', 'leye', 'qabol', 'krte', 'school', 'Sawar', 'day', 'nam', 'Chief', 'bhut', 'Anti', 'huein', 'Ge', 'Abu', 'Dena', 'Oct', 'unho', 'izafa', 'York', 'championship', 'aaghaz', 'karin', 'Govt', 'dollars', 'muqarar', 'silsile', 'wasool', 'kindly', 'mulazim', 'fast', 'puri', 'Azad', 'Raja', 'Itna', 'batae', 'halqa', 'hy,', 'dobara', '18', 'Donon', 'kitab', 'Karkunan', 'khara', 'Jab', 'ECP', 'adarat', 'eid', 'ayi', 'mujay', 'bri', 'sochti', 'dyn', 'dekhay', '20', 'yaadgar', 'dua', 'Iska', 'shauq', 'apny', 'hti', 'qadam', 'Asif', 'Mumbai', 'dj', 'farokht', 'candidate', 'jaan', 'majboor', 'Bharat', 'khusosi', 'hein', 'chup', 'Meera', 'Steven', '1964', 'yahan', 'both', 'Card', 'February', 'ny', 'kon', 'but', \"don't\", 'w8', 'jati', 'aurat', 'jalsay', 'D', 'barhti', 'koshish', 'ku', 'kisko', 'kami', 'zaruri', 'Siddiqui', 'dosre', 'iska', 'Lag', 'ilmi', 'players', 'cheen', 'p', 'Zada', 'Awww', 'suit', 'masla', 'Tha', 'Shuro', 'Mohtarma', 'kaho', 'fake', 'dehai', 'muqablon', 'jaa', 'kahen', 'Mir', 'Rangers', 'uper', 'btai', 'tab', 'laikin', 'Woh', 'kur', 'Bilal', 'majmoi', 'uzma', 'omg', 'motasir', 'background', 'bhar', 'jar', 'Iqbal:', 'Masha', 'Malka', 'Amin', 'mard', 'andaaz', 'On', 'way', 'Apne', 'kia.', 'Janab', 'makeup', 'milkar', 'rast', 'Senior', 'minute', 'mah', 'hue', 'West', 'such', 'paye', 'sake', 'krdia', 'Zero', 'Nehru', 'jante', 'sasti', 'tmhara', 'akele', 'rone', 'yh', 'ishaq', 'mamle', 'Calcutta', 'dum', 'rakhne', 'Magar', 'laga', 'In', 'fasadaat', 'Roza', 'gane', 'uthana', 'nashar', 'pyar', 'athlete', 'hafiz', 'khush', 'qarardad', 'Ky', 'roka', 'Bila', 'mokammal', 'hui', 'mother', 'Uss', 'bethy', 'Me', 'baap', 'seekha', 'road', 'azam', 'himat', 'track', 'Alam', 'khari', 'merey', 'Parvez', 'laken', 'geo', 'Action', 'hate', '2018', 'qabool', 'Commissioner', 'Saqib', 'cricketer', 'Pyar', 'Aaj', 'Waldain', 'shareek', '😂😂😂', 'ready', 'book', 'karai', 'maslan', 'niklay', 'Aftab', 'Itne', 'Judge', 'nhii', 'tareekhi', 'hahah', 'inko', 'Rehman', 'hospitals', 'word', 'hova', 'gunah', 'krty', 'Secretariat', 'deeni', 'geography', 'jang', 'Same', 'gea', 'srif', 'aam', 'parhe', 'crush', 'herat', 'debate', 'os', 'Go', 'nahin', 'yahe', 'pey', 'fare', 'haraya', 'hen', 'mutadid', 'tmhary', 'your', 'aboor', 'imran', 'Hahahahah', 'lgti', 'larne', 'Torsam', 'kren', 'shakal', 'speed', 'khelne', 'Raha', 'masrof', 'Sahib', 'th', 'Janib', 'Nisar', 'choti', 'Khamosh', 'tou', 'an', 'shukeriya', 'muqable', 'zardari', 'humy', 'form', 'imtiaz', 'inshallah', 'woman', 'Di', 'given', 'pehlay', '2002', 'khatme', 'dress', 'peda', 'Series', 'mujy', 'kea', 'bhai.', 'Ghulam', 'agar', 'dekhaye', 'lgta', 'Jokhio', 'Inho', 'ayee', 'posts', 'cheeks', 'dy.', 'Wese', 'Hahahhaha', 'rakh', 'agye', 'rehne', 'hogya', 'tarjeeh', 'Muttahida', 'haya', 'prh', 'age', 'model', '1989', 'yahi', 'tehrik', 'husan', 'maussir', 'Karain', 'Martial', 'adakari', 'Wafa', 'islamabad', 'very', 'K', 'silsila', 'jawab', 'Hashim', 'AGR', 'bhol', '1948', 'lamha', 'mayar', 'Out', 'ustani', 'Sonia', 'samaj', 'Bacho', 'aag', 'mari', 'rakhe', 'Maine', 'lout', 'ajj', 'barson', 'jay', 'will', 'aulad', 'quom', 'pyari', 'mien', 'jo', 'junior', 'tasawor', 'aae', 'meine', 'thi.', 'maloom', 'kahan', 'khandan', 'Major', 'Tajir', 'tu', 'me.', 'arkaan', 'Retirement', 'sunane', 'hua,', 'gift', 'scene', 'waqeyaat', 'rehnuma', 'bande', 'leay', 'Pvt', 'giraftar', 'qadar', 'Kam', 'Admin', 'Zaman', 'mazhab', 'mujh', 'Shift', 'khany', 'assembly', 'Birmingham', 'Qayamat', 'stuff', 'Hn', 'When', 'bhej', 'fee', 'dukh', 'Jahangir', 'cousin', '1993', 'Oh', 'Haal', 'tmhy', 'aaya', '70', 'channel', 'Babar', 'kerne', 'unhen', 'hahahahaha', 'Akhri', 'Gaya', 'Esakhelvi', 'malik', 'Elaan', 'huwa', 'student', 'fatah', 'ppr', 'ghanta', 'quality', 'Philippine', 'wapis', 'bss', 'Roz', 'dekhna', 'Well', 'shan', 'pesa', 'sheri', 'bot', 'bohot', 'mehnat', 'aaey', 'murs', 'Kardi', 'jeetne', '(4)', 'jiska', 'likhna', 'hindu', 'dehat', 'Talab', 'ge', 'Hukkam', 'samne', 'atey', 'kama', 'shakhs', 'py', 'nd', 'mily', 'khushi', 'But', 'ho,', 'parhaya', 'mertaba', 'right', 'jaga', 'lagtay', 'khol', 'committee', 'lamba', 'pasand', 'Bhutto', 'Nobel', 'tak', 'gait', 'card', 'chez', 'ke', 'shuba', 'No', 'Bolti', 'dikhana', 'puch', 'kaisy', 'betha', 'huwe', 'ur', 'pooray', 'masaiyl', 'password', 'kafi', 'zarurat', 'likhi', 'Qiyam', 'wale', 'tayar', 'jacket', 'Japan', 'hukumat', 'thein', '29', 'gae,', 'Karta', 'mansooba', 'restaurant', 'afsos', 'behan', '�EEE€�EEE', 'Ho', 'General', 'baray', 'karan', 'aen', 'Is', 'bahar', 'kaya', 'aqwami', 'almi', 'hasil', 'next', 'Sindhi', 'InshAllah', 'musalsal', 'Khan,', 'bati', 'tho', 'inqalab', 'aie', 'kehty', 'chezon', '3', 'pakra', 'kha', 'parhny', 'Sae', 'dn', 'poore', 'Bombay', 'lena', 'khatoot', 'Hahaha...', 'prhti', 'ziyada', 'focus', '1973', 'Aala', 'National', 'Hahahaha', 'Baje', 'Misr', 'ho...', 'nzr', 'medium', 'naw', 'daraz', 'tabdeeli', 'park', 'For', 'dabao', 'nazar', 'karen', 'Kyun', 'Janay', 'Inn', 'Pride', 'yeh', 'Meri', 'sakhta', 'Road', 'moun', 'krdy', 'fb', 'farig', 'moqam', 'raat', 'Hi', 'Agarcha', 'jis', 'Awam', 'guzarna', 'laiq', 'City', 'lakh', 'dair', 'NY', 'leak', '1', '2007', 'nae', 'chahte', 'kuch', 'baji', 'hun,', 'Pta', 'garmi', 'isny', 'national', 'tabdeel', 'Old', 'judge', 'Aakhir', 'johar', 'ticket', 'nigari', 'rahey', 'Diya', 'manane', 'kursi', 'Ghar', 'thay.', 'wash', 'aapke', 'uska', 'huay', 'murda', 'karke', 'tha', 'banya', 'Funny', 'Tehreek', 'Tb', 'bil', 'kru', 'Insaaf', 'rat', 'rahay.', '1958', 'Division', 'asaan', 'tow', 'pane', 'kesi', 'mosiqi', 'ramadan', 'Brazil', 'bunyad', 'patli', 'bagh', 'daal', 'aana', 'li', 'Hyderabad', 'pori', 'buhat', 'gy', 'gana', 'hotel', 'Nazar', 'bal', 'NWFP', 'muslim', 'dafan', 'jin', 'chunke', 'jamhori', 'hay', 'employees', 'eke', 'Anay', 'Yr', 'yaar', 'Lux', 'Akram', 'aelaan', 'Gujranwala', 'adarey', 'gym', 'pan', 'mutabiq', 'inse', 'teesri', 'karty', 'gar', 'kamyab', 'Bibi', 'bagair', 'haan', 'gaya,', 'Ul', 'khabees', 'mehsoos', 'paai', 'de', 'pesh', 'Ittehad', 'humare', 'pick', 'Sep', 'taiz', 'dikhne', '1st', 'tjhy', 'Maroof', 'Yh', 'Jana', 'ahteram', 'cinema', 'Rashid', 'auqaat', 'hai?', 'baha', 'thread', 'nh', 'show', 'Mara', 'hina', 'silver', 'dal', 'shukriya', 'Ishq', 'adakara', 'hogai', 'Samajh', 'guftugo', 'naam', 'Russian', 'baith', 'haar', '80', 'rabta', 'bolna', 'Commission', 'romance', 'army', 'Mazi', 'bc', 'chalen', 'Samad', 'Farooq', 'Jang', 'would', '1943', 'sahe', 'do', 'Imkan', 'bnay', 'Nov', 'it', 'badshah', 'thek', 'upload', 'batsman', 'S', 'hamle', 'honay', 'rukh', 'lete', 'Yahi', 'behtar', 'NRO', 'maqboliyat', 'wabista', 'Shabana', 'kahon', 'Aoa', 'devi', 'athletes', 'intezar', 'rahe', 'same', 'walon', 'wearing', 'Pir', 'hahaha', 'Say', 'nhn', 'rukun', 'khatm', 'thnx', 'mein.', 'Shukriya', 'Yeah', 'fitness', 'dono', 'jahad', 'farmaya', 'Ghazal', 'kia', 'dusri', 'Huwa', 'Miyan', 'kyu', 'phel', '1962', 'wakai', 'family', 'jhoot', 'Jan', 'pohancha', 'waisa', 'shumar', 'Parvaiz', 'milega', 'loo', 'xD', 'bs', 'khele', 'inho', 'sensor', 'siyah', 'Uzma', '60', 'pese', 'bike', 'Shikast', 'hwa', 'phela', 'tarhan', 'janti', 'hogye', 'Johnny', '36', 'kah', 'paka', 'Ata', 'sakte', 'beshk', 'Khan', 'red', 'kray', 'apna', 'huta', 'sunn', 'Sb', 'KIA', 'god', 'room', 'California', 'Maah', 'Saal', 'kahein', 'Walon', 'ay', 'matter', 'Khalen', 'o', 'ghayab', 'Ikhlaq', '61', 'nehayat', 'Imtiaz', 'management', 'opposition', 'Aslam', 'sargarmiyon', 'Issi', 'akhri', 'Hmesha', 'Shirkat', 'mukammal', 'aakhir', 'khana', 'Ada', 'ilm', 'rahe,', 'saky', 'aty', 'jesa', 'Condoleezza', 'hota,', 'Zyada', 'men', 'hee', 'Bi', 'tau', 'hyn', 'tumhari', 'afia', 'akhrajat', 'ha...', 'thora', 'Allah', 'waghera', 'ikhteyar', 'pahonche', 'dunya', 'muntakhib', 'congress', 'falahi', 'khyal', 'aglay', 'celebrity', 'hota', 'wazeer', 'tv', 'Jitna', 'ao', 'glass', 'dosto', 'rokna', 'pages', 'itnee', 'Qk', 'beron', '22', 'door', 'hara', 'Malala', 'Chunache', 'Kitab', 'izhar', 'din', 'bohat', 'ground', 'geya', 'bhot', 'policy', 'hogaya', 'dastakhat', 'station', 'Mana', 'Khan:', 'naseeb', 'aalmi', 'taqdeer', 'bais', 'pehla', '1931', 'Post', 'say', 'gi.', 'Raju', 'wapas', '......', 'munh', 'baal', 'Agaz', 'Koe', 'Hoon', 'kiya,', 'khane', 'zaror', 'fariza', 'mazoor', 'mureed', 'Yousuf', 'Kia', 'working', 'Ko', 'guzarish', 'kehtay', 'walda', 'waja', 'Jari', 'rakha', 'Raza', 'for', 'd', 'bahut', 'FIFA', 'krwana', 'Rasheed', 'keon', 'da', 'no', 'i', 'PR', 'ghalti', 'type', 'das', 'Insha', 'ln', 'UP', 'yehan', 'Nd', 'about', 'H', 'Hahahahhaha', 'barri', 'mjh', 'dana', '1956', 'sar', 'sabab', 'karane', 'g', 'apnay', 'maari', 'tusi', 'sambhal', 'jain', 'ehsas', 'Vo', 'sai', 'Suhrawardy', 'gehri', 'play', 'aisy', 'Had', 'Intikhab', 'wohi', 'hain,', 'karay', 'howa', \"didn't\", '2001', 'Gandhi', 'paper', 'Karenge', 'Sarhad', 'larna', 'riwayat', 'asi', 'salamat', 'aik', 'Mohammed', 'Tamam', 'wala', 'qiyadat', 'wajood', 'Zia', 'fikar', 'mosam', 'Ban', 'dosro', 'hospital', ':P', 'part', 'huwa.', 'Rasool', 'taluqat', 'khudi', 'Tahum', 'bollywood', 'agency', 'yd', 'tOo', 'Hamari', 'offer', 'Khali', 'bad', 'teams', '12', 'bolin', 'place', 'T', '1900', 'Adam', 'ja', 'masoom', 'preshan', 'bhutto', 'isa', 'banate', 'radio', 'Captain', 'kabi', 'Sharif', 'hm', 'adhori', 'aisa', 'jadeed', 'parhai', 'im', 'dore', 'Jati', 'parh', 'kamiyab', 'boli', 'board', 'q', 'bora', 'dea', 'mashoor', 'chai', 'ittefaq', 'Pak', 'diye', 'banay', 'barha', 'qasim', 'Cricket', 'sbko', 'Inshallah', 'lol', 'khela', 'Britannia', 'him', 'stallone', 'krein', 'shaya', 'Film', 'Fori', 'thik', 'job', 'paise', 'please', 'darja', 'banny', 'angrez', 'ta', 'khata', 'keye', 'ham', 'mar', 'kiye', 'ker', 'daikho', 'coach', 'Robin', 'bachaye', 'guzare', 'nahe', 'Kiya', 'Angelina', 'Wow', 'usse', 'mutaliq', 'pehly', 'Pasand', 'Ismail', 'Maghfirat', 'Surah', 'Mianwali', 'phir', 'ayat', 'karoo', 'ziyadah', 'Qabal', 'shoes', 'achay', 'lota', 'adat', 'waqar', 'poray', 'sanad', 'mi', 'make', 'degar', 'le', '24', 'joke', 'trf', '1960', 'malka', 'aya.', 'pas', 'azad', 'Ay', 'pakar', 'Show', 'namak', 'shaks', '26', 'agaz', 'bachay', 'angrezi', 'bhaii', 'aqawami', 'phupho', 'That', 'police', 'jaisi', 'mazhabi', 'behtareen', 'rahi.', 'size', 'jahan', 'price', 'nawaz', 'Rocky', 'khaty', '1992', 'rhe', 'video', 'khuwahish', 'Aya', 'jasakta', 'Bro', 'Ker', 'ksi', 'Mujhe', 'baatein', 'saloon', 'khuwateen', 'chuki', 'pher', 'rooh', 'nation', 'qismat', 'kpk', 'ankh', 'khul', 'status', 'Hahahahaha', 'dost', 'barey', 'yaqeen', 'review', 'guzar', 'bataen', 'zara', 'aisi', 'kch', 'kardo', '-', 'kara', 'daily', 'bin', 'Doctor', 'Waly', 'dadi', 'Number', 'Yes', 'Karti', 'House', 'nhi', 'Bohat', 'chaie', 'ti', 'larkiyan', 'tw', '2014', 'aaye', 'eh', 'inkar', 'goli', 'KA', 'shamoliyat', 'karny', 'dressing', 'Mar', 'bher', 'bni', 'hijab', 'mhbt', 'sari', 'Hashmi', 'qarar', 'ka.', 'Pakistan', 'jeet', 'mazeed', 'khayalat', '...', 'socha', 'jhot', 'jaddo', 'line', 'Shukar', 'chand', 'gaie', 'shaded', 'razi', 'pathan', 'yah', 'jaye.', 'product', 'ray', 'rakhte', 'roza', 'Zinda', 'piyar', 'anty', 'Tadad', 'hadees', 'ese', 'votes', 'Lee', 'Video', 'raham', 'Aisi', 'Surat', 'ka', 'khawateen', 'qismati', 'Salman', 'kahe', 'alag', 'the,', 'uhde', 'nikle', 'bolne', 'darkhast', 'oo', 'mager', 'episode', 'waise', 'Shabbir', 'Hero', 'maidan', 'umer', '8', 'doran', '/', 'asar', 'khilaf', 'nama', 'online', 'bazat', 'aashna', 'krni', '50', 'ammi', 'fankarana', 'wasi', 'chat', 'Walid', 'walid', 'civil', '23', 'yafta', 'university', 'mujhse', 'Pehlay', 'shoro', 'Hameed', 'My', 'jae', 'saalon', 'nazal', 'center', 'Team', 'Ham', 'available', 'muhaide', 'bra', 'France', 'Maa', 'problem', '1978', 'Acting', 'pk', 'mushtamil', 'mumtaz', 'old', 'couple', 'nasal', 'mushkil', 'Tau', 'beti', 'want', 'skty', 'the', 'market', '13', 'rozana', 'shor', 'bhn', 'chairman', 'arts', 'sathiyon', 'Agar', 'lkn', 'asal', 'gharelo', 'puranay', 'aurton', 'Shaam', '😂', 'uncle', 'KI', 'aakar', 'wajha', 'friends', 'Band', 'Hashir', 'Kise', 'jisko', 'in', 'intekhab', 'yateem', 'Zameen', 'bayak', 'hai..', 'khubsorat', 'karna', 'HO', 'Party', 'lay', 'MA', 'content', 'mei', 'attend', 'tuje', 'bethe', 'saka', 'sae', 'Afghanistan', '1954', 'kdr', 'Jamat', 'sakay', 'Ibteda', 'milna', 'west', 'maqasid', 'dakh', 'Quaid', 'Polling', 'Apni', 'rakhta', 'prta', 'mere', 'Azeem', 'mri', 'Darmiyan', 'acha', 'Hota', 'kin', 'dahai', 'khali', 'bht', '1961', 'na...', 'hmari', 'case', 'niche', 'Past', 'filmon', 'Hun', 'balke', 'exactly', 'farq', 'yehi', 'Price', 'comment', 'kharid', 'uski', 'mzaq', 'Khilaf', 'thie', 'U', 'jor', 'haq', 'usay', 'hissay', 'pehchan', 'tasleem', 'Kashmir', 'saki', 'jb', 'Officer', 'Rawana', 'choro', 'waqaii', 'Super', 'End', 'koi', 'khilari', 'Dist', 'Jo', 'Saas', 'promotion', 'injam', 'kiya.', 'kirdar', 'Javed', 'Bollywood', 'ne', 'Nikal', 'Suba', 'athletics', 'mj', 'JO', 'Rashdi', 'win', 'paki', 'of', 'phar', 'wait', 'beauty', 'final', '250', 'pocha', 'Molana', 'especially', 'muhabbat', 'Tk', 'hun', 'wasy', 'noon', 'samna', 'peer', 'kh', 'Haram', 'Eid', 'Ek', 'also', 'Mili', 'q?', 'George', 'rakhtay', 'Begum', 'khanay', 'kijiye', 'saat', 'unhy', 'Question', 'watch', 'Es', 'choor', 'Awami', 'toba', 'andaz', 'abdul', 'chukka', 'Shanakhti', 'ok', 'dosti', 'istamal', 'chahiye.', 'sarkari', 'ki,', 'namzad', 'Aunty', 'raqam', 'Aurat', 'saken', 'khob', 'itnay', 'li.', 'osy', '2004', 'waqf', 'Hassan', 'AB', 'Jerry', 'or', 'para', 'Aur', 'squash', 'Index', 'Zealand', 'Tm', 'aafia', 'Sylvester', 'utar', 'teray', 'mera', 'awaaz', 'intehai', 'hazir', 'Or', 'league', 'loves', 'off', 't', 'karkun', 'rkho', 'sunny', 'slow', 'intezam', 'zuban', 'loose', 'iz', 'bik', 'Malir', ':-P', 'shayad', 'federation', 'janab', 'Bin', 'mulki', 'hat', 'taqreban', 'dain', 'unkay', 'Very', 'Mujhy', 'kharja', 'bura', 'Sath', 'krna', 'baar', 'conditions', 'Sindh', 'lagein', 'dil', 'sey', 'Duniya', 'hawa', 'unka', 'saath', 'sahib', 'omer', 'ney', 'Khud', 'Karen', 'Naik', 'Runs', 'kbi', 'khazana', 'saddar', 'page', 'kaise', 'Mari', 'ajaye', 'machine', 'gya', 'Azam', 'Taleemi', '1930', 'director', 'comedy', 'mili', 'rizq', 'krta', 'Ahmed', 'gun', 'mazi', 'kheelon', 'kamiyabi', 'Ullah', 'parents', 'lage', 'hair', 'zarur', 'kale', 'Jaldi', 'la', 'chaar', 'pti', 'guzarne', 'dakhla', 'sekha', 'krain', 'Dil', 'Prada', 'hath', 'khelari', 'hatane', 'Theek', 'piano', 'Alkareem', 'DJ', 'bolon', 'hu', 'code', 'AP', 'v', 'Umeedwar', 'filmein', 'jan', 'hazrat', 'karam', 'gaen', 'dekho', 'zehan', 'ras', 'tarjuman', 'Hukum', 'Aik', 'karu', 'kai', 'tha.', 'Mahmood', 'jitni', 'Tumhen', 'Sani', 'awards', 'girl', 'ayein', 'Sakta', 'clear', 'lgi', '1939', 'karkardegi', 'qaumi', 'hna', 'dekhta', 'rah', 'Nusrat', 'Hukomat', 'arazi', 'shah', 'bibi', 'Misbah', 'Press', 'songs', 'namoona', 'hy.', 'Ajj', 'Sary', 'nakam', 'shaiyqeen', 'Baap', 'martial', 'tb', 'liay', 'khwab', 'Lay', 'guzara', 'dehshat', 'itne', 'sunai', 'R', 'chuky', 'Mahfooz', 'rae', 'night', 'istemaal', 'television', 'zaida', 'awami', 'wahid', 'ap', 'khatoon', 'dopher', 'Hain', 'Ha', 'Newyork', 'raha,', 'hain.', 'Havaldar', 'salahiyat', 'jnb', 'Rice', '<3', '(???)', 'more', 'mje', 'PPP', 'kiya', 'buri', 'dalne', 'haseen', 'Kay', 'thats', 'pehle', 'Pesh', 'O', 'manzar', '1998', 'achi', 'deen', 'Pata', 'paish', 'Hawa', 'Area', 'selfie', 'activate', 'mafad', 'Hind', 'band', 'hai', 'soorat', 'lakin', 'Nai', 'rukhsat', 'gi', 'shakhsiyat', 'kare', 'movie', 'mind', 'Vladimir', 'bhaio', 'Tu', 'Send', 'Allha', 'nikalta', 'km', 'future', 'talent', 'Islami', 'Council', 'Baat', 'Doctors', 'black', 'taiyar', 'bolo', 'paida', 'do.', 'military', 'mutasir', '..', 'all', 'never', 'fouji', 'lyty', 'choron', 'aysa', 'dilon', 'What', 'English', 'Iqbal', 'utha', 'batai', 'Yahan', 'b', 'Edhi', 'political', 'banti', 'fojiyon', 'runs', 'guys', 'kryn', 'Phir', 'intekhabaat', 'mushkilat', 'tari', 'jamhuriat', 'ic', 'helmet', 'qatil', 'public', 'taluq', 'Operation', 'seat', 'salahiyaton', 'Shaheed', 'Musharraf', 'namonay', 'ati', 'January', 'Bank', 'tip', 'abbasi', 'wapsi', 'land', 'pooch', 'leya', 'mangwaye', 'hone', 'skin', 'howa.', 'zra', 'azeem', 'Anwar', 'hatyar', 'Pervez', 'jasoosi', 'Tareen', 'Fauji', 'raasta', 'dastor', 'likh', 'dauran', 'shirts', '27', 'match', 'party', 'sach', 'bar', 'filmsaaz', 'banae', 'Normal', '122', 'chae', 'dor', 'tek', 'paa', 'ibtedai', 'mat', 'bare', 'jaisa', 'Star', 'jati.', 'thank', 'marzi', \":')\", 'taley', 'Rauf', 'hae', 'Intizamia', 'song', 'puray', 'Guzar', 'khaas', 'royal', 'Law', 'liyeh', 'janam', 'aage', 'axha', 'Murshid', 'satah', 'Jama', 'October', 'fazol', 'hisab', 'direct', 'jaty', 'tour', 'qabza', 'jamhoriyat', 'happy', 'Pic', 'actresses', 'pahli', 'papa', 'loug', 'Rang', 'kerta', 'karachi', 'Bazmi', 'shoq', 'Kerne', 'yom', 'buland', 'Asim', 'senior', '37', '11', 'Aunti', 'come', 'achanak', 'shb', 'Molvi', 'Happy', 'haqiqat', 'lazmi', 'order', 'shukria', 'gharano', 'Mein', 'Mulk', 'now', 'bolte', '1919', 'open', 'lihaz', 'wafat', 'phr', 'lac', 'mgr', 'boht', 'faida', 'select', 'andar', 'cricket', 'gye', 'Land', 'bhala', 'baz', 'sanam', 'toot', '1950', 'Faisalabad', 'Afridi', 'retired', 'Tareekh', 'Benazir', 'Mai', 'faraham', 'Koi', 'Hukumat', 'Razia', 'strong', 'short', 'meri', 'kho', 'aane', 'Rpt', 'bethi', 'misal', 'skti', 'change', 'tabi', 'Radio', 'maqsad', 'tumhara', 'darmiyan', 'hamain', 'he', 'Kahan', 'makhsoos', 'Apki', 'E-Knights', 'N', 'thi..', 'Haha', 'baqaidah', 'kitni', 'not', 'suggest', 'masrofiyat', 'pegham', 'Bayan', 'parties', 'tahreek', 'khayal', 'tere', 'Putin', 'than', 'mayari', 'rehtay', 'rehm', 'smj', 'shame', 'Gair', 'tartan', 'deya.', 'Ayub', 'bn', 'Pher', 'k', 'apk', 'Allama', 'qalandar', 'Sahi', 'and', 'pur', 'ache', 'Watan', 'dali', 'Points', 'as', 'Kary', 'sherry', '.', '300', 'BA', 'marks', 'Awaz', 'Nasir', 'Rana', 'Qasmi', 'Russia', 'why', 'karni', 'Ta', 'over', 'barai', 'takhmina', 'Gay', 'na', 'karwaya', 'Zaror', 'years', 'daikha', 'July', 'shukr', 'arz', 'dya', 'chye', 'Beshak', 'shehar', 'dhondne', '\"', 'title', 'num', 'tadfeen', 'bag', 'Hum', 'khabar', 'agle', 'Teri', 'ameer', '😂😂', 'Karna', 'alla', 'contact', 'Mubarak', 'first', 'parna', 'CNIC', 'arahi', '100%', 'most', 'nijat', 'Apna', 'sat', 'her', 'muqabil', 'Umar', 'Sahab', 'paya', 'Qaumi', 'insani', 'Muhammad', 'Wale', 'Laken', '4th', 'action', 'Mohammad', '85', 'insaan', '59', 'zimedari', 'uth', 'thin,', 'editor', 'Drame', 'waze', 'Princes', 'ga', 'bach', 'khushboo', 'markazi', 'chahye', 'Haji', 'bachi', 'bator', 'Unhen', 'top', 'bawajod', 'adbi', 'shudah', 'Aziz', 'beta', 'equal', 'gai.', 'dale', 'boy', 'Sakhi', 'Waise', 'Mujay', 'aye', 'agla', 'su', 'aisey', 'actors', 'surat', 'derh', 'rahee', 'h.', 'Wah', 'baqaida', 'bataya', 'diya.', 'Tumhari', 'pore', 'John', '“main', 'muhim', 'sub', 'khala', 'Nae', 'semester', 'izhaar', 'Karne', 'aatay', 'Behan', 'cheese', 'msg', 'serious', 'ALLAH', 'waqat', 'ataa', 'hui,', 'karle', 'person', 'toh', 'saz', 'tarane', 'print', 'dae', 'bhee', 'baje', 'Taj', 'To', 'box', '1968', 'kardiya', 'nikaal', 'rai', 'chukey', 'policies', 'muat', 'bato', 'good', 'namaz', 'kashmir', 'bharpor', '125', 'Waheed', 'rana', 'let', 'phele', 'T-shirt', 'jaey', 'mulk', 'TV', 'id', 'screen', 'zayada', 'Billo', 'Rs', 'Kisi', 'mjhe', '16', 'suna', 'RA', 'saktay', 'janey', 'bilkul', 'Shayad', 'awaam', '19', 'Attaullah', 'college', 'mun', 'Karobar', 'zameen', 'hindi', 'too', 'Lakh', 'kisi', 'funny', 'karne', 'give', 'phans', 'waala', 'Sorry', 'kinza', 'August', 'bus', 'Aby', 'wi', 'raza', 'special', 'Mujy', 'Muslim', 'Aor', 'dety', 'dars', 'agai', 'IK', 'aate', 'Bacha', '1985', 'iss', 'leti', 'Bad', '😂😂😂😂😂', 'sath', 'wazan', 'Jis', 'marna', 'bayan', 'ghr', 'Quetta', 'sahiba', 'hawalay', 'Hy', 'doctor', 'se,', 'sathi', 'gey', 'chahate', 'IPL', 'lia', 'gay', 'Madam', 'naib', 'bojh', 'jail', 'Anokhi', 'n', 'on', 'aghaz', 'videos', 'Right', 'Hasan', 'Syed', 'Saeed', 'dekhe', 'November', 'loha', 'Baar', 'Ye', 'data', 'tamam', 'karwai', 'kardia', 'qadamat', 'teachers', 'dushman', 'Hafeez', 'rakhi', 'role', 'maaf', 'pheli', 'Rona', 'Aus', 'Asan', 'nayi', 'dusron', 'career', \"it's\", 'He', 'kafeel', 'Abid', 'sabot', 'dili', 'zalmi', '1977', 'apko', 'Nawa', 'ata', 'hain', 'lok', 'kary', 'inka', 'Yhi', 'mureedon', 'taqub', 'Apnay', 'leader', 'Tribunal', 'haft', 'qisam', 'agr', 'cast', 'Beta', 'Haq', 'G', 'Free', 'Bangladesh', 'nazer', 'tameer', 'qeemat', 'bahu', 'Al', 'Likha', 'hifz', 'shanakht', 'mobile', 'Nizami', 'Bana', 'sirf', 'chalai', 'chalte', 'Aye', 'Arab', 'kernay', 'MQM', 'aunti', 'Baray', 'Hone', 'daura', 'private', 'comments', 'Maulana', 'Bal', 'half', 'umar', 'batay', 'hogaye', 'sota', 'larke', 'shorat', 'baiys', 'Korangi', 'mazak', 'Hidayat', 'bh', 'Us', 'zikar', 'fawad', 'dari', 'trust', 'Deen', 'Aanay', 'khabi', 'mny', 'safar', 'pak', 'hojana', 'TO', 'Ziada', 'bardasht', 'karnama', 'full', 'chaiye', 'Hal', 'Qureshi', 'pareshan', 'wise', 'jangi', 'Nay', 'App', 'bethay', 'Dono', 'Pti', 'Man', 'sport', 'inhein', 'Kabhi', 'mardon', 'hoi,', 'paisa', 'Market', 'raah', 'dar', 'Gul', 'Peshawar', 'teen', 'plx', 'nasheen', 'bun', '!!!', 'court', 'shikasht', 'pta', 'bol', 'back', 'A', 'bt', 'Nakam', 'University', 'jinho', 'Baba', 'guzra', 'Stallone', '1974', 'walo', 'normal', 'wickets', 'lutf', 'zamana', 'Rozay', 'duty', 'theak', 'Facebook', 'Khi', 'foran', 'Nine', 'dene', 'bacha', 'aala', 'PSL', 'List', 'many', 'tarf', 'khitab', 'different', 'hojata', '100', 'salam', 'samajhti', 'krdi', 'mills', 'Lollywood', 'tarbiyat', 'janta', 'pohanchne', 'kheelna', 'fashion', 'Mila', 'jawan', 'rho', 'hamri', 'Hoga', 'hy?', 'Khair', 'qaboo', 'Dhaka', 'thnk', 'event', 'editing', 'bheja', 'Bar', 'circuit', 'siasat', 'sanbhal', 'level', 'psl', 'honey', 'hongy', 'war', 'jaldi', 'apply', 'Kar', 'zamin', 'see', 'forum', 'daina', 'Khas', 'isko', 'rupey', 'qemat', 'captain', 'Lalak', 'ki.', 'Kami', 'website', 'Kaha', 'isay', 'Baz', 'again', 'leta', 'shuhrat', '1983', 'kher', '17', 'Qayam', 'kapron', '21', 'Samet', 'gayein', 'deta', '2015', 'hamaray', 'humko', 'lagaya', 'y', 'Barish', '....', 'chal', 'terha', 'ikhtetam', 'madam', 'issi', 'Wo', '10', 'unhein', 'rate', 'muje', 'council', 'yha', 'zaban', 'kise', 'Control', 'feeling', 'shair', 'rkh', 'Hr', 'uff', 'teacher', 'Pori', 'sakta', 'law', 'kerain', 'pic', '1963', 'best', 'amp', 'Bil', 'Dawa', 'pagara', ':)', 'zada', 'pir', '200', 'kun', 'sir', 'kartey', 'prince', 'wahan', 'don', 'chahey', 'mizaj', 'KO', 'isi', 'Gai', 'M', 'chahia', 'Elaqay', 'kaun', 'Dosra', 'kren.', 'dekhte', 'thi', 'read', 'payara', 'peshawar', 'jana', 'Khatam', 'barhi', '1981', 'tareekh', 'bajae', 'saneha', 'nuqta', 'air', 'aamad', 'mumkin', 'kerny', 'galat', 'mein', 'CD', 'mainy', 'crore', 'hotay', 'boly', 'people', 'Badar', 'arab', 'Group', 'bata', 'nu', 'plzzz', 'amomi', 'free', 'star', 'rahy', 'month', 'ARD', 'rasta', 'tehat', 'tanzeem', 'pora', 'bnda', 'honge', 'Good', 'And', 'filmy', 'bina', 'thay', '9', 'shukar', 'Sattar', 'Aisa', 'tabiyat', 'Vote', 'bataon', 'Commander', 'tayyarey', 'jama', 'tuny', 'BHI', ':v', 'angez', 'sis', 'by', 'done', 'Sohail', 'Ki', 'qabal', 'Daro', 'Ibn-e-Safi', 'As', 'samnay', 'Salam', 'Hafeez:', 'nokri', 'ikhtelaf', 'chalay', 'who', 'Sabit', 'bating', 'kiy', 'politics', 'Dekho', 'wafaq', 'hta', 'lrki', 'Kamyabi', 'naya', 'B', 'karkardagi', 'nahein', 'School', 'iqra', 'dain.', 'Iqrar', 'jamat', 'Ppp', 'performance', 'kiunkay', 'rhna', 'jald', 'kl', 'ane', 'Diye', 'Mje', 'karo', 'academy', 'arse', 'side', 'dramy', 'chief', 'diet', 'chun', 'hahahahahaha', 'Dekh', 'zindagi', 'hongay', 'Mita', 'den', 'hai”', 'Fazal', 'sare', 'officer', 'Punjab', 'hmare', 'traf', 'Sun', 'post', 'to', 'badar', 'department', 'wan', 'dein', 'ar', 'stop', 'Tak', 'Shuru', 'ager', 'series', 'hr', 'gaya', 'Chaudhry', '38', 'married', 'iske', 'Shahid', 'Zaheer', 'shahid', 'ramazan', 'partnership', '1955', 'thee', 'Sabiq', '15', 'khatam', 'roop', 'jy', 'ghair', 'hamare', 'maine', 'Hahaha', 'h..', 'tara', 'bcha', 'kal', 'concert', 'Hoi', 'Ibrahim', 'standard', 'Janwar', 'bhabi', 'pr', 'mini', 'hojayega', 'alamat', 'humari', 'position', 'parhne', 'agah', 'Oo', 'adab', 'mulaqat', 'Shamil', 'PML', 'Waja', 'Australian', 'laye', 'suno', 'Iftikhar', 'must', 'ikhtiyar', 'bazar', 'muslims', 'Sheer', 'Jinnah', 'service', 'apky', 'ameen', 'unko', 'hayat', 'husun', 'agaya', 'Liaquat', 'islam', 'game', 'should', 'Keller', 'theek', 'r', 'torh', 'afiya', 'Meray', 'hahahha', 'mery', 'zindabad', 'guna', 'know', 'Abhi', 'yaha', 'zabt', 'cup', 'Dene', 'banai', 'u', 'Civil', 'hotey', 'Muft', 'afsoos', 'ko,', 'tha,', 'india', 'Fauj', 'zroort', 'Oye', 'Teresa', 'dekhi', 'office', 'mil', 'First', 'aese', 'out', 'muqarrar', 'Ap', 'international', 'jagah', 'dear', 'mra', 'hoker', 'shiddat', 'gai,', 'fire', 'wrong', 'mang', 'itny', 'wazir', 'Yeh', 'Aa', 'Bach', 'challenge', 'thori', 'bara', 'hai,', 'is', 'Jald', 'Abbas', 'Ami', 'Be', 'award', 'late', 'ahamiyat', 'Dard', 'hamay', 'leni', 'farma', 'notification', 'Wali', 'bachpan', 'thy', 'Umer', 'hamara', 'seekhne', 'Hakeem', 'rehti', 'hmaisha', 'mast', 'Karachi', 'nah', 'khoon', 'tournament', 'ziada', 'pani', 'pata', 'marte', 'jitna', 'Apko', 'bane', 'hony', 'from', 'item', 'haroon', 'benul', 'Len', 'Kaman', 'gher', 'fun', 'aunty', 'was', 'burai', 'live', 'zakhmi', 'seekho', 'colours', 'rakho', 'asrat', 'hosla', 'my', 'dour', 'azaadi', 'batain', 'Mohibullah', 'Bhot', 'Nigar', 'mara', 'shohrat', 'Kare', '1927', 'September', 'America', 'hori', 'mali', 'mill', 'League', 'ae', 'mustarad', 'city', 'Shehar', 'sara', 'Deputy', 'karega', 'waha', 'Jeet', 'ana', 'tag', 'jaye', 'ghar', 'Yaar', 'amma', 'Chahiye', 'nazr', 'Hospital', 'milein', 'thi,', 'has', 'bachen', \"can't\", 'ase', 'ky', 'increase', 'lekin', 'writer', 'aaiyn', 'ley', 'hote', 'Farokht', 'color', 'England', 'thein.', 'Mahfuz', 'Ni', 'pagal', 'Unhe', 'bhaag', 'beshumar', 'London', 'pura', 'Jia', 'yay', 'shamil', 'inki', 'buht', 'Janaza', 'perform', 'hai…', 'kay', 'takra', 'tadaad', 'app', 'industry', '2003', 'hogayi', 'Its', 'start', 'tabah', 'Dosri', 'Rafiq', 'Ab', 'Lagta', 'amar', 'gaeyki', 'hall', 'love', 'Manshiyat', 'Lorry', 'ilaqon', 'Day', 'year', 'karwane', 'anay', 'behri', 'hoye', 'hassi', 'Subai', 'Club', 'parwarish', 'bawajood', 'may', 'June', 'Ao', 'Kaif', 'intekhabat', 'andazah', 'shaey', 'Butt', 'thk', 'jasy', 'isliye', 'Manzoor', 'zehr', 'Andaz', 'merit', 'pakistan', 'alfaz', 'muqam', 'az', 'Naa', 'only', 'filmi', 'raste', 'Ghalib', 'barhe', 'movies', 'bill', 'peechay', 'foj', 'ul', 'foreign', 'mile', 'Katrina', 'chori', 'Government', 'class', 'Masjid', 'player', 'link', 'arsal', 'tuo', 'mama', 'ending', 'pehley', 'shidad', 'Yad', 'Wizarat', 'achaa', 'gold', 'insaniyat', 'you', 'ml', 'Hath', 'khtam', 'hua.', 'Appeal', 'pochna', 'Naeem', 'tez', 'Sikander', 'kasy', 'Package', 'border', 'rawana', 'fir', 'tajurbat', 'shuro', 'zer', 'Ae', 'ya', 'Badi', 'Lekin', 'keh', 'qaim', 'intakhabat', 'Ayaz', 'pazeerai', 'hoe', 'Minhas', 'papers', 'howay', 'Kon', 'aan', 'mjhy', 'wajah', 'dekhen', 'Chah', 'manzoor', 'larai', 'kaa', 'image', 'Dunya', 'batye', 'Ga', 'Ahsan', '??', 'sahafi', 'ajiya', 'rok', 'retirement', '28', '2010', 'Afia', 'gawah', 'ee', 'aaj', 'khasusi', 'frma', 'jaya', 'naujawan', 'siyasat', 'bachchon', 'jye', 'Nhi', 'Zarai', 'camera', 'rhay', 'ise', 'Lakin', 'milk', 'har', 'gaye', 'kam', 'am', 'Js', 'agae', 'Mard', 'krne', 'nuqsan', 'aain', 'pare', 'waldah', 'area', 'agya', 'aysy', 'kehti', 'maddah', 'famous', 'High', 'saqib', 'Mujhay', 'Kese', 'tabhi', 'tmam', 'Isy', 'media', 'Ma', 'gayi.', 'pass', 'bhai', 'alehdgi', 'baki', 'business', 'sunta', 'bando', 'zabardast', 'experience', 'hojai', 'bari', 'yeah', '58', 'ijazat', 'pehn', 'Jansher', 'emaan', 'martabah', 'Sath,', 'light', 'reply', 'esi', 'mukhalfat', 'walay', 'charon', 'Plz', 'humaray', 'Such', 'garam', 'Unkay', 'Faisla', 'khel', 'kharidi', 'friend', 'skta', 'shadiyon', '1914', 'captaini', 'speaker', 'qoum', 'akhir', 'Kinza', 'double', 'chawal', 'practice', 'martaba', 'rahaa', 'TU', 'Jb', 'gaa', 'dard', 'members', 'sazish', 'liy', 'kalam', 'metro', 'dafa', 'bd', 'truck', 'bagher', 'Sari', 'adam', 'time', 'Haider', 'club', 'roz', 'aamriyat', 'pics', 'khula', 'mana', 'sunne', 'mauqa', 'iqtedar', 'coca', 'World', 'waloon', 'Anjuman', 'roshan', 'Hindustani', 'woh', 'careem', 'Li', 'qk', 'go', 'si', 'Itni', 'field', 'bano', 'shikast', 'chote', 'janu', 'talib', 'Deti', 'nei', 'Punjabi', 'shareef', 'sitting', 'kra', 'DE', 'Kr', 'Shahbaz', 'ni.', 'agli', 'without', 'release', 'degrees', 'huye', 'likes', 'kiun', 'rang', 'peyda', 'sardi', 'pka', 'sawar', 'us', 'Chl', 'Bush', '45', 'zinda', 'karein', 'Hona', 'dun', 'tayyar', 'kio', '1988', ':', 'buzurgon', 'rahain', 'zarori', '1957', 'pay', 'maqam', 'Bata', 'hamesha', 'Karo', 'umeedwar', 'tiger', 'pabandi', 'bank', 'bataty', 'recording', 'inn', 'manzil', 'maroof', 'anjam', 'qawwal', 'nahien', '1966', 'waisi', 'gaya.', 'chahty', 'bachy', 'zati', 'zor', 'squad', 'Noon', 'Police', 'lg', 'lodhi', 'donon', 'fresh', 'film', 'kamm', 'Hadees', 'araha', 'purani', 'aeham', '1994', 'krdo', 'Kal', 'yad', 'larkion', 'karnay', 'oper', '35', 'tm', 'Lady', 'azan', 'kaafi', 'awaz', 'morning', 'Machine', 'krwa', 'wahi', 'haqeeqat', 'gola', 'Tera', 'interview', 'Product', 'mean', 'leg', 'Nawaz', 'marne', 'Silsila', 'She', 'audience', 'akhiri', 'Congress', 'Lol', 'buy', 'waqai', 'zarorat', 'hazri', 'asan', 'white', 'babe', 'robot', 'take', 'faiz', 'waley', 'Rahmet', 'Burney', 'sahara', 'that', 'qabil', 'krny', 'fasla', 'samajhte', 'Boht', 'barh', 'idaron', 'banker', 'ab', 'tujhe', 'syed', 'Shah', 'Commercial', 'macha', 'jub', 'shayd', 'have', 'poora', 'dekhti', 'Hay', 'batana', 'zamanat', ',,', 'original', 'halqon', 'bech', 'mazaq', 'maujood', 'saray', 'Subah', 'Hollywood', 'qanoon', 'The', 'hosting', 'hay.', 'mukamal', '1970', 'Dia', 'Khuwaja', 'huey', ',', 'just', 'name', 'unhone', 'ijlas', 'kheel', 'hud', 'PIA', 'Mout', 'miss', '”', 'general', 'jadoo', 'innings', 'aakhri', 'mre', 'jazbati', 'gae', 'taqriban', 'jee', 'deti', 'Iqra', '2012', 'hal', 'busy', 'teesre', 'ho?', 'socialist', 'Qaum', 'toota', 'design', 'mea', 'dikha', 'bache', 'fan', 'Spielberg', 'Election', 'Yehi', 'Qasim', 'mutassir', 'adad', 'sb', 'jehad', 'Mash', 'subha', 'banayega', 'Zulfiqar', 'muqabalon', 'wesay', 'man', 'guzari', 'srf', 'jaen', 'kari', 'Usman', 'bhae', 'Zabardast', 'jatay', 'taza', 'bhen', 'pictures', 'hua', 'tay', 'aman', 'Ali', 'kit', 'baby', 'sitara', 'Soba', 'dry', 'kapra', 'keya', 'hogi', 'Likh', 'bary', 'Tarar', 'Seagal', '1951', 'lega', 'Mahi', 'tanqeed', '1991', 'jese', 'news', 'khelte', 'ban', '2008', 'suba', 'bolti', 'Pahle', 'kardi', '1984', 'Question:', 'bachna', 'X', 'Maslan', 'Committee', 'lag', 'novel', 'muntaqil', 'member', 'idr', 'aazmai', 'haath', 'khuch', 'Mobile', 'quomi', 'dhamaka', 'channels', 'amli', 'Ahmad', 'nani', 'Isko', 'plz', 'ub', 'alfaaz', 'Wazir', 'kese', 'dinon', 'kamyaab', 'golden', 'anjaam', 'people’s', 'dobarah', 'laita', 'wese', 'Liye', 'mout', 'mey', 'ghari', 'kitaab', 'Live', 'bna', 'Aesi', 'dr', 'hoti.', 'Haan', 'dilchaspi', 'May', 'steel', 'Main', 'trouser', 'base', 'pehli', 'mam', 'karo.', 'apney', 'baaz', 'aksar', 'Kiye', 'Baloch', 'rahi,', 'lihaaz', 'bhool', '10th', 'face', 'jeete', 'election', 'purana', 'Bol', 'kisy', 'Lana', 'inteqal', 'Shoaib', 'hero', 'Log', 'ken', 'ghante', 'te', 'Assalam', 'expect', 'btao', 'der', 'bhtt', 'marshal', '!', 'Delhi', 'reality', 'Akhir', 'be', 'karobar', 'sasta', '😂😂😂😂', 'follow', 'children', 'Dec', 'Bari', 'jaise', 'jaib', 'Fateh', 'delete', 'aankhon', 'Arooj', 'charge', 'ramzan', 'mujhay', 'Lance', 'record', 'Air', 'lo.', 'bomb', 'azadi', 'yrr', 'fitri', 'Internet', 'shaadi', 'chla', 'hathon', 'Judges', 'chance', 'ppp', 'jantay', 'jate', 'tanzem', 'Munir', 'wazarat', 'sadarti', 'Squash', 'Gunah', 'yaqeeni', 'Kausar', 'dont', 'Buhat', 'Saddar', 'qawanin', 'sth', 'nahi.', 'esy', 'howae', 'inhon', 'ganey', 'Peoples', 'farar', 'kiyay', 'arkan', 'walida', 'mashi', 'auhdey', 'Elaqon', 'China'}\n"
          ],
          "name": "stdout"
        }
      ]
    },
    {
      "cell_type": "code",
      "metadata": {
        "id": "mUcTP2o4zQSP",
        "colab_type": "code",
        "colab": {}
      },
      "source": [
        "def clean_doc(doc):\n",
        "    tokens = doc.split()\n",
        "    re_punc = re.compile('[%s]' % re.escape(string.punctuation))\n",
        "    tokens = [re_punc.sub('',w) for w in tokens]\n",
        "    tokens = [word for word in tokens if word.isalpha()]\n",
        "    tokens = [word for word in tokens if not word in common_words]\n",
        "    tokens = [word.lower() for word in tokens]\n",
        "    tokens = [word for word in tokens if len(word)>2]\n",
        "    return tokens"
      ],
      "execution_count": 5,
      "outputs": []
    },
    {
      "cell_type": "code",
      "metadata": {
        "id": "9S-iM2JyznTj",
        "colab_type": "code",
        "colab": {}
      },
      "source": [
        "#Get X and Y data\n",
        "corpus = []\n",
        "for i in range(data.shape[0]):\n",
        "    review = data.iloc[:,0].values[i]\n",
        "    review = clean_doc(review)\n",
        "    review=' '.join(review)\n",
        "    corpus.append(review)\n",
        "\n",
        "X = np.array(corpus)\n",
        "\n",
        "y = data.iloc[:,1].values"
      ],
      "execution_count": 6,
      "outputs": []
    },
    {
      "cell_type": "code",
      "metadata": {
        "id": "N6DKNuECz8bD",
        "colab_type": "code",
        "colab": {
          "base_uri": "https://localhost:8080/",
          "height": 34
        },
        "outputId": "526640b8-9c6d-48db-96a1-0b1df6a19502"
      },
      "source": [
        "c_data = pd.DataFrame(X, columns=['text'])\n",
        "c_data['label'] = y\n",
        "c_data['char_len'] = c_data['text'].apply(lambda x: len(x) - x.count(\" \"))\n",
        "c_data['word_count'] = c_data['text'].apply(lambda x: len(x.split(\" \")))\n",
        "c_data.shape"
      ],
      "execution_count": 7,
      "outputs": [
        {
          "output_type": "execute_result",
          "data": {
            "text/plain": [
              "(20227, 4)"
            ]
          },
          "metadata": {
            "tags": []
          },
          "execution_count": 7
        }
      ]
    },
    {
      "cell_type": "code",
      "metadata": {
        "id": "E4Uzr_7z2nu_",
        "colab_type": "code",
        "colab": {
          "base_uri": "https://localhost:8080/",
          "height": 359
        },
        "outputId": "89a2c7d4-79ad-4735-8f63-49b72e635bc8"
      },
      "source": [
        "c_data.head(10)"
      ],
      "execution_count": 8,
      "outputs": [
        {
          "output_type": "execute_result",
          "data": {
            "text/html": [
              "<div>\n",
              "<style scoped>\n",
              "    .dataframe tbody tr th:only-of-type {\n",
              "        vertical-align: middle;\n",
              "    }\n",
              "\n",
              "    .dataframe tbody tr th {\n",
              "        vertical-align: top;\n",
              "    }\n",
              "\n",
              "    .dataframe thead th {\n",
              "        text-align: right;\n",
              "    }\n",
              "</style>\n",
              "<table border=\"1\" class=\"dataframe\">\n",
              "  <thead>\n",
              "    <tr style=\"text-align: right;\">\n",
              "      <th></th>\n",
              "      <th>text</th>\n",
              "      <th>label</th>\n",
              "      <th>char_len</th>\n",
              "      <th>word_count</th>\n",
              "    </tr>\n",
              "  </thead>\n",
              "  <tbody>\n",
              "    <tr>\n",
              "      <th>0</th>\n",
              "      <td>sai</td>\n",
              "      <td>Positive</td>\n",
              "      <td>3</td>\n",
              "      <td>1</td>\n",
              "    </tr>\n",
              "    <tr>\n",
              "      <th>1</th>\n",
              "      <td></td>\n",
              "      <td>Positive</td>\n",
              "      <td>0</td>\n",
              "      <td>1</td>\n",
              "    </tr>\n",
              "    <tr>\n",
              "      <th>2</th>\n",
              "      <td></td>\n",
              "      <td>Positive</td>\n",
              "      <td>0</td>\n",
              "      <td>1</td>\n",
              "    </tr>\n",
              "    <tr>\n",
              "      <th>3</th>\n",
              "      <td></td>\n",
              "      <td>Positive</td>\n",
              "      <td>0</td>\n",
              "      <td>1</td>\n",
              "    </tr>\n",
              "    <tr>\n",
              "      <th>4</th>\n",
              "      <td>are wha</td>\n",
              "      <td>Positive</td>\n",
              "      <td>6</td>\n",
              "      <td>2</td>\n",
              "    </tr>\n",
              "    <tr>\n",
              "      <th>5</th>\n",
              "      <td></td>\n",
              "      <td>Positive</td>\n",
              "      <td>0</td>\n",
              "      <td>1</td>\n",
              "    </tr>\n",
              "    <tr>\n",
              "      <th>6</th>\n",
              "      <td>wha khubiya</td>\n",
              "      <td>Positive</td>\n",
              "      <td>10</td>\n",
              "      <td>2</td>\n",
              "    </tr>\n",
              "    <tr>\n",
              "      <th>7</th>\n",
              "      <td>khubiya</td>\n",
              "      <td>Positive</td>\n",
              "      <td>7</td>\n",
              "      <td>1</td>\n",
              "    </tr>\n",
              "    <tr>\n",
              "      <th>8</th>\n",
              "      <td></td>\n",
              "      <td>Positive</td>\n",
              "      <td>0</td>\n",
              "      <td>1</td>\n",
              "    </tr>\n",
              "    <tr>\n",
              "      <th>9</th>\n",
              "      <td>everyone allah swt hamesha lawzo zaat sub hey</td>\n",
              "      <td>Positive</td>\n",
              "      <td>38</td>\n",
              "      <td>8</td>\n",
              "    </tr>\n",
              "  </tbody>\n",
              "</table>\n",
              "</div>"
            ],
            "text/plain": [
              "                                            text  ... word_count\n",
              "0                                            sai  ...          1\n",
              "1                                                 ...          1\n",
              "2                                                 ...          1\n",
              "3                                                 ...          1\n",
              "4                                        are wha  ...          2\n",
              "5                                                 ...          1\n",
              "6                                    wha khubiya  ...          2\n",
              "7                                        khubiya  ...          1\n",
              "8                                                 ...          1\n",
              "9  everyone allah swt hamesha lawzo zaat sub hey  ...          8\n",
              "\n",
              "[10 rows x 4 columns]"
            ]
          },
          "metadata": {
            "tags": []
          },
          "execution_count": 8
        }
      ]
    },
    {
      "cell_type": "code",
      "metadata": {
        "id": "Nm56GfTk3mZa",
        "colab_type": "code",
        "colab": {
          "base_uri": "https://localhost:8080/",
          "height": 376
        },
        "outputId": "b00e5849-fada-4bc5-c864-09caf260a1d3"
      },
      "source": [
        "c_data = c_data[c_data['char_len'] > 0]\n",
        "print(c_data.shape)\n",
        "c_data.head(10)"
      ],
      "execution_count": 9,
      "outputs": [
        {
          "output_type": "stream",
          "text": [
            "(17286, 4)\n"
          ],
          "name": "stdout"
        },
        {
          "output_type": "execute_result",
          "data": {
            "text/html": [
              "<div>\n",
              "<style scoped>\n",
              "    .dataframe tbody tr th:only-of-type {\n",
              "        vertical-align: middle;\n",
              "    }\n",
              "\n",
              "    .dataframe tbody tr th {\n",
              "        vertical-align: top;\n",
              "    }\n",
              "\n",
              "    .dataframe thead th {\n",
              "        text-align: right;\n",
              "    }\n",
              "</style>\n",
              "<table border=\"1\" class=\"dataframe\">\n",
              "  <thead>\n",
              "    <tr style=\"text-align: right;\">\n",
              "      <th></th>\n",
              "      <th>text</th>\n",
              "      <th>label</th>\n",
              "      <th>char_len</th>\n",
              "      <th>word_count</th>\n",
              "    </tr>\n",
              "  </thead>\n",
              "  <tbody>\n",
              "    <tr>\n",
              "      <th>0</th>\n",
              "      <td>sai</td>\n",
              "      <td>Positive</td>\n",
              "      <td>3</td>\n",
              "      <td>1</td>\n",
              "    </tr>\n",
              "    <tr>\n",
              "      <th>4</th>\n",
              "      <td>are wha</td>\n",
              "      <td>Positive</td>\n",
              "      <td>6</td>\n",
              "      <td>2</td>\n",
              "    </tr>\n",
              "    <tr>\n",
              "      <th>6</th>\n",
              "      <td>wha khubiya</td>\n",
              "      <td>Positive</td>\n",
              "      <td>10</td>\n",
              "      <td>2</td>\n",
              "    </tr>\n",
              "    <tr>\n",
              "      <th>7</th>\n",
              "      <td>khubiya</td>\n",
              "      <td>Positive</td>\n",
              "      <td>7</td>\n",
              "      <td>1</td>\n",
              "    </tr>\n",
              "    <tr>\n",
              "      <th>9</th>\n",
              "      <td>everyone allah swt hamesha lawzo zaat sub hey</td>\n",
              "      <td>Positive</td>\n",
              "      <td>38</td>\n",
              "      <td>8</td>\n",
              "    </tr>\n",
              "    <tr>\n",
              "      <th>10</th>\n",
              "      <td>rab kreem reham watneaziz frmaamin</td>\n",
              "      <td>Positive</td>\n",
              "      <td>30</td>\n",
              "      <td>5</td>\n",
              "    </tr>\n",
              "    <tr>\n",
              "      <th>11</th>\n",
              "      <td>jaago coom jaago nokar humarey tex tankha paki...</td>\n",
              "      <td>Positive</td>\n",
              "      <td>54</td>\n",
              "      <td>10</td>\n",
              "    </tr>\n",
              "    <tr>\n",
              "      <th>12</th>\n",
              "      <td>sacha jany kese bdl sakta think nsl ase guzr jain</td>\n",
              "      <td>Positive</td>\n",
              "      <td>40</td>\n",
              "      <td>10</td>\n",
              "    </tr>\n",
              "    <tr>\n",
              "      <th>13</th>\n",
              "      <td>garip lati zulum lati</td>\n",
              "      <td>Positive</td>\n",
              "      <td>18</td>\n",
              "      <td>4</td>\n",
              "    </tr>\n",
              "    <tr>\n",
              "      <th>14</th>\n",
              "      <td>insaaf</td>\n",
              "      <td>Positive</td>\n",
              "      <td>6</td>\n",
              "      <td>1</td>\n",
              "    </tr>\n",
              "  </tbody>\n",
              "</table>\n",
              "</div>"
            ],
            "text/plain": [
              "                                                 text  ... word_count\n",
              "0                                                 sai  ...          1\n",
              "4                                             are wha  ...          2\n",
              "6                                         wha khubiya  ...          2\n",
              "7                                             khubiya  ...          1\n",
              "9       everyone allah swt hamesha lawzo zaat sub hey  ...          8\n",
              "10                 rab kreem reham watneaziz frmaamin  ...          5\n",
              "11  jaago coom jaago nokar humarey tex tankha paki...  ...         10\n",
              "12  sacha jany kese bdl sakta think nsl ase guzr jain  ...         10\n",
              "13                              garip lati zulum lati  ...          4\n",
              "14                                             insaaf  ...          1\n",
              "\n",
              "[10 rows x 4 columns]"
            ]
          },
          "metadata": {
            "tags": []
          },
          "execution_count": 9
        }
      ]
    },
    {
      "cell_type": "code",
      "metadata": {
        "id": "S5Xo7BvD4Gny",
        "colab_type": "code",
        "colab": {
          "base_uri": "https://localhost:8080/",
          "height": 85
        },
        "outputId": "9ed7a93a-e522-4c3f-ff57-3fa4016d3b55"
      },
      "source": [
        "c_data.label.value_counts()"
      ],
      "execution_count": 10,
      "outputs": [
        {
          "output_type": "execute_result",
          "data": {
            "text/plain": [
              "Neutral     7090\n",
              "Positive    5313\n",
              "Negative    4883\n",
              "Name: label, dtype: int64"
            ]
          },
          "metadata": {
            "tags": []
          },
          "execution_count": 10
        }
      ]
    },
    {
      "cell_type": "markdown",
      "metadata": {
        "id": "MsRoYYQ64uFd",
        "colab_type": "text"
      },
      "source": [
        "# Cleaned Data with 3 Classes 'Positive', 'Negative', 'Neutral'"
      ]
    },
    {
      "cell_type": "code",
      "metadata": {
        "id": "DU3h4A9c4cBn",
        "colab_type": "code",
        "colab": {}
      },
      "source": [
        "c_data_3 = c_data.copy()"
      ],
      "execution_count": 11,
      "outputs": []
    },
    {
      "cell_type": "code",
      "metadata": {
        "id": "SZRAYwgB6H-8",
        "colab_type": "code",
        "colab": {
          "base_uri": "https://localhost:8080/",
          "height": 34
        },
        "outputId": "09461440-edc9-4d6f-e1a3-b2064e463f28"
      },
      "source": [
        "vocab_3 = []\n",
        "for sentence in c_data_3['text'].values:\n",
        "  temp = sentence.split()\n",
        "  vocab_3 = vocab_3 + temp\n",
        "print('Total Vacab Size in the 3 Classes dataset is : {}'.format(len(set(vocab_3))))"
      ],
      "execution_count": 12,
      "outputs": [
        {
          "output_type": "stream",
          "text": [
            "Total Vacab Size in the 3 Classes dataset is : 30166\n"
          ],
          "name": "stdout"
        }
      ]
    },
    {
      "cell_type": "markdown",
      "metadata": {
        "id": "LonQoCbc5OCR",
        "colab_type": "text"
      },
      "source": [
        "# Cleaned Data with 2 Classes 'Positive', 'Negative'"
      ]
    },
    {
      "cell_type": "code",
      "metadata": {
        "id": "tcz5WWOT5GJA",
        "colab_type": "code",
        "colab": {
          "base_uri": "https://localhost:8080/",
          "height": 68
        },
        "outputId": "41b13c14-82e6-4c4e-fb01-8e459531b028"
      },
      "source": [
        "c_data_2 = c_data[c_data['label'].isin(['Positive', 'Negative'])]\n",
        "c_data_2.label.value_counts()"
      ],
      "execution_count": 13,
      "outputs": [
        {
          "output_type": "execute_result",
          "data": {
            "text/plain": [
              "Positive    5313\n",
              "Negative    4883\n",
              "Name: label, dtype: int64"
            ]
          },
          "metadata": {
            "tags": []
          },
          "execution_count": 13
        }
      ]
    },
    {
      "cell_type": "code",
      "metadata": {
        "id": "OSPi4f1y5mdv",
        "colab_type": "code",
        "colab": {
          "base_uri": "https://localhost:8080/",
          "height": 34
        },
        "outputId": "00056eff-68e2-4d83-d8b1-d1afcf6a3eb6"
      },
      "source": [
        "vocab_2 = []\n",
        "for sentence in c_data_2['text'].values:\n",
        "  temp = sentence.split()\n",
        "  vocab_2 = vocab_2 + temp\n",
        "print('Total Vacab Size in the 3 Classes dataset is : {}'.format(len(set(vocab_2))))"
      ],
      "execution_count": 14,
      "outputs": [
        {
          "output_type": "stream",
          "text": [
            "Total Vacab Size in the 3 Classes dataset is : 22521\n"
          ],
          "name": "stdout"
        }
      ]
    },
    {
      "cell_type": "markdown",
      "metadata": {
        "id": "U13Dcw-v_FCa",
        "colab_type": "text"
      },
      "source": [
        "# Prepare the Data"
      ]
    },
    {
      "cell_type": "code",
      "metadata": {
        "id": "ObNmJXSo-v_q",
        "colab_type": "code",
        "colab": {}
      },
      "source": [
        "from sklearn.feature_extraction.text import TfidfVectorizer, CountVectorizer\n",
        "from sklearn.preprocessing import LabelEncoder\n",
        "from sklearn.metrics import accuracy_score, confusion_matrix, precision_score, recall_score\n",
        "from sklearn.model_selection import train_test_split\n",
        "from sklearn.ensemble import RandomForestClassifier"
      ],
      "execution_count": 15,
      "outputs": []
    },
    {
      "cell_type": "code",
      "metadata": {
        "id": "xv2LAHNU_Jst",
        "colab_type": "code",
        "colab": {}
      },
      "source": [
        "y_3 = c_data_3['label'].values\n",
        "enc = LabelEncoder()\n",
        "y_3 = enc.fit_transform(y_3)"
      ],
      "execution_count": 16,
      "outputs": []
    },
    {
      "cell_type": "code",
      "metadata": {
        "id": "1CkBb9UiAKCo",
        "colab_type": "code",
        "colab": {
          "base_uri": "https://localhost:8080/",
          "height": 34
        },
        "outputId": "9f2ecc13-5674-454e-af5c-79126d2e855b"
      },
      "source": [
        "y_3.shape"
      ],
      "execution_count": 17,
      "outputs": [
        {
          "output_type": "execute_result",
          "data": {
            "text/plain": [
              "(17286,)"
            ]
          },
          "metadata": {
            "tags": []
          },
          "execution_count": 17
        }
      ]
    },
    {
      "cell_type": "code",
      "metadata": {
        "id": "XbXkU0OiAk71",
        "colab_type": "code",
        "colab": {
          "base_uri": "https://localhost:8080/",
          "height": 34
        },
        "outputId": "51e3d58a-3cf2-4f43-9d4c-746e22df3723"
      },
      "source": [
        "c_data_3[['text', 'char_len', 'word_count']].shape"
      ],
      "execution_count": 18,
      "outputs": [
        {
          "output_type": "execute_result",
          "data": {
            "text/plain": [
              "(17286, 3)"
            ]
          },
          "metadata": {
            "tags": []
          },
          "execution_count": 18
        }
      ]
    },
    {
      "cell_type": "code",
      "metadata": {
        "id": "H9scVVBh_zkR",
        "colab_type": "code",
        "colab": {}
      },
      "source": [
        "X_train, X_test, y_train, y_test = train_test_split(c_data_3[['text', 'char_len', 'word_count']],\n",
        "                                                    y_3, \n",
        "                                                    test_size = 0.2,\n",
        "                                                    random_state = 42,\n",
        "                                                    stratify = y_3)"
      ],
      "execution_count": 19,
      "outputs": []
    },
    {
      "cell_type": "code",
      "metadata": {
        "id": "mlceia8kAAfr",
        "colab_type": "code",
        "colab": {}
      },
      "source": [
        "vectorizer = TfidfVectorizer(ngram_range=(1, 2)) \n",
        "vectorizer = vectorizer.fit(X_train['text'])\n",
        "x_train_v = vectorizer.transform(X_train['text'])\n",
        "x_test_v = vectorizer.transform(X_test['text'])"
      ],
      "execution_count": 20,
      "outputs": []
    },
    {
      "cell_type": "code",
      "metadata": {
        "id": "tSR-zpStBxeb",
        "colab_type": "code",
        "colab": {}
      },
      "source": [
        "X_train_v_3 = pd.concat([X_train[['char_len', 'word_count']].reset_index(drop=True),\n",
        "                          pd.DataFrame(x_train_v.toarray())], axis=1)\n",
        "X_test_v_3 = pd.concat([X_test[['char_len', 'word_count']].reset_index(drop=True),\n",
        "                         pd.DataFrame(x_test_v.toarray())], axis=1)"
      ],
      "execution_count": null,
      "outputs": []
    },
    {
      "cell_type": "code",
      "metadata": {
        "id": "e9e4AbqqDgVX",
        "colab_type": "code",
        "colab": {}
      },
      "source": [
        "# Shape of the Training data X and Y\n",
        "print(\"Shape of the Training data X : {}, Y : {}\".format(X_train_v_3.shape, y_train.shape))"
      ],
      "execution_count": null,
      "outputs": []
    },
    {
      "cell_type": "code",
      "metadata": {
        "id": "_5OBKpXUDxud",
        "colab_type": "code",
        "colab": {}
      },
      "source": [
        "# n_jobs = -1 for building parallel 150 decision trees. \n",
        "# Max_depth = None means it will build decision tree until minminzation of loss\n",
        "rf = RandomForestClassifier(n_estimators=150, max_depth=None, n_jobs=-1,class_weight=\"balanced\",random_state=42)\n",
        "rf_model = rf.fit(X_train_v_3, y_train)\n",
        "y_pred = rf_model.predict(X_test_v_3)\n",
        "\n",
        "precision = precision_score(y_test, y_pred, pos_label='positive', average='weighted')\n",
        "recall = recall_score(y_test, y_pred, pos_label='positive', average='weighted')\n",
        "accuracy = accuracy_score(y_test, y_pred)\n",
        "\n",
        "print('Precision: {:.2f} | Recall: {:.2f} | Accuracy: {:.2f}'.format(precision,recall,accuracy))\n",
        "\n",
        "sns.set(font_scale=1.4)#for label size\n",
        "sns.heatmap(confusion_matrix(y_test, y_pred), cmap=\"Blues\", annot=True,annot_kws={\"size\": 14}, fmt='g')# font size"
      ],
      "execution_count": null,
      "outputs": []
    }
  ]
}
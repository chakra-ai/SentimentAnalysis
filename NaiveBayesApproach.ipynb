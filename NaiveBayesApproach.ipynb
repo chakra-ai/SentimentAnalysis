{
 "cells": [
  {
   "cell_type": "code",
   "execution_count": 1,
   "metadata": {
    "colab": {
     "base_uri": "https://localhost:8080/",
     "height": 51
    },
    "colab_type": "code",
    "id": "JMOoBtFItQ1F",
    "outputId": "33f666e7-9aeb-4f21-e236-bf65d3a22bfe"
   },
   "outputs": [],
   "source": [
    "import numpy as np\n",
    "import pandas as pd\n",
    "import matplotlib.pyplot as plt\n",
    "import seaborn as sns\n",
    "import re\n",
    "import string\n",
    "import warnings\n",
    "warnings.filterwarnings('ignore')"
   ]
  },
  {
   "cell_type": "code",
   "execution_count": 2,
   "metadata": {
    "colab": {},
    "colab_type": "code",
    "id": "FZ_GbFDdt5Yv"
   },
   "outputs": [],
   "source": [
    "url = 'https://raw.githubusercontent.com/chakra-ai/SentimentAnalysis/master/RomanUrduDataSet.csv'\n",
    "df = pd.read_csv(url, encoding='utf8', header=None)\n",
    "df.columns = ['text','target','junk']\n",
    "df.drop('junk',axis=1, inplace=True)\n",
    "df.dropna(inplace=True)\n",
    "data = df[df['target'] != 'Neative']"
   ]
  },
  {
   "cell_type": "markdown",
   "metadata": {
    "colab_type": "text",
    "id": "JpdJQpQiw1v4"
   },
   "source": [
    "# **Eliminate biased words are common across classes**"
   ]
  },
  {
   "cell_type": "code",
   "execution_count": 3,
   "metadata": {
    "colab": {},
    "colab_type": "code",
    "id": "Znrub6Eht6FF"
   },
   "outputs": [],
   "source": [
    "pos = df[df['target']=='Positive']['text'].values\n",
    "neg = df[df['target']=='Negative']['text'].values\n",
    "neu = df[df['target']=='Neutral']['text'].values\n",
    "\n",
    "pos_corpus = []\n",
    "neg_corpus = []\n",
    "neu_corpus = []\n",
    "\n",
    "for sentence in pos:\n",
    "    words = sentence.split()\n",
    "    pos_corpus = pos_corpus + words\n",
    "pos_corpus = set(pos_corpus)\n",
    "\n",
    "for sentence in neg:\n",
    "    words = sentence.split()\n",
    "    neg_corpus = neg_corpus + words\n",
    "neg_corpus = set(neg_corpus)\n",
    "\n",
    "for sentence in neu:\n",
    "    words = sentence.split()\n",
    "    neu_corpus = neu_corpus + words\n",
    "neu_corpus = set(neu_corpus)"
   ]
  },
  {
   "cell_type": "code",
   "execution_count": 4,
   "metadata": {
    "colab": {
     "base_uri": "https://localhost:8080/",
     "height": 71
    },
    "colab_type": "code",
    "id": "o8Yvwv2FwzWY",
    "outputId": "2b898e1c-4c4a-4351-de15-4cc19c086d47"
   },
   "outputs": [
    {
     "name": "stdout",
     "output_type": "stream",
     "text": [
      "5387\n",
      "{'baton', 'boly', 'aesa', 'bhutto', 'TO', 'baqaidah', 'akele', 'Prada', 'jadeed', 'tu', 'bna', 'review', 'laiq', 'km', 'KO', '😘', 'clear', 'bass', 'hisse', 'Ese', 'service', 'izat', 'release', 'Ibteda', 'nikal', 'Film', 'jazbati', 'lgy', 'kheelon', 'Guzishta', 'bot', 'company', 'moun', 'talba', 'Hukomat', 'Hukum', 'Muhammad', 'muqabla', 'lrki', 'championship', 'dosri', 'prta', 'mahaz', 'Government', 'guzare', 'andazah', 'larke', '1995', 'baji', 'Wali', 'Shehar', 'Maulana', 'nayi', 'Philippine', 'kray', 'chalana', 'be', 'eh', 'benul', 'deceleration', 'pir', 'saktay', 'badal', 'lout', 'khata', 'Afridi', 'krwana', 'Bukhari', '35', 'Mujhe', 'banker', 'Operation', 'dosra', 'Lollywood', 'check', 'sach', '/', 'ham', 'Aye', 'piano', 'Amin', 'likhi', 'Di', 'nikaal', 'pai', 'alla', 'BA', 'beti', 'like', 'kabhi', 'Hay', 'zulm', 'dy.', 'Asif', 'leather', 'Zia', 'Hahahahhaha', 'hai,', 'Hamain', 'Nae', 'also', 'pmln', 'ibtedai', 'ghar', 'Rashid', 'hairat', 'mar', 'aesy', 'beshtar', 'saab', 'azaz', 'kort', 'Madam', 'paai', 'KI', 'atna', 'shreef', 'lafz', 'Hanif', 'offensive', 'Muttahida', 'khitab', 'taza', 'seekh', 'pakistan', 'yay', 'kisi', 'hy?', 'Gai', 'Mian', 'bagh', 'cup', 'intekhabaat', 'kein', 'real', 'then', '1975', 'Bharti', 'hogayi', 'Roman', 'Ary', 'Liaquat', 'Happy', 'scene', 'IN', 'beyan', 'ka.', 'tawajah', 'asraat', 'famous', 'ho.', 'mazaq', 'qabil', 'Haal', 'Karta', 'mard', 'agr', 'rawana', 'ye', '2015', 'Kuch', 'hun,', 'thek', 'isi', 'ay', 'aaya', 'restaurant', 'foreign', 'not', 'Bilawal', 'Jald', 'banaya', 'gehri', 'khare', 'London', 'sae', 'pehley', 'jo', 'agay', 'shadiyon', 'RA', 'M', 'zalmi', 'Hon', 'only', '!!!', 'jani', 'kasy', 'Hukumat', 'rehte', 'hamry', 'pic', 'Shaukat', 'hr', 'kea', 'Australian', '1969', 'Achay', 'mother', 'Jab', 'dili', 'track', 'Gair', 'kalam', 'dam', 'pher', 'shehar', 'saza', 'crore', 'Waliden', 'man', 'Khan', 'Supreme', 'tarhan', 'qawanin', 'kamzor', 'Sahib', 'Akhri', 'She', 'shanakht', 'ameer', 'mahaul', 'Maah', 'per', 'Hassan', 'khayalat', 'Seriously', 'omer', 'Haram', 'amp', 'chote', 'macha', '...', 'KSE', 'bech', 'ahteram', '(???)', 'aye', 'achanak', 'Jinnah', 'ab', 'Mulk', 'captain', 'behas', 'kisko', 'Aor', 'haath', 'nah', 'sbko', 'qasim', 'boli', 'speaker', 'InshAllah', 'girls', 'lagi', 'ap', 'lete', 'kharab', 'app', 'gal', 'fund', 'on', 'mills', 'Yousuf', 'batana', 'le', 'khara', 'inhon', 'congress', 'aham', 'rupey', 'kafeel', 'rehna', 'raste', 'Judge', 'krti', 'taluq', 'wafaq', 'fast', 'kiya,', 'kheel', 'karane', 'ache', 'Walon', 'shirkat', 'Meera', 'zeyada', 'mey', 'Fauji', 'Samet', 'Bazmi', 'bhee', 'Unhen', 'raju', 'deegar', 'moti', 'loo', 'will', 'banai', 'kharja', 'full', 'teacher', 'hova', 'arkan', 'Mujh', 'silver', 'hain!', 'Qabal', 'Nahi', 'rahain', 'shame', 'awaaz', 'Benazir', 'zimedari', 'day', 'Liye', 'pehly', 'bura', 'Har', 'One', 'ziyada', 'pahli', 'rakhne', 'MQM', 'Zyada', 'match', 'link', 'Russian', 'Waqi', 'zameen', 'jeet', 'naw', 'lagti', 'kara', 'Aur', 'tadfeen', 'serious', 'Wasim', 'karey', 'youth', 'club', 'karoo', 'promo', 'soorat', 'shuru', 'CNIC', 'jaye', 'Acha', 'bary', 'the,', 'dastoor', 'qadar', '26', 'Jahangir', 'Mery', 'guzra', 'baal', 'dosto', 'tmhara', 'hy', 'Pasand', 'Kr', '1927', 'ese', 'Kitna', 'mokammal', 'hathon', 'jaty', 'kis', 'with', 'qeemat', 'mutafiqa', 'jamhori', 'lota', 'iss', 'Series', 'Gaya', 'barai', 'You', 'rizq', 'Dy', 'watch', 'Allah.', 'Dosri', 'dard', 'dahi', 'tahreek', 'Afia', 'mulazim', 'mardon', 'oper', 'pary', 'larai', 'jis', 'woo', 'mainy', 'dont', 'ane', 'uff', 'dramy', 'Tehreek', '“', 'Gia', 'demand', 'wabista', 'English', 'woh', 'shaiyqeen', 'field', 'phans', 'end', 'zroort', 'was', 'sey', 'have', 'Oo', 'shobey', 'Rae', 'duniya', 'kashmir', 'BDS', 'sahe', 'mill', 'se,', 'Shift', 'Commission', 'syed', 'saki', 'nawa', 'khaas', 'Hm', 'kdr', 'gym', 'aamriyat', 'Bata', 'hoti.', 'karkun', 'zaror', 'China', 'mei', 'Kisi', 'ga,', 'rang', 'kash', 'buzurgon', 'KPK', 'fvrt', 'mra', 'pabandi', 'teri', 'karachi', 'Very', 'Cricket', 'gaya.', 'Intizamia', 'mokhalif', 'kyoon', 'ain', '72', 'Bharat', 'haroon', 'enjoy', 'bina', 'Karenge', 'insaan', 'theek', 'Martin', 'November', 'tameer', 'Par', 'jnb', 'dars', 'Gya', 'sawalaat', 'wesay', 'malik', 'Size', 'natije', 'member', 'bhol', 'chahte', 'shaadi', 'times', 'Dia', 'waqaii', 'barey', 'pathan', 'fee', 'nice', 'woman', 'Awww', 'inse', 'how', 'Khali', 'Asal', 'Mubarak', 'otherwise', 'ready', 'sunai', 'online', 'Kaash', 'barson', 'gae', 'military', 'es', 'samajh', 'Len', 'pick', 'elawa', 'Bollywood', 'ty', 'British', 'istemaal', 'baad', 'Barish', 'khatme', 'jate', 'jang', 'intezar', 'ARD', 'hi', 'Raza', 'siyasi', 'jasakta', 'barish', 'nojawan', 'Awami', 'mazeed', 'dikhai', 'naib', 'liyeh', 'School', 'Naa', 'sari', 'truck', 'pizza', 'ikhtiyar', 'uncle', 'besh', 'tez', 'pas', '6th', 'Soba', 'mjy', 'ho?', 'Sy', 'Oct', 'Pata', 'Mahi', 'krdi', 'Teri', 'likha', 'jai', '1964', 'Rawana', 'bhut', 'hazir', 'song', 'Zahir', 'more', 'ray', 'Zinda', 'side', 'nigari', 'batsman', 'Phone', 'role', 'channels', 'dafa', 'parhaya', \"It's\", 'model', 'tag', 'Robin', 'khula', 'hon,', 'leak', 'tarf', 'jadoo', 'Wow', 'As', 'khaiz', 'diya.', 'iskeem', 'mazhabi', 'sharik', 'kharidi', 'set', 'natija', 'Ullah', 'Tau', 'shaey', 'rakhe', 'week', 'Khan:', 'agle', 'adda', 'goli', 'lya', 'krdia', 'bh', 'khushboo', 'Maine', 'Kiye', 'zada', 'Altaf', 'Maghfirat', 'Mana', 'baras', 'pooray', 'shayd', 'mujay', 'watni', 'Badshah', 'Points', 'balkay', 'Malka', 'day.', 'milein', 'Khanay', 'ilm', 'Hone', 'mj', 'mulik', 'notification', 'jati', 'Hein', ')', 'murs', 'Afghanistan', 'editing', 'Baloch', 'Be', 'Europe', 'waisay', 'shukria', 'lga', 'colours', 'sambhala', 'azam', 'bayan', 'Dr.', 'shugal', 'zehan', 'kerain', 'lahore', 'bachon', 'khazana', 'dehat', 'angrezi', 'Tadad', 'sahara', 'aisi', 'Card', 'sunte', 'aen', 'DY', 'ramzan', 'assembly', 'Khan,', 'jye', 'garhi', 'hamara', 'kehna', 'chalane', 'yhi', 'chalta', 'adarey', 'Ne', 'saalo', 'direction', 'dor', 'Azam', 'Bhai', 'koi', 'zamana', 'Yahan', 'shah', '200', 'rahin', 'run', 'halqa', 'gy', 'Elan', 'ras', 'fatah', 'murda', 'shakhs', 'court', 'sochna', 'Yaar', 'bating', 'paseena', 'nation', 'samna', 'mamooli', 't', 'Gujranwala', 'kamyabi', 'takhmina', 'nain', 'Lye', 'trip', 'ken', 'gayi.', 'aboor', '......', 'Aftab', 'zawal', 'Hamara', 'TV', 'Bibi', 'nazam', 'Woh', 'h..', 'lagae', 'Behan', 'dari', 'kiyay', 'do', 'eid', 'PTV', 'jhoot', 'Iqrar', 'Khud', 'can', 'walid', 'Katrina', 'drama', 'hi.', 'Mila', 'nazar', 'tabdeel', 'story', 'let', 'azadi', 'sarhad', 'Fateh', 'len', 'Buri', 'Shahbaz', 'air', 'Chacha', 'prh', 'huae', 'Arey', 'musalsal', 'Roz', 'aurton', 'S', 'deni', 'geography', 'kru', 'Baap', 'weight', '1981', 'tk', 'Shabana', 'sherry', 'Bhar', 'badqismati', 'howa', 'school', '😜', 'hospitals', 'jaan', 'Vladimir', 'jy', 'IS', 'Tayar', 'baiys', 'Baba', 'bagair', 'Division', 'maqam', 'khele', 'paish', 'SB', 'Appeal', 'zariye', 'samajhti', 'Ta', 'wise', 'call', 'Waheed', 'pardah', 'omg', '120', 'nahin', 'kaun', 'sal', 'manaya', 'chalay', 'My', 'Ijazat', 'mjhe', 'qadamat', 'Roza', 'pori', 'kitab', 'matter', 'Stallone', 'dekhaye', 'majmoi', 'aaj', 'humko', 'buy', 'howae', 'kahon', 'Pher', 'Shirkat', 'Jis', 'This', 'Bilal', 'looks', 'Next', '19', 'kiy', 'net', 'Apnay', 'geo', 'ha..', 'aate', 'agency', 'Chahiye', 'Raja', 'din', 'Akram', 'Diana', 'must', 'kin', 'p', 'Mother', 'tars', 'ga', 'urooj', 'league', 'mushkilat', 'beshumar', 'jorhi', 'khud', 'unki', 'bolti', 'sake', 'way', 'aa', 'maari', 'thay.', 'Hun', 'kese', 'aane', 'cut', 'phool', 'maqasid', 'sunny', 'lac', 'got', 'hogya', 'thik', 'waqeyaat', 'peshawar', 'Per', 'thanks', 'still', 'Nisar', 'awaam', '😂😂😂😂😂😂', 'background', 'kharid', 'tadad', 'Assalam', 'halqey', 'she', 'laikin', 'Vo', 'aamad', 'halat', 'Saddar', 'Wafa', 'char', 'janib', 'de', 'Bach', 'qayam', 'name', 'guzari', 'Aanay', 'rahay.', 'agah', 'Hussain', 'milega', 'ager', 'Adam', 'jaisa', 'bayak', 'talib', 'istemal', 'qabol', 'Jaye', 'rhy', 'High', 'intezam', 'Zakhmi', 'federation', 'Jerry', 'Yah', 'matchon', 'dya', 'jung', 'Ul', 'Umar', 'ending', 'aese', 'karin', 'ziyadah', 'unkay', 'hojai', 'se.', 'dal', 'uhde', 'gir', 'peshkash', 'people', 'huein', 'johar', 'huwa.', 'captaini', 'Peer', 'lekin', 'krty', 'bhe', 'direct', 'Zimni', 'Waseem', 'bahal', 'here', 'rooh', 'future', 'parho', 'tek', 'jhandey', 'Acting', 'satah', 'krte', 'base', 'milty', 'injam', 'men', 'Dawa', 'jhot', 'samjh', 'bache', 'chalaney', 'To', 'Musalman', 'Newyork', 'zor', 'romance', 'place', 'aakhir', 'yahe', 'Read', 'Hain', 'shirts', 'PPP', 'Product', 'paper', 'tujhe', 'news', 'marks', 'krdy', 'sa', 'az', 'khan', 'Ge', 'salamat', 'jata', 'final', 'bs', 'tour', 'children', 'Baje', '48', '1948', 'ata', 'Aik', 'language', 'Gandhi', 'sunane', '1984', 'robot', 'do.', 'Firing', 'jese', 'reality', 'Mujhay', 'Watson', 'Mujay', 'Nhe', 'maan', 'America', 'Hamare', 'Tahum', 'message', 'Ishq', 'motasir', 'laga', 'lo', 'khayal', 'dy', 'dee', 'Thik', 'producers', 'faiz', 'haar', 'naheen', 'dakhil', 'sain', 'hogye', 'train', 'utha', 'Rafiq', 'daily', 'frnd', 'Islam', 'dekhna', 'Jauhar', 'agree', 'hay.', 'bai', 'Khayal', 'adbi', '13', 'ilawa', 'teams', 'Tak', 'hakeem', 'hissa', 'Izafa', 'fitri', 'pack', 'Karne', 'design', 'Shakhs', 'maqbool', 'Kahan', 'siyah', 'zaroor', 'Reham', '2005', 'dikhae', 'idaron', 'pehn', 'gai.', 'Hadees', 'pe', 'gaeyki', 'hoi,', 'peyda', 'Himayat', 'read', 'wapas', 'Mar', 'aysy', 'isa', 'Zaror', 'kit', 'leye', 'dikhana', 'adat', 'Umeedwar', 'University', 'kardo', 'rahy', 'tara', 'filmsaaz', 'kooch', 'dosti', 'py', 'Mahfooz', 'ulad', 'pass', 'numaindagi', 'main', 'Rahe', 'country', 'Control', 'tabiyat', 'rujhaan', 'janu', 'jati.', 'peda', 'many', '1957', 'banaye', 'haina', 'next', 'rkho', 'samait', 'sada', 'betha', 'da', 'Free', 'aik', '29', 'Wese', 'sanbhala', 'khob', 'Please', 'fouji', 'humare', 'adaa', 'amomi', 'mae', 'sanad', ':v', 'amazing', 'So', 'taa', 'kur', 'eman', '1973', 'gaa', '85', 'opposition', 'Qureshi', 'give', 'series', 'zimmedari', 'sensor', 'bahu', 'rakha', 'loose', 'karda', '1st', 'thein.', 'Edhi', 'bawajod', 'off', 'pegham', 'samajhne', 'taqriban', 'ker', 'matlab', 'hoe', 'I', 'waqai', 'kardia', 'Hidayat', 'dia', 'dekhi', 'bemari', 'Imran', 'aafia', 'hadayat', 'Elaan', 'taraqi', 'jee', 'Hashim', ':-D', 'Mai', 'jagah', 'trf', 'kaisa', 'Hoon', '�EEE€�EEE', 'almi', 'Bar', 'subha', 'Torsam', 'type', 'tm', 'zaiyd', 'aankhon', 'cheez', 'jan', 'Khi', 'chae', '64', 'Baki', 'salahiyat', 'jahad', 'qaboo', 'July', 'Mohibullah', 'tuny', 'min', 'daikha', 'Tujh', 'rounder', '21', 'rehaiysh', 'Shuru', 'akmal', 'Hospital', 'director', 'aapko', 'audience', 'Daro', 'suit', 'ankh', 'ki,', 'large', 'Gulzar', 'dalne', 'Shareef', 'zaruri', 'Hogi', '70', 'Burney', 'pohanchne', 'pehne', 'members', 'given', 'yaqeeni', 'nokri', 'lain', 'nuqsan', 'Rasheed', 'dawa', 'House', 'Lala', 'night', 'o', 'kitaab', 'te', 'tmhare', 'nijat', 'unko', 'aie', 'lana', 'mehdod', '1919', 'yaar', 'khabi', 'faidah', 'Karna', 'Baghair', 'North', 'Subah', 'World', '75', 'Shukr', 'Seagal', 'dekhti', 'singer', 'zuban', 'sat', 'dobara', 'Karachi', '122', 'waldah', 'age', 'galat', 'rho', 'He', ':', 'dano', 'App', 'hae', 'bollywood', 'west', 'ke', 'Miyan', 'sabot', 'Mahmood', 'form', 'kahna', 'mutabiq', 'Khuda', 'isko', 'yahan', 'zardari', 'free', 'mujhy', 'normal', 'nhe', 'fazol', 'League', 'Kashmir', 'ice', 'Punjabi', 'bibi', 'beron', 'O', 'hogai', 'iqra', 'promote', 'Yun', 'ais', 'kabina', 'Parvez', 'Mara', 'lai', 'yafta', 'aya', 'aaiyn', 'ba', 'now', 'shirt', 'bhaii', 'increase', 'Nawaz', 'Doctor', 'apni', 'meine', 'mureed', 'jiska', 'bator', 'parta', 'phone', 'Assembly', 'apney', 'adam', 'hogae', 'Iss', 'hindi', 'fresh', 'ishq', 'daina', 'bohata', 'fariza', 'kum', 'asaan', 'Machine', 'Congress', 'devi', 'chance', 'Zarai', 'naam', 'dad', 'camera', 'bhej', 'Malik', 'karkardagi', 'double', 'bethi', 'tayyar', 'taluqat', 'Beta', 'kiya.', 'kare', 'us', 'lgty', 'Meray', 'hoker', 'lekh', 'chunke', 'faida', 'Yr', 'nhn', 'pane', 'squash', 'Chundrigar', 'kuch', '1959', 'March', 'chah', 'karti', 'chukka', 'Dar', 'bhool', 'rone', 'sultan', 'preshan', 'Hindi', 'ka', 'chahy', 'producer', 'activate', '125', \"don't\", 'market', 'izhar', 'Liya', 'rakhte', 'ali', 'dyn', 'T-shirt', 'gai,', 'khidmaat', 'aana', 'tou', 'karega', 'dore', 'Rakho', 'aisy', 'noon', 'Dil', 'Mushtaq', 'deeni', '1992', 'hat', 'sport', 'adakar', 'runs', 'poora', 'bachaye', 'ne', 'hai?', 'samajhte', 'pakistani', 'sai', 'alehdgi', 'Jeet', 'jitna', 'Sorry', 'is', 'tell', 'Sindhi', 'select', 'apka', 'Star', 'smjha', 'Hahaha', 'mushkil', '1949', 'diet', 'Allha', 'New', 'copy', 'kesy', 'sahi', 'help', 'muqable', 'dair', 'lakh', 'rakhi', 'gyi', 'Price', 'thy', 'tere', 'dkh', 'hii', 'andaza', 'bher', 'wasy', 'cover', 'afrad', 'dil', 'dour', 'jaey', 'Aman', 'Shaam', 'Miser', 'kabil', 'bana', 'kartay', 'waly', \":'(\", 'arsal', 'ma', 'hain...', 'tasleem', 'Britannia', 'nani', 'at', '1999', 'chuke', 'Kay', 'Es', 'deliver', 'fire', 'half', 'filmi', 'total', 'pocha', 'dekhne', '300', 'Panjwani', 'Facebook', 'kehti', 'koshish', '5', 'hamil', 'gaya', 'music', 'Shukriya', 'chalen', 'bharpor', 'islam', 'aur', 'Siddiqui', 'waqat', 'leti', 'banne', 'Tarar', 'Bil', 'Khush', '1977', 'gair', 'judagana', 'Lalak', 'cousin', 'muaawza', 'bun', 'andaaz', 'bacho', 'Such', 'india', 'person', 'Lekin', 'Taj', 'Tm', 'people’s', 'unky', 'jab', 'shukar', 'behri', 'Hafeez:', 'saf', 'association', 'kry', 'sorat', 'hai...', 'shakal', 'thnk', 'socialist', 'king', 'ghulami', 'Isi', 'haqiqat', 'shahrukh', 'agae', 'Not', 'raha,', 'Waly', 'Chauhanne', 'suno', 'aatay', 'dolat', 'jalsay', '-', 'attend', 'sth', 'milay', 'kar', 'cinema', 'srf', 'hoon', 'tuje', 'City', 'shamoliyat', 'hukam', 'Line', 'phela', 'nhii', 'Team', 'shukeriya', 'Good', 'hin', 'baghair', 'bhala', 'Well', 'password', 'Mohtarma', 'ramadan', 'gey', 'payara', 'Razia', 'baap', 'nikala', 'bhn', 'foj', 'pak', 'nahi,', 'nigran', 'farmaya', 'rehta', '1993', 'andaz', 'Bahut', 'Pe', 'months', 'prediction', 'waqt', 'bawajood', 'shak', 'Baqi', '1', 'Hasan', 'are', 'life', 'khyal', 'Saeed', 'uski', 'ishaq', 'Beshak', 'walda', 'bahi', 'said', 'usi', 'Zameen', 'ghalat', 'Farhan', 'uss', 'keya', 'wesi', 'achi', 'khatm', 'Khilaf', 'milti', 'sudhar', 'nakaam', 'Sal', 'April', 'bhari', 'umeedwar', 'rabta', 'Mash', 'really', 'saamne', 'hisab', 'toh', 'Kamyabi', 'gye', 'Silsila', 'Haroon', 'chaye', 'zabardasti', 'bnna', 'rhay', 'Hn', 'Kaman', 'qarardad', 'tarha', 'shorat', 'especially', 'maah', 'chal', 'tehrik', 'dahai', 'hit', 'andar', 'mention', '\"', 'That', 'barhti', 'zabardast', '2no', 'mood', 'Mei', 'Bal', 'shukriya', 'alag', 'Bana', 'up', 'dnt', 'liay', 'York', 'Section', 'lye', 'hope', 'mujh', 'q', 'lkn', 'zani', 'aage', 'Aunti', 'phr', 'four', 'candidate', 'fun', 'zaban', 'pae', 'hey', 'janti', 'Kise', 'Her', 'khidmat', 'quom', 'shudah', 'thread', 'hara', 'sakti', 'his', 'than', 'hud', 'mazi', 'Abdul', 'Ravi', 'jeeta', 'Multan', '1930', 'yea', 'that', 'please', '😂😂', 'Sirf', '1983', 'sakty', 'mein.', 'malka', 'Bombay', 'lagtay', '!', 'Kausar', 'Baat', 'Mujhy', 'slow', 'rana', 'hami', 'ticket', 'guys', 'zehr', 'apne', 'Ki', 'tak', 'Hahahaha', 'Islamabad', 'Log', 'Karkunan', 'stage', 'Karti', 'Balochistan', 'Aby', 'Rupay', 'pyaar', 'Sawar', 'film', 'ho...', 'Party', 'politics', 'khana', 'mazoor', '20', 'msg', 'leni', 'We', 'aasan', 'performance', 'Bush', 'sun', 'corrupt', 'dala', 'jaga', 'bt', 'Dekho', 'Number', ':)', 'Safdar', 'Book', 'Tareekh', 'batye', 'xD', 'keh', 'Question:', 'union', 'apply', 'batain', 'hon', 'watan', 'zaida', 'kaise', 'urdu', 'Sadar', 'samjhi', 'sahb', 'videos', 'Maroof', 'PML', 'guzre', 'been', 'rehne', 'Donon', 'masaiyl', 'hojana', 'Nakam', 'Ibn-e-Safi', 'nae', 'B', 'sabit', 'jahaz', 'Ghalib', 'nd', 'Bhi', 'ja', 'daraz', 'Birmingham', 'maar', 'hony', 'Court', 'mustarad', 'pehla', 'alamat', 'Normal', 'June', 'Mere', 'Yahi', 'pochna', 'radio', 'manzor', 'ge.', 'mgr', 'mazhab', 'Aakhir', 'aaey', 'bni', 'he.', 'Do', 'wajood', 'fake', 'chand', 'Ayaz', 'Report', 'karna', 'inkar', 'pesa', 'arts', 'Kenya', 'dale', 'leader', 'dekhe', 'meray', 'pehle', 'Dhaka', 'Ameen', 'Kami', 'sala', 'dora', 'achay', 'diya', 'agla', 'Waise', 'mal', 'mind', 'mout', 'Dr', 'Hafiz', 'manzil', 'ghr', 'taiz', 'kamyab', 'Bht', 'Mazi', 'hai....', 'hindu', 'lg', 'quality', 'maa', 'chahye', 'Duniya', 'chla', 'gaye.', 'bhar', 'ji', 'farig', 'ameen', 'Inka', 'G', 'mri', 'England', 'afiya', 'charon', 'Bushra', 'baith', 'ada', 'Lakh', 'bag', 'hain?Nasir', 'mat', 'Aafia', 'pr', 'dauran', '9', 'khuwab', 'adakari', 'Quaid', 'ic', 'Nizami', 'bijli', 'filmein', 'Bacho', '23', 'waisi', 'days', 'chaa', '16', 'angez', 'year', '1931', 'aya.', 'taur', 'ittefaq', '8', 'mila.', 'car', 'Khel', 'maray', 'wajah', 'General', 'apk', 'policy', 'lega', 'aeham', 'skty', 'Aaj', 'Movement', 'samaj', 'taqdeer', 'idhr', 'Zulfiqar', 'akhir', 'pages', '1961', 'Ppp', 'mafad', 'Ke', 'piyar', 'nikla', 'Lee', 'jana', 'kaisy', 'huye', 'khol', 'information', 'muqablon', 'Malir', 'waisa', 'Likha', 'win', 'bhae', 'Ja', 'image', 'Ata', 'darkhast', 'rat', 'niche', 'khas', 'Sae', 'lihaz', 'fitness', 'afsoos', 'tarjeeh', 'gaye', 'Pehlay', '1978', 'shareek', 'Live', 'skta', 'Oh', 'Action', 'Jo', 'fasla', 'hawale', 'maza', 'hamay', 'Adalat', 'ho', 'Pehli', 'nhi', 'hee', 'dosre', 'kheelna', 'horaha', 'Ho', 'iske', 'marzi', '11', 'the', 'Attaullah', 'dene', 'unhon', 'rahai', 'shaiqeen', 'rasta', 'George', 'Molvi', 'feel', 'mhbt', '44', 'tiger', 'hahahah', 'Khas', 'yah', 'alan', 'gali', 'ami', '1966', 'shareef', 'Janaza', 'program', 'iqrar', 'me..', '1965', 'Pani', 'Aurat', 'Video', 'khandan', 'Director', 'Dec', 'face', 'Bhutto', 'Hameed', 'chala', 'kamiyabi', 'kio', 'Arab', 'wearing', 'abdul', 'cola', 'oo', 'naye', 'Abhi', 'lie', 'martial', 'Butt', 'zaroorat', 'Samajh', 'buht', 'bnd', 'raat', 'Condoleezza', 'pohanch', 'wazaif', 'hosting', 'jayen', 'farma', 'mehsoos', 'Jaan', 'tank', 'Air', 'ri', 'batae', 'Hamari', 'Baji', 'problem', 'Marshal', 'Yaa', 'ga...', 'ure', 'rakhna', 'Shayad', 'krni', 'Squash', 'datay', '2010', 'tumhari', 'Ek', 'Peshawar', 'wicket', 'shan', 'nara', 'Laila', 'Yar', 'Tumari', 'kitna', 'taiyar', 'pey', 'aapne', 'buri', 'kasam', 'sunta', 'hawa', 'bano', 'U', 'hamin', 'jay', 'Manshiyat', 'bahut', 'rukniyat', 'mery', 'rohani', 'karkardegi', 'nu', 'masher', 'sath', 'karwai', 'larkion', 'Kya', 'screen', 'hyn', 'Aya', 'hota,', 'Senior', 'liya', 'policies', 'khatam', 'aman', 'masrofiyat', 'howe', 'wifi', 'why', 'bande', 'Mili', 'puraney', 'hain', 'Chah', 'zamanat', 'hifz', 'inqalab', 'darmiyani', 'traf', 'AGR', 'Janwar', 'Mohyeddin', 'saddar', '??', 'maslan', 'husan', 'chunache', '2011', 'suba', 'When', 'himat', 'khtm', 'friends', 'hea', 'tery', 'saz', 'baby', 'video', 'farar', 'aqawami', 'Mohammed', 'ha,', 'industry', 'marne', 'hina', 'Barishon', 'kush', 'bhen', 'mager', 'its', 'baba', 'daikh', 'Same', 'krwa', '.', 'dunya', 'Mujy', 'Yhi', 'bss', 'sazish', 'episodes', 'amm', 'over', 'Ashfaq', 'tarikh', 'hall', 'pyari', 'delete', 'songs', 'idea', 'arazi', 'sheri', 'hota', 'hatyar', 'Tb', 'HO', 'gaen', 'Aao', 'Ansar', '1954', 'title', 'Mumbai', 'short', 'book', 'chye', 'masoom', 'California', 'apko', 'Still', 'Sabit', 'karta', 'Nusrat', 'zarurat', 'an', 'ramazan', 'Waja', 'Karain', 'lagta', 'tumhain', 'paya', 'D', 'mumtaz', 'perform', 'bus', 'dakhla', '?', 'bare', 'Kohat', 'ha...', 'zindabad', 'sochti', 'thi.', 'tehat', 'Funny', 'long', 'ataa', 'karni', 'pheli', 'asan', 'bataty', 'parna', 'chahia', 'likes', 'kai', 'college', 'code', 'Mera', 'Zaheer', 'just', 'content', 'Your', 'hameshah', 'degrees', 'kiun', 'Iftikhar', 'hawala', 'Monroe', 'hojayega', 'hai', 'intakhabat', 'shaded', 'arsa', 'kro', 'zindagi', 'bais', 'saka', 'Roshan', 'ha', 'beta', 'daur', 'yh', 'wazir', 'start', 'tusi', '36', 'qabool', 'Pta', 'Shaheed', 'khabar', 'game', \"can't\", 'giraftar', 'hue', 'Hona', 'hamen', 'Karkun', 'aghaz', 'Its', 'hogaye', 'board', 'bachchon', 'fahad', 'saray', 'kee', 'chay', 'stuff', 'Baar', 'farigh', 'jaise', 'jany', 'Eid', 'poori', 'lo.', 'qadri', 'of', 'hamary', 'tha.', 'fikri', 'azaad', '&', 'tjhy', 'krain', 'muqarrar', 'event', 'N', 'aziz', 'Umer', 'shakhsiyat', 'fil', 'khul', 'hmri', 'ga.', 'record', 'dua', 'hy.', 'karwaya', 'tym', 'leay', 'Keller', 'Raju', 'Last', 'ai', 'ga?', 'sanat', '1980', 'larkiyan', 'chor', 'Hath', 'mertaba', 'Question', 'Pagara', 'part', 'park', 'marshal', 'first', 'shows', 'donon', 'barhe', 'aney', 'rehm', 'kab', 'Main', 'masrof', 'Shabbir', 'jamaton', 'Janab', 'A', 'exams', 'Mene', 'ziada', 'Bad', 'zalimo', '1900', 'hai.', 'Aus', 'Dubai', 'chunn', 'makhsoos', 'nizam', 'Justice', 'Hall', 'Azeem', 'bohot', 'Qiyam', 'kre', 'morning', 'chun', 'ehsas', 'molazmat', 'wazeer', 'rya', 'Bas', 'olad', 'Rai', 'Anay', 'Abbas', 'bahot', 'see', 'wi', 'qanoon', 'Dua', 'jae', 'wash', 'Rang', 'tasawor', 'hn.', 'milte', 'action', 'media', 'bri', 'Musharraf', 'Chemistry', 'kerte', 'Bhot', 'ground', 'skti', 'Charles', 'athletes', 'Bangladesh', 'nazreen', 'parties', 'chahta', 'mily', 'public', 'Li', 'Laken', 'ahamiyat', 'Musharaf', 'Kernay', 'unhi', 'nakam', 'baqaida', 'mjhy', 'hogaya', 'pta', 'Agarcha', 'madad', 'hwa', 'mulaqat', 'qaumi', 'Sath', 'bajaye', 'quomi', 'Jhot', 'peechay', 'cheen', 'hoye', 'hoty', 'dekh', 'Sakta', 'come', 'sathiyon', 'sekha', 'zayada', 'rozana', 'family', 'Man', 'machine', 'tujhy', 'Haha', 'expect', 'Sub', 'chairman', '2006', 'PAK', 'Lux', 'Lagta', 'fb', 'Saudi', 'Saqib', 'ikhteyar', 'du', '2013', 'dehshat', 'Alam', 'chori', 'product', 'Afzal', 'paisay', 'Kabhi', 'hotey', 'jawab', 'tip', 'logo', 'choro', 'Abdullah', 'yehi', 'darja', 'su', 'banayega', 'krny', 'bajae', 'parhe', ':3', 'Qaum', 'Lorry', 'gar', 'bill', 'ho,', 'qism', 'guftugo', 'yad', 'jaddo', 'waqeyat', 'Hahah', 'education', 'Han', 'Wo', 'rehtay', 'lagein', 'Bank', 'driver', 'trah', 'Pori', 'Spielberg', 'saken', 'wo', 'saqib', 'Sakhi', 'Sary', 'bike', 'bhiii', 'july', 'mari', 'First', 'war', 'pora', 'unka', 'hukoomat', 'hahah', 'jaisi', 'num', 'phupho', 'coat', 'hamwar', 'mera', 'ti', 'baat', 'R', 'thats', 'red', 'Taleemi', 'wahan', 'prince', 'dill', 'imtiaz', 'falahi', 'wapsi', 'batao', 'hoein', 'hotel', 'haa', 'Sa', 'zra', 'one', 'dressing', 'sunn', 'sahibaan', 'banday', 'h.', 'happy', 'chuki', 'ilaqon', 'Sir', 'Town', 'Rozay', 'suna', 'zaati', 'fasadaat', 'aunti', 'May', 'gaey', 'jantay', 'ur', 'mansab', 'hai”', 'kyu', 'toot', 'Pr', 'make', 'Karen', 'asrat', 'Jani', 'jamat', 'buland', 'masla', 'farokht', 'Noor', 'tera', 'December', 'mutasir', 'acha', 'tOo', 'comments', 'Darmiyan', 'lol', 'haya', 'leya', 'France', 'Aoa', 'Tamam', 'Rajiv', 'Muslim', 'Aisa', 'lar', 'kamyaab', 'Bus', 'Den', 'guzara', 'position', 'Elaqay', '2016', 'aksar', 'Commissioner', 'khuwahish', 'CD', 'wait', 'Bi', 'Lana', 'lamha', 'krne', 'mali', 'boy', 'shuba', 'bolte', 'dana', 'nikl', 'moqam', 'Fauj', 'thank', 'Krny', 'tau', 'sorry', 'cast', 'yrr', 'dabao', 'namonay', 'Karobar', 'hoi', 'azmai', 'The', 'Nay', 'musalman', 'imran', 'Awan', 'aakhri', 'true', 'debate', 'Chal', 'hay', 'intekhabat', 'fojiyon', 'Ga', 'ajiya', 'or', 'tw', 'tar', 'zrort', 'Nawa', 'karan', 'waqf', 'mutassir', 'hosh', 'maaf', 'council', 're', 'sakte', 'Hahahah', '90', 'Qasim', 'coca', 'g', 'mary', 'crush', 'center', 'govt', 'waqar', '2014', 'aai', 'chahey', 'muhim', 'loug', 'bhabi', 'jeetne', 'singing', 'dono', 'ambulance', 'chore', 'kehte', 'Badi', 'Haan', 'Sattar', '500', 'NRO', 'den', 'zere', 'matlb', 'Tere', 'sona', 'Point', 'siwa', 'deta', 'Talib', 'baten', 'hassi', 'hona', 'asal', 'the.', 'hoti', 'timing', '1000', 'tehreek', 'Pride', 'founder', '1988', 'bolty', 'may', 'Nigar', 'hamrah', 'gay', 'kaafi', 'kidr', 'bitha', '“main', 'Tab', 'plzz', 'Zia-ul-Haq', 'aisey', 'mizaj', 'lekn', 'time', 'muslim', 'sadarti', 'li.', 'shouq', 'kbi', 'daikho', 'qisam', 'Usman', 'iqtedar', 'sis', 'humaray', 'Biwi', 'maujood', 'unhein', 'feelings', 'hasil', 'aurat', 'tarjuman', 'tanqeed', '30', 'der', 'tabhi', 'waghairah', 'Ky', 'Inho', 'har', 'namoona', 'ppr', 'Chaudhry', 'Iski', 'bardasht', 'wase', 'hmarey', 'comment', 'taba', 'barae', 'niklay', 'ijlas', 'chupe', 'Police', 'guzishta', 'Banane', 'mean', 'Farokht', 'bagher', 'Gaye', 'arab', 'ny', 'Lay', 'budget', 'List', 'ghareeb', 'tanzeem', 'KIA', 'Radio', 'itnee', 'wan', 'OR', 'Group', 'Ahsan', 'hojata', 'hoga..', 'directors', 'ECP', 'agar', 'Pakistan', 'Ahmed', 'Hashir', 'dry', 'yaqeen', 'training', 'samjhdar', 'khany', 'force', 'insaf', 'Saal', 'Right', 'apna', 'howa.', 'baz', 'Zabardast', 'tor', 'Zindagi', 'beth', 'test', 'd', 'Zardari', 'hahahahahaha', 'mere', 'apny', 'mangwaye', 'dekhen', 'Minhas', 'raasta', '24', 'anay', 'Lahore', 'Mard', 'milne', 'Old', '50', 'mosiqi', 'What', 'Area', 'about', 'Vote', 'team', 'request', 'pohancha', 'shoro', 'Jang', 'rock', 'baar', 'Insaaf', 'hoy', 'tayar', 'Aap', 'status', 'Marilyn', '25', 'doosry', 'Salman', 'mehfooz', '2004', 'islami', ',,', 'Market', 'tahum', 'bojh', 'Mianwali', 'dena', 'sasti', 'baatein', 'pakra', 'bil', 'Mahfuz', 'shahid', 'surat', 'Hyderabad', 'conference', 'samjha', 'jasy', 'aazmai', 'Kary', 'baja', 'inhein', 'beauty', 'guna', 'top', 'Fori', 'District', 'Hi', 'k', 'hoa', 'parwarish', 'un', 'Nadeem', ':(', 'Mehdi', 'likhe', 'gai', 'khala', 'nikalta', 'pgl', 'Bator', 'janam', 'takra', 'Hal', 'intehai', 'rahe', 'gi', 'tha', 'MA', 'NWFP', 'steel', 'hamare', 'inning', 'under', 'Faisal', 'August', 'Muft', 'angrez', 'uthaya', 'Sialkot', 'na...', 'and', '😂😂😂', 'JO', 'inko', 'amli', 'markazi', 'guzarna', 'khatir', 'dali', 'Javed', 'mana', 'T', 'huq', 'Net', 'ak', 'leyeh', 'Tajir', 'bahar', 'hamari', 'Ay', 'Hazar', 'WO', 'kamiyab', 'banny', '250', 'gana', 'retirement', 'Lance', 'hua.', 'mobile', 'Hindustan', 'say', 'riyasat', 'report', 'awaz', 'waja', 'Ayoub', 'equal', 'qanon', 'umer', 'Civil', 'love', 'Wizarat', 'honay', 'Khalen', '2008', 'vo', 'Likh', 'Sheer', 'hawalay', '1946', 'Isy', 'plzzz', 'tho', 'shumar', 'Isko', 'fankaron', 'rukh', '(', 'Wala', 'Ismail', 'auhdey', 'manane', 'deer', 'ly', 'Rangers', '🤣', 'Tk', 'Ya', 'rha', 'Islami', 'saholaten', 'filmon', 'Hind', 'aalmi', 'krta', 'tb', 'ok', 'ln', 'married', 'ladki', 'auntie', 'YE', 'Le', 'Ansari', 'Mirza', 'uska', 'Angrez', 'Calcutta', 'Iqbal:', 'akhbar', 'Road', 'hogi', 'moqa', 'Ma', 'karai', 'Mumlikat', 'khelte', 'simi', 'bahir', 'Samad', 'innings', 'nahi', 'liy', 'hatane', 'stallone', 'khelaf', 'bhi', 'Begum', 'wazarat', 'roka', '1914', 'barri', 'shiddat', 'bhaio', 'Sath,', 'Iqbal', 'asa', 'athletics', 'dhamaka', 'Ae', 'ko', 'nam', 'smile', 'baqi', 'Akhir', 'actor', 'Itna', 'Judges', 'Hazrat', 'all', 'cha', 'circuit', 'upload', 'unhain', 'films', 'mayar', 'naa', 'February', 'funny', 'original', 'body', 'Fazal', 'wazan', 'qoum', 'Pervez', 'Nazar', 'No', 'such', 'bheja', 'achaa', 'tarah', 'wesy', 'shoq', 'credit', 'Unho', 'itna', 'waste', 'rakho', 'gait', 'Steven', 'Peoples', 'jasoosi', 'Ban', 'pahar', 'yd', 'hamle', 'alfaaz', 'chale', 'Saghar', 'Apki', 'politician', 'selfie', 'Mita', ',', 'tanzem', 'bnaya', 'panah', 'kerna', 'hanste', 'Ubqari', 'issue', 'hijab', 'forum', 'waldain', 'balke', 'Deputy', 'Dekh', '100%', 'bench', 'mili', 'card', 'burger', 'di', 'reply', 'Election', 'poore', 'Phr', 'zakhmi', 'Yh', 'sawal', '1950', 'Faisalabad', 'hidayat', 'Cup', 'abbasi', 'Sadiq', 'dafan', 'ni', 'DE', 'hain.', 'izhaar', 'Aunty', 'army', 'walon', 'samne', 'goya', 'jehad', 'milna', 'comedy', 'Amna', 'likhna', '!!', 'khule', 'Ittehad', 'E', 'dunia', 'Molana', 'sabab', 'qareeb', 'Bolti', 'Qasmi', 'dae', 'asi', 'nei', 'Gay', 'Inshallah', 'Gi', 'Russia', 'deen', 'kaa', 'glass', 'pehli', 'umeed', 'lakhon', 'bando', 'Drame', 'careem', 'gayi', 'fr', 'Syed', 'humen', 'awwal', 'Bila', '10', 'atey', 'haraya', 'yr', 'akhri', 'mehaz', 'karliya', 'Phir', 'practice', 'kiye,', 'merey', 'qaiym', 'jisko', 'nafiz', 'khair', '1985', 'jga', 'aisa', 'Dosra', 'Men', 'tehrir', 'drame', 'howay', 'quaid', 'Mje', 'aisay', ':D', 'bora', 'Jawed', 'barha', 'janta', 'halaat', 'hero', 'en', 'kursi', 'campaign', 'actors', 'jar', 'sota', 'ghante', 'KR', 'Arsal', 'India', 'Kaha', 'saalon', 'retired', 'wapis', 'Hai.', 'esy', 'thin', '1998', 'Surat', 'aati', 'ki', 'me.', 'Jata', 'jinho', 'Aam', 'dino', 'mje', 'bhaag', 'Zaid', '32', 'Hai', 'De', 'special', 'kerney', 'zikar', '1979', 'Press', 'lage', 'jila', 'Aziz', 'hal', '38', 'Hindustani', 'Kal', 'khelari', 'business', 'bolna', 'ase', 'HAI', 'mareez', 'ghayab', 'hooa', 'sazindon', 'hosla', 'lea', 'showbiz', 'akhrajat', 'ra', 'huta', 'khari', 'nay', 'dress', 'BHI', 'krtay', 'mulki', 'dosro', 'kijiye', 'gun', 'rukun', 'ladkiyon', 'hamesha', '1940', 'chat', 'good', 'pareshan', 'kh', 'kron', 'kahein', 'Tribunal', 'hui', 'dikha', 'waise', 'band', 'kb', 'Aesi', 'banay', 'sanbhal', 'hahahha', 'Imtiaz', 'Barkat', 'Ghazal', 'Unit', 'khilaaf', 'hmaisha', 'lia', 'Naeem', 'miss', 'Insha', 'Ibrahim', 'dain.', 'itne', 'chaiye', 'dete', 'saal', 'chaly', 'chahiye', 'walk', 'kapra', 'silsile', 'huwa', 'kabi', 'Shadi', 'Axha', 'kiunkay', 'Plz', 'haal', 'gea', 'hein', 'kari', 'seat', 'tmam', 'thori', 'gayein', 'management', 'Nhi', 'insan', 'daal', 'aakar', 'mayari', 'golden', 'Notification', 'halka', 'khuch', 'salahiyaton', 'silsila', 'Mulki', 'ben', 'masjid', 'prhti', 'maddah', 'Baray', 'phel', 'sakta', 'judge', 'Jolie', 'SAB', 'what', 'abad', 'bola', 'property', 'tumhri', 'buzzer', 'John', 'mushtamil', 'pan', 'better', 'sar', 'hare', 'tumhara', 'phele', 'gaming', 'picture', 'Index', 'Namaz', 'Tumhari', 'Bahi', 'Ali', 'Aj', 'aalam', 'khush', 'Jama', 'dn', 'logon', '37', 'banta', 'hahaha', 'Zealand', 'khali', 'Bano', 'tawun', 'liey', 'Zarorat', 'bar', 'Miss', 'arsey', 'muntaqil', 'afia', 'dai', 'ub', 'qaim', 'karen', 'deti', 'karke', 'Sheikh', 'aae', 'yaad', 'Yeah', ':p', 'In', 'yahn', 'wakai', '247', 'But', 'sy', 'akhiri', 'Punjab', 'Bin', 'Indies', 'Pir', 'muhabbat', 'Misr', 'Doctors', 'hamaray', 'seekhne', 'hy,', 'kaya', 'kharch', 'word', 'Inter', 'Ao', 'don', 'Dakhla', 'lyty', 'fikar', 'pyar', 'khilariyon', 'ta', 'leta', '28', 'Nehru', 'her', 'zati', 'Masjid', 'Deti', 'Anwar', 'this', 'focus', 'without', 'maussir', 'r', 'hazri', 'movies', 'jao', 'article', 'zubaan', 'mumkin', 'teesri', 'taqreeb', 'Sachi', 'your', 'lena', 'bataen', 'terha', 'bnay', 'dramas', 'afraad', 'wasool', 'charge', 'serials', 'Siyasi', 'Aala', 'Waqt', 'jitni', 'Committee', 'khudi', 'teachers', 'behan', 'Ajj', 'hotay', 'Me', 'farz', 'jeete', 'Khatam', '22', 'Subai', 'roza', 'general', 'January', 'agye', 'hayn', 'dialogue', 'unhe', 'bethy', 'episode', 'abi', 'page', 'apki', '1943', 'send', 'order', 'Abid', 'degree', 'kesi', 'puri', 'filmy', '46', 'Bajay', 'mjh', 'khez', 'Kia', 'kher', 'aan', 'chalte', 'bataur', 'aam', 'tarane', 'Admin', 'Ni', '2', 'farq', '17', 'bap', 'khati', 'sb', 'bolon', 'Jana', 'Agree', 'semester', 'Lahore,', 'darmiyan', 'jaib', 'want', 'kaisay', \":')\", 'Ibtedai', 'log', 'khilari', 'mukamal', 'gaya,', 'c', 'munh', 'play', 'Sharif', 'bra', 'karle', 'you', 'Naam', 'Yes', 'new', 'pehlay', 'Amitabh', 'zahir', 'huay', 'Elaqon', 'Karnay', 'kehtay', 'Day', 'karu', 'ammi', 'Ko', 'larne', 'aysa', 'had', 'shoes', 'bachpan', 'shohar', 'namak', 'buhat', 'iska', 'item', 'chukey', 'daura', 'agarcha', 'haye', 'civil', 'X', 'IPL', 'taley', 'Aakhri', 'chaheye', 'ek', 'bhtt', 'Awam', 'tashreef', 'Hide', 'mehnat', 'ilmi', 'inhe', 'azan', 'NY', 'taraf', 'big', 'Khamosh', 'Bary', 'shadi', 'fan', 'theen', 'mansooba', 'kise', 'Shamil', 'Ap', 'Rona', 'rakhti', 'Tu', 'waghera', 'qarar', 'khel', 'has', 'funn', 'ahmiyat', 'krein', 'Rashdi', 'v', 'Qayam', 'PSL', 'available', 'peer', 'Land', 'izafa', 'award', 'Kabul', 'bank', 'azaadi', 'banda', 'behtareen', 'koo', 'istamal', 'La', \"it's\", 'Faisla', 'biwi', 'Kardi', 'dekhy', 'lene', 'YA', 'a', 'city', 'paristaron', 'unty', 'Koe', 'thin,', 'Rana', 'international', 'Malala', 'Munir', 'lakin', 'jaega', 'ya', 'Pahle', 'toota', 'writer', 'kho', 'adad', 'Jin', 'Go', 'Wale', 'Nawab', 'taleem', 'Zero', 'kiya', 'garmi', 'Wazeer-e-Azam', 'Kar', 'Ami', 'tahafuz', 'always', 'Govt', 'dr', 'si', 'merit', '1944', 'chalai', 'kaam', 'reh', 'Fatima', '12', 'stadiums', 'khasusi', 'hoga', 'adakara', 'puch', 'hongay', 'jaisay', 'H', 'Miandad', 'laita', 'Millat', 'XD', 'frma', 'tow', 'phir', 'serial', 'mara', 'kary', 'samaji', 'cheezon', 'Hehehe', 'nahi.', 'PIA', 'Amir', 'wakeel', 'Indian', 'aala', 'Parvaiz', 'babe', 'Iran', 'geet', 'thi..', 'mai', 'dadi', 'jane', 'laty', 'tum', 'contact', 'Noon', \"didn't\", 'gae,', 'razi', 'roles', 'hy..', 'qawwal', 'khoon', 'tabi', 'huey', 'jiya', 'jor', 'adarat', 'any', 'Hahahhaha', 'dun', 'dye', 'Usi', 'puray', 'cheeks', 'punjab', 'bhai.', 'Rauf', 'Qk', 'kitne', 'pics', 'Mari', 'Sardar', 'kia', 'humari', 'uth', 'parhai', 'roshan', 'wafat', 'bila', 'milkar', 'E-Knights', 'price', 'hospital', 'Sani', 'guzarish', 'mujy', 'lehaza', 'they', 'idr', 'September', 'paise', '7', 'Anti', 'key', 'office', 'Walid', 'Matlab', 'iskay', 'nazer', 'products', 'Jb', 'uthana', 'Iska', 'level', 'ana', 'Rabta', '1962', 'Send', 'bolne', 'jama', 'mutadid', 'smj', 'by', 'Laga', 'Alkareem', 'pride', \"I'm\", 'Mukhtalif', 'mama', 'w8', 'Alhamdulilah', 'mene', 'ati', 'mien', 'parhne', 'Retirement', 'bore', 'darjan', 'Lag', 'bani', 'hti', 'shukr', 'bachen', 'hand', 'paray', 'lambi', 'Quran', 'yes', 'usy', 'leg', 'e', 'Aqwam', 'aankh', '2012', 'Anjuman', 'siasi', 'party', 'Hr', 'house', 'Bijli', 'hain,', 'dehaiyon', 'ky', 'imdad', 'manhoos', 'Faiz', 'Insan', 'know', 'Raha', 'Jokhio', 'Hmari', 'unke', 'Asan', 'Dene', 'Koi', '45', 'aap', 'ml', 'aadmi', 'rahey', ':P', 'torh', 'Agaz', 'Rahai', 'bowling', 'Nasir', 'mukhtalif', 'again', 'Us', 'phar', 'tabdeeli', 'bacha', 'pichay', 'gari', 'nikalti', 'chahiye.', 'offer', 'shb', 'kapre', 'Boht', 'Army', 'tayyarey', 'zamane', 'mah', 'gud', 'bn', 'Chief', 'chehra', 'honi', 'dety', 'kae', 'mjhse', 'nahee', '1970', 'nikalte', 'arz', 'lgi', 'ho!', 'je', 'Sab', 'Rahi', '.....', 'being', 'zordar', 'raza', 'editor', 'azaa', 'gira', 'wahid', 'amal', 'aashna', 'nazr', 'Dost', 'shuro', '%', 'Sonia', 'osy', 'president', 'qabza', 'aise', 'Officer', 'karnama', 'kehta', 'Ali,', 'journalist', 'pka', 'qadam', 'tajurba', 'soch', 'shikasht', 'provide', 'garam', 'nikle', 'PR', '???', 'choron', 'plx', 'Guzar', 'wala', 'Yaad', 'cricketer', 'mile', '1997', 'Pas', 'challenge', '1939', 'Quetta', 'kal', 'nai', 'i', 'waala', 'sakhta', '1955', 'nashar', 'uske', '2009', '4', 'PM', 'kerne', 'kami', 'Jitna', 'beshk', 'derh', 'krlo', 'tumhare', 'patli', 'from', 'Sarhad', 'hojaye', 'haqeeqat', 'awam', 'recording', 'rakhtay', 'junior', 'hia', 'movie', 'kahen', 'kya', '10th', 'who', 'Diya', 'markaz', 'karobar', 'honge', 'ki.', 'Suhrawardy', 'session', 'geya', '😂', 'pata', 'kbhi', 'feeling', 'qalandar', 'to', 'Kafi', 'Call', 'karam', 'law', 'guzar', 'hain?', 'Buhat', 'banti', 'mzaq', 'ayi', 'bhot', 'society', '14', 'Assistant', 'aks', 'me', 'shaheed', 'political', 'Wajah', 'Tera', 'Yasir', 'krdena', 'bharti', 'rahi,', 'election', 'Sun', 'sitara', 'bc', 'star', 'unho', 'Kerne', 'qismat', 'sahee', 'tartan', '2003', 'shikast', 'pasand', 'nzr', 'qayadat', 'jaye.', 'Deen', 'aqwami', 'Waqai', 'itni', 'khusosi', 'need', 'Super', 'Madad', 'Dono', 'shuhrat', 'lot', 'aag', 'ALLAH', 'kamm', 'Agr', 'waqeya', 'misaal', 'Subha', 'Hahahahah', 'sirf', 'teen', 'zid', 'friend', 'paa', 'aata', 'ik', 'mini', '????', 'sakht', 'Martial', 'mashi', 'rast', 'lok', 'nasal', 'same', 'anty', 'aor', 'Hafeez', 'mosalsal', 'muqam', 'waha', 'qismati', 'btai', 'Hollywood', 'box', 'kia.', 'ahsan', 'bemar', 'Hahaha...', 'sahir', 'dastor', 'maze', 'madam', 'teesre', 'wife', 'agya', 'doctor', 'university', 'bazi', 'television', 'rahein', 'itnay', 'change', 'rahe,', 'Stations', 'id', 'Brazil', 'lodhi', 'jain', 'Captain', 'Zaman', 'ban', 'masaib', 'm', 'Governor', 'hna', 'PMLN', 'tv', 'honey', 'too', '2001', 'Dard', 'Tujhe', 'Nine', 'kl', 'follow', 'Angelina', 'most', 'fir', 'aglay', 'paka', 'Just', '<3', 'shair', 'border', 'wali', 'hill', 'chahate', 'interview', 'tha,', 'rahee', 'hai..', 'paki', 'show', '40', 'votes', 'Issi', 'lagaya', 'haseen', '59', 'audition', 'thi', 'aaye', 'na', 'khaty', 'hua', 'ni.', 'sitting', 'DJ', 'lagi.', 'Wazir', 'btao', 'jaya', 'busy', 'regular', '😝', 'jesa', 'apke', 'deay', 'tareekhi', '2002', 'mustaqbil', 'jaen', 'baney', 'our', 'Johnny', 'fawad', 'faisla', 'lagana', 'kehny', 'Pvt', 'American', 'Ha', 'hazar', 'partnership', 'adhori', 'im', 'lagai', 'Hakeem', 'koe', 'my', 'Putin', 'behtar', 'Haji', 'pese', 'hen', 'Ziada', 'pazeerai', 'Jamat', 'ghalti', 'Uzma', 'saky', 'khelne', 'tashadud', 'bunyadi', 'Jansher', 'pra', 'insani', 'Khair', 'hesiyat', 'style', 'asli', ':-P', 'jinhe', 'isay', '....', 'paida', 'khasa', 'khubsorat', 'taqub', 'Wohi', 'iski', 'bharat', 'maroof', 'Aey', 'bethe', 'coach', 'par', 'mauseeqi', 'ul', 'Bol', 'Commercial', 'kaha', 'Aslam', 'halqon', 'kissi', 'Qurbani', 'th', 'waloon', 'bataya', 'Masha', '1990', 'Karo', 'khwab', 'banate', 'bayanat', 'irada', 'Major', 'Raat', 'different', 'yha', 'liye', 'parhny', 'Murad', 'ghair', 'dehai', 'lgti', 'career', 'nawaz', 'stop', 'krdo', 'maut', 'hui,', 'Pti', 'khushi', 'gharano', 'Billo', 'Qaim', 'Qaumi', 'Shanakhti', 'Apna', 'keye', 'metro', 'masail', 'Teresa', 'hum', 'talluq', 'Jawan', 'kyun', 'should', 'Baad', 'anti', 'khanay', 'afsos', 'open', 'National', 'gift', 'hukumat', 'dikh', 'inteqal', '1971', 'Babar', 'six', 'muqabil', 'jatay', 'bolin', 'kardiya', 'Club', 'hayat', 'mamle', 'marte', 'arkaan', 'Shoaib', 'dollar', 'fankarana', 'esi', 'wrong', 'atay', 'kaho', 'bachy', 'yaa', 'nehayat', 'actresses', 'Sikander', 'janab', 'chali', 'lamba', 'kah', 'bal', 'channel', 'slam', 'laye', 'fashion', 'bnda', 'score', 'baki', 'kernay', 'sahab', 'zer', 'socha', 'raha', 'Bari', 'NA', 'tmhari', 'duty', 'conditions', 'mukhalfat', 'kale', 'Ur', 'kalaam', 'Rahmet', 'Itne', 'mohabat', 'wajha', 'yar', 'pare', 'dein', 'bachay', 'Airport', 'Hen', '3rd', 'jald', 'walida', 'Gunah', 'acting', 'dain', 'class', 'aelaan', 'theak', 'islamabad', 'Package', 'Kayi', 'wja', 'Kese', '(4)', 'End', 'choor', 'actress', 'chief', 'thora', 'Andaz', 'bin', 'lutf', 'GA', 'chezon', 'Princes', 'Past', 'Rasool', 'sadar', 'sahib', 'usse', 'Shuro', 'as', 'maqsad', 'saala', 'hmare', 'mujhse', '😁', 'Shah', 'kerta', 'it', 'Hota', 'celebrity', 'bht', 'mosam', 'tareen', 'boring', 'anjam', 'pani', 'istefa', 'sargarmiyon', 'batay', 'pari', 'laken', 'size', 'And', 'Sindh', 'Uss', 'Unkay', 'larna', 'Aisi', 'bilkul', 'art', 'ajaye', 'On', 'khatra', 'Jai', 'araha', 'mauqa', 'chuky', 'kerny', 'kryn', 'Ayub', 'black', 'uzma', 'ise', 'hahahaha', 'Mir', 'gher', 'khawateen', 'Lo', 'concert', 'taqreer', 'nama', 'All', 'hifazat', 'kahe', 'ao', 'allah', 'we', 'sahafi', 'huway', 'chez', '80', 'Ham', 'late', 'plz', 'aty', 'Tv', 'bi', '100', 'shayad', 'Hero', 'sub', 'ijazat', 'baatain', 'amar', 'mil', 'ahan', 'mare', '6', 'y', 'jahan', 'hain..', 'aarha', 'Huwa', 'raqam', 'dastaan', 'u', 'mian', 'salam', 'dar', 'yani', 'Kinza', 'tmhary', 'pagal', 'gi.', 'project', 'Tha', 'nazal', 'Is', 'very', 'thay', 'purana', 'Misbah', 'Manzoor', 'Ghulam', 'rah', 'gay.', 'muqarar', 'bol', 'Rs', 'yai', 'pti', 'healthy', 'Ameen.', 'shaksiyat', 'bachi', 'mureedon', 'yehan', 'afsaran', 'Apko', 'white', 'ar', 'namaz', 'lety', 'hai?Nasir', 'kahani', 'milk', 'qabal', 'best', 'hamri', 'uper', 'martabah', 'muslims', '1974', 'mustaqil', 'Murshid', 'zarorat', 'akar', 'hahahahaha', 'faraham', 'choice', 'milta', 'Asim', 'zehni', 'cricket', 'Work', 'sahiba', 'Inhe', 'kahan', 'h', 'kindly', 'baje', 'Dan', 'bat', 'experience', 'chuka', 'Sep', 'data', 'thi,', 'yahi', 'go', 'raj', 'ustani', 'add', 'umar', 'wese', 'kartey', 'case', 'Anokhi', 'shor', 'os', 'hmari', 'Nov', 'Shahadat', 'share', 'humary', 'karnay', 'maam', 'choti', 'bad', 'high', 'Pehle', 'Shop', 'Allah', 'tmhy', 'wah', 'lag', '4th', 'maidan', 'issi', 'Delhi', 'larki', '1951', 'Or', 'rakh', 'tay', 'Nd', 'hoo', 'rukhsat', 'roz', 'Hahahahaha', 'Lol', 'ah', 'Shahid', 'private', 'jaldi', 'ga😂😂😂', 'lay', 'back', 'hm', 'speed', 'opoen', 'Comedy', 'Kare', 'gharelo', 'Karachi,', 'chaar', 'muhaide', 'hareef', 'Lewis', 'Prince', '😂😂😂😂😂', 'burai', 'maloom', 'Mary', 'Sahab', 'idare', 'Kamyab', 'jia', 'Janay', 'orat', 'Insaf', 'ayee', 'right', 'squad', 'mi', 'rhi', 'Korangi', 'rahaa', 'fare', 'tamam', 'alfaz', 'Havaldar', 'utar', 'years', 'daein', 'Dollor', 'rhna', 'sathi', 'hissay', 'haii', 'lgta', 'ho???', 'karne', 'Meri', 'kren.', '😂😂😂😂', 'Janib', 'kun', 'saneha', 'karo', 'ganey', 'Inn', 'Mout', 'Yad', 'jub', 'Nikal', 'bane', 'Imkan', 'trust', 'batai', 'novel', 'husun', 'naujawan', 'izzat', 'pay', 'shoot', 'qatil', 'would', 'Yehi', 'tuo', 'azad', 'zinda', 'Shukar', 'Awaz', 'zarori', 'bata', 'jangi', 'pur', 'barhi', 'alawa', 'Waldain', 'hongy', 'psl', 'seekha', 'Post', 'Chalo', 'zror', 'aqal', 'azeem', 'keon', '..', 'hai…', 'dost', 'naik', 'road', 'dekhty', 'Tariq', 'mulazmat', 'ikhtetam', 'haq', 'royal', 'mila', 'aunty', 'Urdu', 'hooi', '95', 'chaie', 'dey', 'Hmesha', 'kren', 'mosikaron', 'talent', 'marna', 'taweel', 'maharat', 'Q', 'jamhoriyat', 'oil', '1960', 'dilon', 'skte', 'Na', 'Watan', 'FIFA', 'dobarah', 'academy', 'intekhab', 'bhag', 'website', 'god', 'October', 'chahty', 'warna', 'pehen', 'Runs', 'ge', 'classes', 'wasi', 'Iqra', 'Maa', 'number', 'behn', 'mea', 'shamil', 'pehchan', 'Sahi', 'Sabiq', 'mn', 'qiyadat', 'News', 'papa', 'Wah', 'line', 'Niazi', 'parents', 'Kiya', 'for', 'chawal', 'cheese', 'yaadgar', 'UP', 'jise', 'tulba', 'deny', 'kha', 'mulk', 'insaniyat', 'Badar', 'nuqta', 'nasheen', 'martaba', 'yaha', 'Lena', 'thein', 'sakay', 'peche', '2018', 'Chunache', 'husband', 'vote', 'hamain', 'Magar', 'gunah', 'jamhuriat', 'Secretariat', 'aj', 'teray', 'yasir', 'hair', 'Oye', 'trha', 'Rehnuma', 'rae', 'bcha', 'sasta', 'print', 'pooch', 'nahien', 'dekhay', 'tarh', 'Khuwaja', 'Hoga', 'gii', 'Band', 'Internet', 'albata', 'Maslan', 'reha', 'aba', 'achy', 'nahe', 'zaroori', 'smjh', 'sharif', 'hua,', 'jesi', 'facebook', 'herat', 'Jia', 'naseeb', 'AB', 'haan', 'walo', 'Jan', 'pagara', 'inshallah', 'thee', 'Bachan', 'parh', 'International', 'khatoot', 'bas', 'rahi.', 'Theek', 'abhi', 'much', 'gia', 'das', 'production', 'keep', 'dakho', 'Dunya', 'dikhne', 'area', 'isliye', 'dekho', 'season', 'Birthday', 'magar', 'karay', 'hu', 'kirdar', 'Arooj', 'q?', '1968', 'pesh', 'employees', 'so', '27', 'Polling', 'unhone', 'bara', 'rokna', 'Saas', 'block', 'mayoos', 'Sb', 'awami', 'Hoi', 'no', 'jante', 'baray', 'Ahmad', 'Talab', 'la', 'Al', 'dopher', 'dushman', 'kapron', 'coaching', 'dekha', 'Mobile', 'waley', 'jalsa', 'nahein', 'promotion', 'player', 'namzad', 'fani', 'Mufti', 'jawan', 'Dena', 'khod', 'k.', 'Jati', 'kya?', 'khty', 'unhen', 'bete', 'Japan', 'chai', 'IK', 'use', 'Rehman', 'Sylvester', 'kam', 'ha.', 'agy', 'hta', 'jb', '60', 'Salam', 'medium', 'Khatoon', 'bunyad', 'rai', '0', 'lazmi', 'Azad', 'karte', 'question', 'bnai', 'khabees', 'take', 'jeeto', 'K', 'Yay', 'saat', 'amma', 'dum', 'foran', 'chehre', 'rh', 'se', 'ppp', 'aapke', 'pura', 'dukh', 'sir', 'Tareen', 'parhi', 'chanda', 'national', 'shohrat', 'exactly', 'Depp', 'door', 'Ghar', 'players', 'rehnuma', 'makeup', 'pasnd', 'tareekh', 'hoqoq', 'Iman', 'badshah', 'bta', 'Jaya', 'volume', 'rokne', 'Khail', 'ayein', 'minute', 'Uncle', 'dilchaspi', '1958', 'KA', 'kardi', 'haft', 'kahin', 'toba', 'naami', 'department', 'Hum', 'govt.', 'inki', 'ikhtelaf', 'purani', 'agli', 'girl', 'tab', 'elaqon', 'apnay', 'sardi', 'Dist', 'point', 'Allama', 'maqboliyat', 'Gul', 'Krne', 'axha', 'Ka', 'misal', 'riwayat', 'Kyun', 'hafiz', 'mazak', 'bazat', 'asar', 'bach', 'lets', 'station', 'Khoro', 'wle', 'inka', 'hun', 'Logon', 'taqreban', 'banae', 'eke', 'zarye', 'Commander', 'support', 'police', 'Honay', 'guzarne', 'gold', 'Show', 'bd', 'banane', 'gaie', 'if', 'world', 'prime', 'janey', 'ney', 'Bilkul', 'games', 'krna', 'numayan', 'Edward', 'Bro', 'Service', 'zamin', 'zabt', 'Pyar', 'Tumhen', 'Nobel', 'safar', 'bole', 'Ikhlaq', 'sanam', 'zara', 'agaz', 'inn', 'Australia', 'han', 'helmet', 'Afghan', 'For', 'musalmano', 'usey', 'words', 'Rice', 'bohat', 'sunne', 'iz', 'kr', 'thie', 'officer', 'hone', 'nh', 'peechy', 'tawajjah', 'mumalik', 'humy', 'karwane', 'rakhta', 'kay', 'khilafat', 'sambhal', 'light', 'b', 'Hy', 'Apne', 'wahin', 'esa', 'room', 'Js', 'month', 'rehti', 'khuwateen', 'uni', 'mamlat', 'Pesh', 'izaz', 'samnay', 'dekhta', 'jaa', 'am', 'ksi', 'lae', '43', 'agaya', 'saaf', 'blast', 'kisy', 'Jari', 'shidad', 'karny', 'ae', 'cream', 'done', 'asy', 'Din', 'Haq', 'banya', 'rahi', 'ayat', 'mun', 'huwe', 'degar', 'paisa', 'West', 'sab', 'Farooq', 'strong', 'nishast', 'posts', 'Aaye', 'Surah', 'bari', 'majboor', 'karwa', '57', 'tournament', 'Rocky', 'tadaad', 'mujhay', 'barqarar', 'masroof', 'athlete', 'Qayamat', '42', 'It', 'bomb', 'Y', 'land', '1991', 'pk', 'yateem', 'arse', 'color', 'hazrat', 'him', 'mujhey', 'Kaif', 'Ab', 'khela', 'maine', 'karty', 'Ker', 'Had', 'roop', 'hen.', '1956', 'mam', 'committee', 'lein', 'deya', 'ghanta', ':/', 'last', 'Bayan', 'saath', 'jin', 'Kam', 'paae', 'suggest', 'think', 'parha', 'couple', 'try', 'rhe', 'post', 'Emma', 'deya.', 'parhta', 'Ye', 'pa', 'rkh', 'dear', 'aaghaz', 'hei', 'mujhe', 'Tum', 'Haider', 'kon', 'munfarid', 'sary', 'minister', 'Sohail', 'hukomat', 'Mein', 'dhondne', 'puranay', 'srif', 'pore', 'ku', 'khtam', 'kra', 'jari', 'hate', 'qiyam', 'gola', 'admi', 'muntakhib', 'yom', 'diye', '18', 'khane', 'muqabalon', 'third', 'usay', 'dusron', 'ko,', 'himayat', 'mre', 'Jiya', 'hote', 'Diye', 'Kash', '61', 'isny', 'bhai', 'zarur', 'Chl', 'gya', 'rahay', 'mny', 'khuda', 'wale', 'kiye', 'manzoor', 'emaan', 'agai', 'deye', 'anjaam', 'rate', 'waze', 'result', 'Kon', 'karo.', 'khail', 'karain', 'chakar', 'kinza', 'mutaliq', 'raham', 'phly', 'rok', 'Billion', 'loha', 'Hashmi', 'raah', 'Suba', '1994', 'Lakin', 'lihaaz', 'wohi', 'sarbarah', 'Rpt', 'ee', 'but', 'Ager', 'Degree', 'Council', '15', 'Jahan', 'Afrad', 'muat', 'standard', 'banana', 'Pic', 'sarkari', 'bato', 'dance', 'wa', 'Yeh', 'Naik', 'kch', 'li', 'jacket', 'Kitab', 'Jaldi', 'hori', 'out', 'krin', 's', 'sara', 'in', 'trouser', 'raho', 'unhy', 'he', 'Baz', 'heroin', 'arahi', 'dekhte', 'dna', 'Ramzan', 'ghari', 'walay', 'Apny', '”', '1963', 'live', 'bati', 'pictures', 'auqaat', 'loves', 'skin', 'dea', 'ko.', 'qemat', 'Say', 'awards', 'batein', 'senior', 'mashoor', 'sher', 'mukhalif', 'both', 'itny', 'hath', 'Lady', 'paye', 'Bs', 'siyasat', 'adab', 'manzar', 'abu', 'muje', 'mukammal', '58', 'n', '1952', 'ilaj', 'Esakhelvi', 'baaz', 'programs', 'course', 'Unhe', 'shru', 'kama', 'papers', 'chalo', 'badar', 'Zada', 'naya', 'Bacha', 'ajj', 'khilaf', 'Mohammad', 'thnx', 'TU', 'Itni', 'ley', 'subai', 'notice', 'hn', 'maf', 'haram', 'wickets', 'Sari', 'maddahon', 'their', 'bachna', 'Bohat', 'seekho', 'Law', 'chup', 'doran', 'Hukkam', 'dusri', 'Pak', 'Out', 'mein', 'Aa', 'para', 'yeah', 'tabah', 'dj', 'Yon', 'chota', 'bazar', 'Street', 'working', 'press', 'Chuki', 'Apni', 'jail', 'kpk', '3', 'Halat', 'hadees', 'qk', 'Abi', 'shaks', 'roshni', 'Agar', 'tarbiyat', 'wahi', 'PTI', 'yeh', 'Intikhab', 'shauq', 'karein', 'bik', 'sawar', 'bolo', 'old', 'pakar', 'Un', 'hi,', 'aulad', 'tari', 'mehsos', 'baha', 'aesi', 'Se', 'Nai', 'nishan', 'mang', 'paas', 'never', '1989', 'dollars', 'work', 'tajurbat', 'Pehla', 'sare', 'Insaan', 'bataon', 'Ada', 'poray', 'Pakistani', 'aain', 'dastakhat', 'job', 'kehty', 'hmara', 'joke', 'Ghaffar', 'meri', 'list', 'halak', 'dinon', 'student', 'majmua', 'apky', 'mast', 'AP', 'Hawa', 'gawah', 'Sim', 'matches', 'kitni', 'likh', 'Abu', 'khatoon', 'loog', 'bethay', 'gane', 'inho', 'thk', 'shaya', 'roll', 'barh', 'Drama', 'siasat', 'boht', 'pahonche', '2007', 'saloon', 'wafd', 'kafi', 'akkasi', 'halal', 'dakh', 'fit', 'Shikast', 'zyada'}\n"
     ]
    }
   ],
   "source": [
    "common_words = pos_corpus.intersection(neg_corpus, neu_corpus)\n",
    "print(len(common_words))\n",
    "print(common_words)"
   ]
  },
  {
   "cell_type": "code",
   "execution_count": 5,
   "metadata": {
    "colab": {},
    "colab_type": "code",
    "id": "mUcTP2o4zQSP"
   },
   "outputs": [],
   "source": [
    "def clean_doc(doc):\n",
    "    tokens = doc.split()\n",
    "    re_punc = re.compile('[%s]' % re.escape(string.punctuation))\n",
    "    tokens = [re_punc.sub('',w) for w in tokens]\n",
    "    tokens = [word for word in tokens if word.isalpha()]\n",
    "    tokens = [word for word in tokens if not word in common_words]\n",
    "    tokens = [word.lower() for word in tokens]\n",
    "    tokens = [word for word in tokens if len(word)>2]\n",
    "    return tokens"
   ]
  },
  {
   "cell_type": "code",
   "execution_count": 6,
   "metadata": {
    "colab": {},
    "colab_type": "code",
    "id": "9S-iM2JyznTj"
   },
   "outputs": [],
   "source": [
    "#Get X and Y data\n",
    "corpus = []\n",
    "for i in range(data.shape[0]):\n",
    "    review = data.iloc[:,0].values[i]\n",
    "    review = clean_doc(review)\n",
    "    review=' '.join(review)\n",
    "    corpus.append(review)\n",
    "\n",
    "X = np.array(corpus)\n",
    "\n",
    "y = data.iloc[:,1].values"
   ]
  },
  {
   "cell_type": "code",
   "execution_count": 7,
   "metadata": {
    "colab": {
     "base_uri": "https://localhost:8080/",
     "height": 34
    },
    "colab_type": "code",
    "id": "N6DKNuECz8bD",
    "outputId": "526640b8-9c6d-48db-96a1-0b1df6a19502"
   },
   "outputs": [
    {
     "data": {
      "text/plain": [
       "(20227, 4)"
      ]
     },
     "execution_count": 7,
     "metadata": {},
     "output_type": "execute_result"
    }
   ],
   "source": [
    "c_data = pd.DataFrame(X, columns=['text'])\n",
    "c_data['label'] = y\n",
    "c_data['char_len'] = c_data['text'].apply(lambda x: len(x) - x.count(\" \"))\n",
    "c_data['word_count'] = c_data['text'].apply(lambda x: len(x.split(\" \")))\n",
    "c_data.shape"
   ]
  },
  {
   "cell_type": "code",
   "execution_count": 8,
   "metadata": {
    "colab": {
     "base_uri": "https://localhost:8080/",
     "height": 359
    },
    "colab_type": "code",
    "id": "E4Uzr_7z2nu_",
    "outputId": "89a2c7d4-79ad-4735-8f63-49b72e635bc8"
   },
   "outputs": [
    {
     "data": {
      "text/html": [
       "<div>\n",
       "<style scoped>\n",
       "    .dataframe tbody tr th:only-of-type {\n",
       "        vertical-align: middle;\n",
       "    }\n",
       "\n",
       "    .dataframe tbody tr th {\n",
       "        vertical-align: top;\n",
       "    }\n",
       "\n",
       "    .dataframe thead th {\n",
       "        text-align: right;\n",
       "    }\n",
       "</style>\n",
       "<table border=\"1\" class=\"dataframe\">\n",
       "  <thead>\n",
       "    <tr style=\"text-align: right;\">\n",
       "      <th></th>\n",
       "      <th>text</th>\n",
       "      <th>label</th>\n",
       "      <th>char_len</th>\n",
       "      <th>word_count</th>\n",
       "    </tr>\n",
       "  </thead>\n",
       "  <tbody>\n",
       "    <tr>\n",
       "      <th>0</th>\n",
       "      <td>sai</td>\n",
       "      <td>Positive</td>\n",
       "      <td>3</td>\n",
       "      <td>1</td>\n",
       "    </tr>\n",
       "    <tr>\n",
       "      <th>1</th>\n",
       "      <td></td>\n",
       "      <td>Positive</td>\n",
       "      <td>0</td>\n",
       "      <td>1</td>\n",
       "    </tr>\n",
       "    <tr>\n",
       "      <th>2</th>\n",
       "      <td></td>\n",
       "      <td>Positive</td>\n",
       "      <td>0</td>\n",
       "      <td>1</td>\n",
       "    </tr>\n",
       "    <tr>\n",
       "      <th>3</th>\n",
       "      <td></td>\n",
       "      <td>Positive</td>\n",
       "      <td>0</td>\n",
       "      <td>1</td>\n",
       "    </tr>\n",
       "    <tr>\n",
       "      <th>4</th>\n",
       "      <td>are wha</td>\n",
       "      <td>Positive</td>\n",
       "      <td>6</td>\n",
       "      <td>2</td>\n",
       "    </tr>\n",
       "    <tr>\n",
       "      <th>5</th>\n",
       "      <td></td>\n",
       "      <td>Positive</td>\n",
       "      <td>0</td>\n",
       "      <td>1</td>\n",
       "    </tr>\n",
       "    <tr>\n",
       "      <th>6</th>\n",
       "      <td>wha khubiya</td>\n",
       "      <td>Positive</td>\n",
       "      <td>10</td>\n",
       "      <td>2</td>\n",
       "    </tr>\n",
       "    <tr>\n",
       "      <th>7</th>\n",
       "      <td>khubiya</td>\n",
       "      <td>Positive</td>\n",
       "      <td>7</td>\n",
       "      <td>1</td>\n",
       "    </tr>\n",
       "    <tr>\n",
       "      <th>8</th>\n",
       "      <td></td>\n",
       "      <td>Positive</td>\n",
       "      <td>0</td>\n",
       "      <td>1</td>\n",
       "    </tr>\n",
       "    <tr>\n",
       "      <th>9</th>\n",
       "      <td>everyone allah swt hamesha lawzo zaat sub hey</td>\n",
       "      <td>Positive</td>\n",
       "      <td>38</td>\n",
       "      <td>8</td>\n",
       "    </tr>\n",
       "  </tbody>\n",
       "</table>\n",
       "</div>"
      ],
      "text/plain": [
       "                                            text     label  char_len  \\\n",
       "0                                            sai  Positive         3   \n",
       "1                                                 Positive         0   \n",
       "2                                                 Positive         0   \n",
       "3                                                 Positive         0   \n",
       "4                                        are wha  Positive         6   \n",
       "5                                                 Positive         0   \n",
       "6                                    wha khubiya  Positive        10   \n",
       "7                                        khubiya  Positive         7   \n",
       "8                                                 Positive         0   \n",
       "9  everyone allah swt hamesha lawzo zaat sub hey  Positive        38   \n",
       "\n",
       "   word_count  \n",
       "0           1  \n",
       "1           1  \n",
       "2           1  \n",
       "3           1  \n",
       "4           2  \n",
       "5           1  \n",
       "6           2  \n",
       "7           1  \n",
       "8           1  \n",
       "9           8  "
      ]
     },
     "execution_count": 8,
     "metadata": {},
     "output_type": "execute_result"
    }
   ],
   "source": [
    "c_data.head(10)"
   ]
  },
  {
   "cell_type": "code",
   "execution_count": 9,
   "metadata": {
    "colab": {
     "base_uri": "https://localhost:8080/",
     "height": 376
    },
    "colab_type": "code",
    "id": "Nm56GfTk3mZa",
    "outputId": "b00e5849-fada-4bc5-c864-09caf260a1d3"
   },
   "outputs": [
    {
     "name": "stdout",
     "output_type": "stream",
     "text": [
      "(12491, 4)\n"
     ]
    },
    {
     "data": {
      "text/html": [
       "<div>\n",
       "<style scoped>\n",
       "    .dataframe tbody tr th:only-of-type {\n",
       "        vertical-align: middle;\n",
       "    }\n",
       "\n",
       "    .dataframe tbody tr th {\n",
       "        vertical-align: top;\n",
       "    }\n",
       "\n",
       "    .dataframe thead th {\n",
       "        text-align: right;\n",
       "    }\n",
       "</style>\n",
       "<table border=\"1\" class=\"dataframe\">\n",
       "  <thead>\n",
       "    <tr style=\"text-align: right;\">\n",
       "      <th></th>\n",
       "      <th>text</th>\n",
       "      <th>label</th>\n",
       "      <th>char_len</th>\n",
       "      <th>word_count</th>\n",
       "    </tr>\n",
       "  </thead>\n",
       "  <tbody>\n",
       "    <tr>\n",
       "      <th>4</th>\n",
       "      <td>are wha</td>\n",
       "      <td>Positive</td>\n",
       "      <td>6</td>\n",
       "      <td>2</td>\n",
       "    </tr>\n",
       "    <tr>\n",
       "      <th>6</th>\n",
       "      <td>wha khubiya</td>\n",
       "      <td>Positive</td>\n",
       "      <td>10</td>\n",
       "      <td>2</td>\n",
       "    </tr>\n",
       "    <tr>\n",
       "      <th>9</th>\n",
       "      <td>everyone allah swt hamesha lawzo zaat sub hey</td>\n",
       "      <td>Positive</td>\n",
       "      <td>38</td>\n",
       "      <td>8</td>\n",
       "    </tr>\n",
       "    <tr>\n",
       "      <th>10</th>\n",
       "      <td>rab kreem reham watneaziz frmaamin</td>\n",
       "      <td>Positive</td>\n",
       "      <td>30</td>\n",
       "      <td>5</td>\n",
       "    </tr>\n",
       "    <tr>\n",
       "      <th>11</th>\n",
       "      <td>jaago coom jaago nokar humarey tex tankha paki...</td>\n",
       "      <td>Positive</td>\n",
       "      <td>54</td>\n",
       "      <td>10</td>\n",
       "    </tr>\n",
       "    <tr>\n",
       "      <th>12</th>\n",
       "      <td>sacha jany kese bdl sakta think nsl ase guzr jain</td>\n",
       "      <td>Positive</td>\n",
       "      <td>40</td>\n",
       "      <td>10</td>\n",
       "    </tr>\n",
       "    <tr>\n",
       "      <th>13</th>\n",
       "      <td>garip lati zulum lati</td>\n",
       "      <td>Positive</td>\n",
       "      <td>18</td>\n",
       "      <td>4</td>\n",
       "    </tr>\n",
       "    <tr>\n",
       "      <th>15</th>\n",
       "      <td>musalman phir dor jahalat jaraha hiyaday farma...</td>\n",
       "      <td>Positive</td>\n",
       "      <td>86</td>\n",
       "      <td>17</td>\n",
       "    </tr>\n",
       "    <tr>\n",
       "      <th>18</th>\n",
       "      <td>ase namil badl</td>\n",
       "      <td>Positive</td>\n",
       "      <td>12</td>\n",
       "      <td>3</td>\n",
       "    </tr>\n",
       "    <tr>\n",
       "      <th>22</th>\n",
       "      <td>muskurany rouny muskuraty loug hansi jalyn</td>\n",
       "      <td>Positive</td>\n",
       "      <td>37</td>\n",
       "      <td>6</td>\n",
       "    </tr>\n",
       "  </tbody>\n",
       "</table>\n",
       "</div>"
      ],
      "text/plain": [
       "                                                 text     label  char_len  \\\n",
       "4                                             are wha  Positive         6   \n",
       "6                                         wha khubiya  Positive        10   \n",
       "9       everyone allah swt hamesha lawzo zaat sub hey  Positive        38   \n",
       "10                 rab kreem reham watneaziz frmaamin  Positive        30   \n",
       "11  jaago coom jaago nokar humarey tex tankha paki...  Positive        54   \n",
       "12  sacha jany kese bdl sakta think nsl ase guzr jain  Positive        40   \n",
       "13                              garip lati zulum lati  Positive        18   \n",
       "15  musalman phir dor jahalat jaraha hiyaday farma...  Positive        86   \n",
       "18                                     ase namil badl  Positive        12   \n",
       "22         muskurany rouny muskuraty loug hansi jalyn  Positive        37   \n",
       "\n",
       "    word_count  \n",
       "4            2  \n",
       "6            2  \n",
       "9            8  \n",
       "10           5  \n",
       "11          10  \n",
       "12          10  \n",
       "13           4  \n",
       "15          17  \n",
       "18           3  \n",
       "22           6  "
      ]
     },
     "execution_count": 9,
     "metadata": {},
     "output_type": "execute_result"
    }
   ],
   "source": [
    "c_data = c_data[(c_data['char_len'] > 3) & (c_data['word_count'] > 1)]\n",
    "print(c_data.shape)\n",
    "c_data.head(10)"
   ]
  },
  {
   "cell_type": "code",
   "execution_count": 10,
   "metadata": {
    "colab": {
     "base_uri": "https://localhost:8080/",
     "height": 85
    },
    "colab_type": "code",
    "id": "S5Xo7BvD4Gny",
    "outputId": "9ed7a93a-e522-4c3f-ff57-3fa4016d3b55"
   },
   "outputs": [
    {
     "data": {
      "text/plain": [
       "Neutral     4467\n",
       "Positive    4104\n",
       "Negative    3920\n",
       "Name: label, dtype: int64"
      ]
     },
     "execution_count": 10,
     "metadata": {},
     "output_type": "execute_result"
    }
   ],
   "source": [
    "c_data.label.value_counts()"
   ]
  },
  {
   "cell_type": "markdown",
   "metadata": {
    "colab_type": "text",
    "id": "MsRoYYQ64uFd"
   },
   "source": [
    "# Cleaned Data with 3 Classes 'Positive', 'Negative', 'Neutral'"
   ]
  },
  {
   "cell_type": "code",
   "execution_count": 11,
   "metadata": {
    "colab": {},
    "colab_type": "code",
    "id": "DU3h4A9c4cBn"
   },
   "outputs": [],
   "source": [
    "c_data_3 = c_data.copy()"
   ]
  },
  {
   "cell_type": "code",
   "execution_count": 12,
   "metadata": {
    "colab": {
     "base_uri": "https://localhost:8080/",
     "height": 34
    },
    "colab_type": "code",
    "id": "SZRAYwgB6H-8",
    "outputId": "09461440-edc9-4d6f-e1a3-b2064e463f28"
   },
   "outputs": [
    {
     "name": "stdout",
     "output_type": "stream",
     "text": [
      "Total Vacab Size in the 3 Classes dataset is : 28543\n"
     ]
    }
   ],
   "source": [
    "vocab_3 = []\n",
    "for sentence in c_data_3['text'].values:\n",
    "  temp = sentence.split()\n",
    "  vocab_3 = vocab_3 + temp\n",
    "print('Total Vacab Size in the 3 Classes dataset is : {}'.format(len(set(vocab_3))))"
   ]
  },
  {
   "cell_type": "code",
   "execution_count": 14,
   "metadata": {},
   "outputs": [],
   "source": [
    "c_data_3.to_csv('set_3classes_clean.csv', header=True)"
   ]
  },
  {
   "cell_type": "markdown",
   "metadata": {
    "colab_type": "text",
    "id": "U13Dcw-v_FCa"
   },
   "source": [
    "# Prepare the Data"
   ]
  },
  {
   "cell_type": "code",
   "execution_count": 17,
   "metadata": {
    "colab": {},
    "colab_type": "code",
    "id": "ObNmJXSo-v_q"
   },
   "outputs": [],
   "source": [
    "from sklearn.feature_extraction.text import TfidfVectorizer, CountVectorizer\n",
    "from sklearn.preprocessing import LabelEncoder\n",
    "from sklearn.metrics import accuracy_score, confusion_matrix, precision_score, recall_score\n",
    "from sklearn.model_selection import train_test_split\n",
    "from sklearn.ensemble import RandomForestClassifier"
   ]
  },
  {
   "cell_type": "code",
   "execution_count": 105,
   "metadata": {
    "colab": {},
    "colab_type": "code",
    "id": "xv2LAHNU_Jst"
   },
   "outputs": [],
   "source": [
    "y_3 = c_data_3['label'].values\n",
    "enc = LabelEncoder()\n",
    "y_3 = enc.fit_transform(y_3)"
   ]
  },
  {
   "cell_type": "code",
   "execution_count": 106,
   "metadata": {
    "colab": {
     "base_uri": "https://localhost:8080/",
     "height": 34
    },
    "colab_type": "code",
    "id": "1CkBb9UiAKCo",
    "outputId": "9f2ecc13-5674-454e-af5c-79126d2e855b"
   },
   "outputs": [
    {
     "data": {
      "text/plain": [
       "(12491,)"
      ]
     },
     "execution_count": 106,
     "metadata": {},
     "output_type": "execute_result"
    }
   ],
   "source": [
    "y_3.shape"
   ]
  },
  {
   "cell_type": "code",
   "execution_count": 107,
   "metadata": {
    "colab": {
     "base_uri": "https://localhost:8080/",
     "height": 34
    },
    "colab_type": "code",
    "id": "XbXkU0OiAk71",
    "outputId": "51e3d58a-3cf2-4f43-9d4c-746e22df3723"
   },
   "outputs": [
    {
     "data": {
      "text/plain": [
       "(12491, 3)"
      ]
     },
     "execution_count": 107,
     "metadata": {},
     "output_type": "execute_result"
    }
   ],
   "source": [
    "c_data_3[['text', 'char_len', 'word_count']].shape"
   ]
  },
  {
   "cell_type": "code",
   "execution_count": 108,
   "metadata": {
    "colab": {},
    "colab_type": "code",
    "id": "H9scVVBh_zkR"
   },
   "outputs": [],
   "source": [
    "X_train, X_test, y_train, y_test = train_test_split(c_data_3[['text', 'char_len', 'word_count']],\n",
    "                                                    y_3, \n",
    "                                                    test_size = 0.2,\n",
    "                                                    random_state = 42,\n",
    "                                                    stratify = y_3)"
   ]
  },
  {
   "cell_type": "code",
   "execution_count": 109,
   "metadata": {
    "colab": {},
    "colab_type": "code",
    "id": "mlceia8kAAfr"
   },
   "outputs": [],
   "source": [
    "vectorizer = TfidfVectorizer() \n",
    "vectorizer = vectorizer.fit(X_train['text'])\n",
    "x_train_v = vectorizer.transform(X_train['text'])\n",
    "x_test_v = vectorizer.transform(X_test['text'])"
   ]
  },
  {
   "cell_type": "code",
   "execution_count": 110,
   "metadata": {
    "colab": {},
    "colab_type": "code",
    "id": "tSR-zpStBxeb"
   },
   "outputs": [],
   "source": [
    "X_train_v_3 = pd.concat([X_train[['char_len', 'word_count']].reset_index(drop=True),\n",
    "                          pd.DataFrame(x_train_v.toarray())], axis=1)\n",
    "X_test_v_3 = pd.concat([X_test[['char_len', 'word_count']].reset_index(drop=True),\n",
    "                         pd.DataFrame(x_test_v.toarray())], axis=1)"
   ]
  },
  {
   "cell_type": "code",
   "execution_count": 111,
   "metadata": {
    "colab": {},
    "colab_type": "code",
    "id": "e9e4AbqqDgVX"
   },
   "outputs": [
    {
     "name": "stdout",
     "output_type": "stream",
     "text": [
      "Shape of the Training data X : (9992, 24530), Y : (9992,)\n"
     ]
    }
   ],
   "source": [
    "# Shape of the Training data X and Y\n",
    "print(\"Shape of the Training data X : {}, Y : {}\".format(X_train_v_3.shape, y_train.shape))"
   ]
  },
  {
   "cell_type": "markdown",
   "metadata": {
    "colab": {},
    "colab_type": "code",
    "id": "_5OBKpXUDxud"
   },
   "source": [
    "# n_jobs = -1 for building parallel 150 decision trees. \n",
    "# Max_depth = None means it will build decision tree until minminzation of loss\n",
    "rf = RandomForestClassifier(n_estimators=150, max_depth=None, n_jobs=-1,class_weight=\"balanced\",random_state=42)\n",
    "#rf = GaussianNB()\n",
    "rf_model = rf.fit(X_train_v_3, y_train)\n",
    "y_pred = rf_model.predict(X_test_v_3)\n",
    "\n",
    "precision = precision_score(y_test, y_pred, pos_label='positive', average='weighted')\n",
    "recall = recall_score(y_test, y_pred, pos_label='positive', average='weighted')\n",
    "accuracy = accuracy_score(y_test, y_pred)\n",
    "\n",
    "print('Precision: {:.2f} | Recall: {:.2f} | Accuracy: {:.2f}'.format(precision,recall,accuracy))\n",
    "\n",
    "sns.set(font_scale=1.4)#for label size\n",
    "sns.heatmap(confusion_matrix(y_test, y_pred), cmap=\"Blues\", annot=True,annot_kws={\"size\": 14}, fmt='g')# font size"
   ]
  },
  {
   "cell_type": "code",
   "execution_count": 49,
   "metadata": {},
   "outputs": [],
   "source": [
    "import pandas as pd\n",
    "import numpy as np\n",
    "from sklearn import ensemble\n",
    "from sklearn import metrics\n",
    "from sklearn import model_selection"
   ]
  },
  {
   "cell_type": "code",
   "execution_count": 62,
   "metadata": {},
   "outputs": [],
   "source": [
    "vectorizer = TfidfVectorizer(max_features=2000) \n",
    "vectorizer = vectorizer.fit(c_data_3['text'])\n",
    "x_text = vectorizer.transform(c_data_3['text'])"
   ]
  },
  {
   "cell_type": "code",
   "execution_count": 63,
   "metadata": {},
   "outputs": [],
   "source": [
    "X = pd.concat([c_data_3[['char_len', 'word_count']].reset_index(drop=True),\n",
    "                          pd.DataFrame(x_text.toarray())], axis=1)"
   ]
  },
  {
   "cell_type": "code",
   "execution_count": 64,
   "metadata": {},
   "outputs": [
    {
     "data": {
      "text/plain": [
       "(12491, 2002)"
      ]
     },
     "execution_count": 64,
     "metadata": {},
     "output_type": "execute_result"
    }
   ],
   "source": [
    "X.shape"
   ]
  },
  {
   "cell_type": "code",
   "execution_count": 65,
   "metadata": {},
   "outputs": [],
   "source": [
    "y_3 = c_data_3['label'].values\n",
    "enc = LabelEncoder()\n",
    "y = enc.fit_transform(y_3)"
   ]
  },
  {
   "cell_type": "code",
   "execution_count": 66,
   "metadata": {},
   "outputs": [
    {
     "data": {
      "text/plain": [
       "(12491,)"
      ]
     },
     "execution_count": 66,
     "metadata": {},
     "output_type": "execute_result"
    }
   ],
   "source": [
    "y.shape"
   ]
  },
  {
   "cell_type": "code",
   "execution_count": 67,
   "metadata": {},
   "outputs": [],
   "source": [
    "classifier = ensemble.RandomForestClassifier(n_jobs=-1)"
   ]
  },
  {
   "cell_type": "code",
   "execution_count": 68,
   "metadata": {},
   "outputs": [],
   "source": [
    "param_grid = {\n",
    "    \"n_estimators\" : [100, 200, 300, 400],\n",
    "    \"max_depth\" : [1, 3, 5, 7], \n",
    "    \"criterion\" : ['gini', 'entropy'],\n",
    "}"
   ]
  },
  {
   "cell_type": "code",
   "execution_count": 69,
   "metadata": {},
   "outputs": [],
   "source": [
    "model = model_selection.GridSearchCV(\n",
    "    estimator=classifier,\n",
    "    param_grid=param_grid,\n",
    "    scoring = 'accuracy',\n",
    "    verbose=0,\n",
    "    n_jobs = 1,\n",
    "    cv = 5,\n",
    ")"
   ]
  },
  {
   "cell_type": "code",
   "execution_count": 28,
   "metadata": {},
   "outputs": [
    {
     "data": {
      "text/plain": [
       "GridSearchCV(cv=5, error_score=nan,\n",
       "             estimator=RandomForestClassifier(bootstrap=True, ccp_alpha=0.0,\n",
       "                                              class_weight=None,\n",
       "                                              criterion='gini', max_depth=None,\n",
       "                                              max_features='auto',\n",
       "                                              max_leaf_nodes=None,\n",
       "                                              max_samples=None,\n",
       "                                              min_impurity_decrease=0.0,\n",
       "                                              min_impurity_split=None,\n",
       "                                              min_samples_leaf=1,\n",
       "                                              min_samples_split=2,\n",
       "                                              min_weight_fraction_leaf=0.0,\n",
       "                                              n_estimators=100, n_jobs=-1,\n",
       "                                              oob_score=False,\n",
       "                                              random_state=None, verbose=0,\n",
       "                                              warm_start=False),\n",
       "             iid='deprecated', n_jobs=1,\n",
       "             param_grid={'criterion': ['gini', 'entropy'],\n",
       "                         'max_depth': [1, 3, 5, 7],\n",
       "                         'n_estimators': [100, 200, 300, 400]},\n",
       "             pre_dispatch='2*n_jobs', refit=True, return_train_score=False,\n",
       "             scoring='accuracy', verbose=0)"
      ]
     },
     "execution_count": 28,
     "metadata": {},
     "output_type": "execute_result"
    }
   ],
   "source": [
    "model.fit(X, y)"
   ]
  },
  {
   "cell_type": "code",
   "execution_count": 29,
   "metadata": {},
   "outputs": [
    {
     "data": {
      "text/plain": [
       "0.3873194754282817"
      ]
     },
     "execution_count": 29,
     "metadata": {},
     "output_type": "execute_result"
    }
   ],
   "source": [
    "model.best_score_"
   ]
  },
  {
   "cell_type": "code",
   "execution_count": 30,
   "metadata": {},
   "outputs": [
    {
     "data": {
      "text/plain": [
       "{'bootstrap': True,\n",
       " 'ccp_alpha': 0.0,\n",
       " 'class_weight': None,\n",
       " 'criterion': 'gini',\n",
       " 'max_depth': 7,\n",
       " 'max_features': 'auto',\n",
       " 'max_leaf_nodes': None,\n",
       " 'max_samples': None,\n",
       " 'min_impurity_decrease': 0.0,\n",
       " 'min_impurity_split': None,\n",
       " 'min_samples_leaf': 1,\n",
       " 'min_samples_split': 2,\n",
       " 'min_weight_fraction_leaf': 0.0,\n",
       " 'n_estimators': 100,\n",
       " 'n_jobs': -1,\n",
       " 'oob_score': False,\n",
       " 'random_state': None,\n",
       " 'verbose': 0,\n",
       " 'warm_start': False}"
      ]
     },
     "execution_count": 30,
     "metadata": {},
     "output_type": "execute_result"
    }
   ],
   "source": [
    "model.best_estimator_.get_params()"
   ]
  },
  {
   "cell_type": "code",
   "execution_count": 31,
   "metadata": {},
   "outputs": [],
   "source": [
    "# Trials with Random Search CV"
   ]
  },
  {
   "cell_type": "code",
   "execution_count": 70,
   "metadata": {},
   "outputs": [],
   "source": [
    "param_grid = {\n",
    "    \"n_estimators\" : [300, 200],\n",
    "    \"max_depth\" : np.arange(40, 80), \n",
    "    \"criterion\" : ['gini', 'entropy'],\n",
    "}"
   ]
  },
  {
   "cell_type": "code",
   "execution_count": 71,
   "metadata": {},
   "outputs": [],
   "source": [
    "model = model_selection.RandomizedSearchCV(\n",
    "    estimator=classifier,\n",
    "    param_distributions=param_grid,\n",
    "    n_iter = 10,\n",
    "    scoring = 'accuracy',\n",
    "    verbose=10,\n",
    "    n_jobs = 1,\n",
    "    cv = 5,\n",
    ")"
   ]
  },
  {
   "cell_type": "code",
   "execution_count": 72,
   "metadata": {},
   "outputs": [
    {
     "name": "stdout",
     "output_type": "stream",
     "text": [
      "Fitting 5 folds for each of 10 candidates, totalling 50 fits\n",
      "[CV] n_estimators=200, max_depth=73, criterion=gini ..................\n"
     ]
    },
    {
     "name": "stderr",
     "output_type": "stream",
     "text": [
      "[Parallel(n_jobs=1)]: Using backend SequentialBackend with 1 concurrent workers.\n"
     ]
    },
    {
     "name": "stdout",
     "output_type": "stream",
     "text": [
      "[CV]  n_estimators=200, max_depth=73, criterion=gini, score=0.451, total=   5.1s\n",
      "[CV] n_estimators=200, max_depth=73, criterion=gini ..................\n"
     ]
    },
    {
     "name": "stderr",
     "output_type": "stream",
     "text": [
      "[Parallel(n_jobs=1)]: Done   1 out of   1 | elapsed:    5.0s remaining:    0.0s\n"
     ]
    },
    {
     "name": "stdout",
     "output_type": "stream",
     "text": [
      "[CV]  n_estimators=200, max_depth=73, criterion=gini, score=0.458, total=   4.9s\n",
      "[CV] n_estimators=200, max_depth=73, criterion=gini ..................\n"
     ]
    },
    {
     "name": "stderr",
     "output_type": "stream",
     "text": [
      "[Parallel(n_jobs=1)]: Done   2 out of   2 | elapsed:    9.9s remaining:    0.0s\n"
     ]
    },
    {
     "name": "stdout",
     "output_type": "stream",
     "text": [
      "[CV]  n_estimators=200, max_depth=73, criterion=gini, score=0.467, total=   5.2s\n",
      "[CV] n_estimators=200, max_depth=73, criterion=gini ..................\n"
     ]
    },
    {
     "name": "stderr",
     "output_type": "stream",
     "text": [
      "[Parallel(n_jobs=1)]: Done   3 out of   3 | elapsed:   15.2s remaining:    0.0s\n"
     ]
    },
    {
     "name": "stdout",
     "output_type": "stream",
     "text": [
      "[CV]  n_estimators=200, max_depth=73, criterion=gini, score=0.492, total=   5.2s\n",
      "[CV] n_estimators=200, max_depth=73, criterion=gini ..................\n"
     ]
    },
    {
     "name": "stderr",
     "output_type": "stream",
     "text": [
      "[Parallel(n_jobs=1)]: Done   4 out of   4 | elapsed:   20.4s remaining:    0.0s\n"
     ]
    },
    {
     "name": "stdout",
     "output_type": "stream",
     "text": [
      "[CV]  n_estimators=200, max_depth=73, criterion=gini, score=0.472, total=   4.9s\n",
      "[CV] n_estimators=300, max_depth=54, criterion=gini ..................\n"
     ]
    },
    {
     "name": "stderr",
     "output_type": "stream",
     "text": [
      "[Parallel(n_jobs=1)]: Done   5 out of   5 | elapsed:   25.3s remaining:    0.0s\n"
     ]
    },
    {
     "name": "stdout",
     "output_type": "stream",
     "text": [
      "[CV]  n_estimators=300, max_depth=54, criterion=gini, score=0.453, total=   5.5s\n",
      "[CV] n_estimators=300, max_depth=54, criterion=gini ..................\n"
     ]
    },
    {
     "name": "stderr",
     "output_type": "stream",
     "text": [
      "[Parallel(n_jobs=1)]: Done   6 out of   6 | elapsed:   30.8s remaining:    0.0s\n"
     ]
    },
    {
     "name": "stdout",
     "output_type": "stream",
     "text": [
      "[CV]  n_estimators=300, max_depth=54, criterion=gini, score=0.451, total=   5.6s\n",
      "[CV] n_estimators=300, max_depth=54, criterion=gini ..................\n"
     ]
    },
    {
     "name": "stderr",
     "output_type": "stream",
     "text": [
      "[Parallel(n_jobs=1)]: Done   7 out of   7 | elapsed:   36.4s remaining:    0.0s\n"
     ]
    },
    {
     "name": "stdout",
     "output_type": "stream",
     "text": [
      "[CV]  n_estimators=300, max_depth=54, criterion=gini, score=0.457, total=   6.1s\n",
      "[CV] n_estimators=300, max_depth=54, criterion=gini ..................\n"
     ]
    },
    {
     "name": "stderr",
     "output_type": "stream",
     "text": [
      "[Parallel(n_jobs=1)]: Done   8 out of   8 | elapsed:   42.6s remaining:    0.0s\n"
     ]
    },
    {
     "name": "stdout",
     "output_type": "stream",
     "text": [
      "[CV]  n_estimators=300, max_depth=54, criterion=gini, score=0.479, total=   6.0s\n",
      "[CV] n_estimators=300, max_depth=54, criterion=gini ..................\n"
     ]
    },
    {
     "name": "stderr",
     "output_type": "stream",
     "text": [
      "[Parallel(n_jobs=1)]: Done   9 out of   9 | elapsed:   48.6s remaining:    0.0s\n"
     ]
    },
    {
     "name": "stdout",
     "output_type": "stream",
     "text": [
      "[CV]  n_estimators=300, max_depth=54, criterion=gini, score=0.461, total=   6.0s\n",
      "[CV] n_estimators=300, max_depth=78, criterion=entropy ...............\n",
      "[CV]  n_estimators=300, max_depth=78, criterion=entropy, score=0.447, total=   7.7s\n",
      "[CV] n_estimators=300, max_depth=78, criterion=entropy ...............\n",
      "[CV]  n_estimators=300, max_depth=78, criterion=entropy, score=0.466, total=   8.0s\n",
      "[CV] n_estimators=300, max_depth=78, criterion=entropy ...............\n",
      "[CV]  n_estimators=300, max_depth=78, criterion=entropy, score=0.464, total=   7.6s\n",
      "[CV] n_estimators=300, max_depth=78, criterion=entropy ...............\n",
      "[CV]  n_estimators=300, max_depth=78, criterion=entropy, score=0.495, total=   8.1s\n",
      "[CV] n_estimators=300, max_depth=78, criterion=entropy ...............\n",
      "[CV]  n_estimators=300, max_depth=78, criterion=entropy, score=0.475, total=   7.8s\n",
      "[CV] n_estimators=300, max_depth=71, criterion=entropy ...............\n",
      "[CV]  n_estimators=300, max_depth=71, criterion=entropy, score=0.446, total=   7.3s\n",
      "[CV] n_estimators=300, max_depth=71, criterion=entropy ...............\n",
      "[CV]  n_estimators=300, max_depth=71, criterion=entropy, score=0.459, total=   7.4s\n",
      "[CV] n_estimators=300, max_depth=71, criterion=entropy ...............\n",
      "[CV]  n_estimators=300, max_depth=71, criterion=entropy, score=0.462, total=   7.0s\n",
      "[CV] n_estimators=300, max_depth=71, criterion=entropy ...............\n",
      "[CV]  n_estimators=300, max_depth=71, criterion=entropy, score=0.494, total=   7.1s\n",
      "[CV] n_estimators=300, max_depth=71, criterion=entropy ...............\n",
      "[CV]  n_estimators=300, max_depth=71, criterion=entropy, score=0.466, total=   7.5s\n",
      "[CV] n_estimators=300, max_depth=46, criterion=gini ..................\n",
      "[CV]  n_estimators=300, max_depth=46, criterion=gini, score=0.451, total=   5.4s\n",
      "[CV] n_estimators=300, max_depth=46, criterion=gini ..................\n",
      "[CV]  n_estimators=300, max_depth=46, criterion=gini, score=0.447, total=   5.1s\n",
      "[CV] n_estimators=300, max_depth=46, criterion=gini ..................\n",
      "[CV]  n_estimators=300, max_depth=46, criterion=gini, score=0.457, total=   5.2s\n",
      "[CV] n_estimators=300, max_depth=46, criterion=gini ..................\n",
      "[CV]  n_estimators=300, max_depth=46, criterion=gini, score=0.475, total=   5.6s\n",
      "[CV] n_estimators=300, max_depth=46, criterion=gini ..................\n",
      "[CV]  n_estimators=300, max_depth=46, criterion=gini, score=0.454, total=   5.4s\n",
      "[CV] n_estimators=200, max_depth=43, criterion=entropy ...............\n",
      "[CV]  n_estimators=200, max_depth=43, criterion=entropy, score=0.438, total=   3.7s\n",
      "[CV] n_estimators=200, max_depth=43, criterion=entropy ...............\n",
      "[CV]  n_estimators=200, max_depth=43, criterion=entropy, score=0.447, total=   3.2s\n",
      "[CV] n_estimators=200, max_depth=43, criterion=entropy ...............\n",
      "[CV]  n_estimators=200, max_depth=43, criterion=entropy, score=0.450, total=   3.2s\n",
      "[CV] n_estimators=200, max_depth=43, criterion=entropy ...............\n",
      "[CV]  n_estimators=200, max_depth=43, criterion=entropy, score=0.473, total=   3.4s\n",
      "[CV] n_estimators=200, max_depth=43, criterion=entropy ...............\n",
      "[CV]  n_estimators=200, max_depth=43, criterion=entropy, score=0.449, total=   3.7s\n",
      "[CV] n_estimators=300, max_depth=61, criterion=entropy ...............\n",
      "[CV]  n_estimators=300, max_depth=61, criterion=entropy, score=0.448, total=   6.4s\n",
      "[CV] n_estimators=300, max_depth=61, criterion=entropy ...............\n",
      "[CV]  n_estimators=300, max_depth=61, criterion=entropy, score=0.452, total=   6.3s\n",
      "[CV] n_estimators=300, max_depth=61, criterion=entropy ...............\n",
      "[CV]  n_estimators=300, max_depth=61, criterion=entropy, score=0.459, total=   6.4s\n",
      "[CV] n_estimators=300, max_depth=61, criterion=entropy ...............\n",
      "[CV]  n_estimators=300, max_depth=61, criterion=entropy, score=0.482, total=   6.7s\n",
      "[CV] n_estimators=300, max_depth=61, criterion=entropy ...............\n",
      "[CV]  n_estimators=300, max_depth=61, criterion=entropy, score=0.464, total=   7.2s\n",
      "[CV] n_estimators=200, max_depth=67, criterion=gini ..................\n",
      "[CV]  n_estimators=200, max_depth=67, criterion=gini, score=0.453, total=   5.2s\n",
      "[CV] n_estimators=200, max_depth=67, criterion=gini ..................\n",
      "[CV]  n_estimators=200, max_depth=67, criterion=gini, score=0.460, total=   4.9s\n",
      "[CV] n_estimators=200, max_depth=67, criterion=gini ..................\n",
      "[CV]  n_estimators=200, max_depth=67, criterion=gini, score=0.460, total=   4.8s\n",
      "[CV] n_estimators=200, max_depth=67, criterion=gini ..................\n",
      "[CV]  n_estimators=200, max_depth=67, criterion=gini, score=0.488, total=   5.2s\n",
      "[CV] n_estimators=200, max_depth=67, criterion=gini ..................\n",
      "[CV]  n_estimators=200, max_depth=67, criterion=gini, score=0.467, total=   5.0s\n",
      "[CV] n_estimators=300, max_depth=76, criterion=gini ..................\n",
      "[CV]  n_estimators=300, max_depth=76, criterion=gini, score=0.455, total=   7.9s\n",
      "[CV] n_estimators=300, max_depth=76, criterion=gini ..................\n",
      "[CV]  n_estimators=300, max_depth=76, criterion=gini, score=0.458, total=   8.0s\n",
      "[CV] n_estimators=300, max_depth=76, criterion=gini ..................\n",
      "[CV]  n_estimators=300, max_depth=76, criterion=gini, score=0.463, total=   7.8s\n",
      "[CV] n_estimators=300, max_depth=76, criterion=gini ..................\n",
      "[CV]  n_estimators=300, max_depth=76, criterion=gini, score=0.495, total=   7.6s\n",
      "[CV] n_estimators=300, max_depth=76, criterion=gini ..................\n",
      "[CV]  n_estimators=300, max_depth=76, criterion=gini, score=0.469, total=   7.8s\n",
      "[CV] n_estimators=200, max_depth=64, criterion=gini ..................\n",
      "[CV]  n_estimators=200, max_depth=64, criterion=gini, score=0.455, total=   4.8s\n",
      "[CV] n_estimators=200, max_depth=64, criterion=gini ..................\n",
      "[CV]  n_estimators=200, max_depth=64, criterion=gini, score=0.455, total=   4.8s\n",
      "[CV] n_estimators=200, max_depth=64, criterion=gini ..................\n",
      "[CV]  n_estimators=200, max_depth=64, criterion=gini, score=0.463, total=   4.7s\n",
      "[CV] n_estimators=200, max_depth=64, criterion=gini ..................\n",
      "[CV]  n_estimators=200, max_depth=64, criterion=gini, score=0.484, total=   4.8s\n",
      "[CV] n_estimators=200, max_depth=64, criterion=gini ..................\n",
      "[CV]  n_estimators=200, max_depth=64, criterion=gini, score=0.468, total=   4.7s\n"
     ]
    },
    {
     "name": "stderr",
     "output_type": "stream",
     "text": [
      "[Parallel(n_jobs=1)]: Done  50 out of  50 | elapsed:  4.9min finished\n"
     ]
    },
    {
     "data": {
      "text/plain": [
       "RandomizedSearchCV(cv=5, error_score=nan,\n",
       "                   estimator=RandomForestClassifier(bootstrap=True,\n",
       "                                                    ccp_alpha=0.0,\n",
       "                                                    class_weight=None,\n",
       "                                                    criterion='gini',\n",
       "                                                    max_depth=None,\n",
       "                                                    max_features='auto',\n",
       "                                                    max_leaf_nodes=None,\n",
       "                                                    max_samples=None,\n",
       "                                                    min_impurity_decrease=0.0,\n",
       "                                                    min_impurity_split=None,\n",
       "                                                    min_samples_leaf=1,\n",
       "                                                    min_samples_split=2,\n",
       "                                                    min_weight_fraction_leaf=0.0,\n",
       "                                                    n_estimators=100, n_jobs...\n",
       "                   iid='deprecated', n_iter=10, n_jobs=1,\n",
       "                   param_distributions={'criterion': ['gini', 'entropy'],\n",
       "                                        'max_depth': array([40, 41, 42, 43, 44, 45, 46, 47, 48, 49, 50, 51, 52, 53, 54, 55, 56,\n",
       "       57, 58, 59, 60, 61, 62, 63, 64, 65, 66, 67, 68, 69, 70, 71, 72, 73,\n",
       "       74, 75, 76, 77, 78, 79]),\n",
       "                                        'n_estimators': [300, 200]},\n",
       "                   pre_dispatch='2*n_jobs', random_state=None, refit=True,\n",
       "                   return_train_score=False, scoring='accuracy', verbose=10)"
      ]
     },
     "execution_count": 72,
     "metadata": {},
     "output_type": "execute_result"
    }
   ],
   "source": [
    "model.fit(X, y)"
   ]
  },
  {
   "cell_type": "code",
   "execution_count": 60,
   "metadata": {},
   "outputs": [
    {
     "data": {
      "text/plain": [
       "0.4639351977780704"
      ]
     },
     "execution_count": 60,
     "metadata": {},
     "output_type": "execute_result"
    }
   ],
   "source": [
    "model.best_score_"
   ]
  },
  {
   "cell_type": "code",
   "execution_count": 61,
   "metadata": {},
   "outputs": [
    {
     "data": {
      "text/plain": [
       "{'bootstrap': True,\n",
       " 'ccp_alpha': 0.0,\n",
       " 'class_weight': None,\n",
       " 'criterion': 'entropy',\n",
       " 'max_depth': 63,\n",
       " 'max_features': 'auto',\n",
       " 'max_leaf_nodes': None,\n",
       " 'max_samples': None,\n",
       " 'min_impurity_decrease': 0.0,\n",
       " 'min_impurity_split': None,\n",
       " 'min_samples_leaf': 1,\n",
       " 'min_samples_split': 2,\n",
       " 'min_weight_fraction_leaf': 0.0,\n",
       " 'n_estimators': 300,\n",
       " 'n_jobs': -1,\n",
       " 'oob_score': False,\n",
       " 'random_state': None,\n",
       " 'verbose': 0,\n",
       " 'warm_start': False}"
      ]
     },
     "execution_count": 61,
     "metadata": {},
     "output_type": "execute_result"
    }
   ],
   "source": [
    "model.best_estimator_.get_params()"
   ]
  },
  {
   "cell_type": "markdown",
   "metadata": {
    "colab_type": "text",
    "id": "LonQoCbc5OCR"
   },
   "source": [
    "# Cleaned Data with 2 Classes 'Positive', 'Negative'"
   ]
  },
  {
   "cell_type": "code",
   "execution_count": 102,
   "metadata": {
    "colab": {
     "base_uri": "https://localhost:8080/",
     "height": 68
    },
    "colab_type": "code",
    "id": "tcz5WWOT5GJA",
    "outputId": "41b13c14-82e6-4c4e-fb01-8e459531b028"
   },
   "outputs": [
    {
     "data": {
      "text/plain": [
       "Positive    4104\n",
       "Negative    3920\n",
       "Name: label, dtype: int64"
      ]
     },
     "execution_count": 102,
     "metadata": {},
     "output_type": "execute_result"
    }
   ],
   "source": [
    "c_data_2 = c_data[c_data['label'].isin(['Positive', 'Negative'])]\n",
    "c_data_2.label.value_counts()"
   ]
  },
  {
   "cell_type": "code",
   "execution_count": 103,
   "metadata": {
    "colab": {
     "base_uri": "https://localhost:8080/",
     "height": 34
    },
    "colab_type": "code",
    "id": "OSPi4f1y5mdv",
    "outputId": "00056eff-68e2-4d83-d8b1-d1afcf6a3eb6"
   },
   "outputs": [
    {
     "name": "stdout",
     "output_type": "stream",
     "text": [
      "Total Vacab Size in the 2 Classes dataset is : 21674\n"
     ]
    }
   ],
   "source": [
    "vocab_2 = []\n",
    "for sentence in c_data_2['text'].values:\n",
    "  temp = sentence.split()\n",
    "  vocab_2 = vocab_2 + temp\n",
    "print('Total Vacab Size in the 2 Classes dataset is : {}'.format(len(set(vocab_2))))"
   ]
  },
  {
   "cell_type": "markdown",
   "metadata": {},
   "source": [
    "# Cleaned Data with 2 Classes 'Positive' and 'Neutral'"
   ]
  },
  {
   "cell_type": "code",
   "execution_count": 124,
   "metadata": {},
   "outputs": [
    {
     "data": {
      "text/plain": [
       "Neutral     4467\n",
       "Positive    4104\n",
       "Name: label, dtype: int64"
      ]
     },
     "execution_count": 124,
     "metadata": {},
     "output_type": "execute_result"
    }
   ],
   "source": [
    "c_data_2_pneu = c_data[c_data['label'].isin(['Positive', 'Neutral'])]\n",
    "c_data_2_pneu.label.value_counts()"
   ]
  },
  {
   "cell_type": "markdown",
   "metadata": {},
   "source": [
    "# Cleaned Data with 2 Classes 'Negative' and 'Neutral'"
   ]
  },
  {
   "cell_type": "code",
   "execution_count": 125,
   "metadata": {},
   "outputs": [
    {
     "data": {
      "text/plain": [
       "Neutral     4467\n",
       "Negative    3920\n",
       "Name: label, dtype: int64"
      ]
     },
     "execution_count": 125,
     "metadata": {},
     "output_type": "execute_result"
    }
   ],
   "source": [
    "c_data_2_nneu = c_data[c_data['label'].isin(['Negative', 'Neutral'])]\n",
    "c_data_2_nneu.label.value_counts()"
   ]
  },
  {
   "cell_type": "markdown",
   "metadata": {},
   "source": [
    "# Random Forest with 2 Classes"
   ]
  },
  {
   "cell_type": "code",
   "execution_count": 147,
   "metadata": {
    "colab": {},
    "colab_type": "code",
    "id": "xv2LAHNU_Jst"
   },
   "outputs": [],
   "source": [
    "y_2 = c_data_2_nneu['label'].values\n",
    "enc = LabelEncoder()\n",
    "y_2 = enc.fit_transform(y_2)"
   ]
  },
  {
   "cell_type": "code",
   "execution_count": 148,
   "metadata": {
    "colab": {
     "base_uri": "https://localhost:8080/",
     "height": 34
    },
    "colab_type": "code",
    "id": "1CkBb9UiAKCo",
    "outputId": "9f2ecc13-5674-454e-af5c-79126d2e855b"
   },
   "outputs": [
    {
     "data": {
      "text/plain": [
       "(8387,)"
      ]
     },
     "execution_count": 148,
     "metadata": {},
     "output_type": "execute_result"
    }
   ],
   "source": [
    "y_2.shape"
   ]
  },
  {
   "cell_type": "code",
   "execution_count": 149,
   "metadata": {
    "colab": {
     "base_uri": "https://localhost:8080/",
     "height": 34
    },
    "colab_type": "code",
    "id": "XbXkU0OiAk71",
    "outputId": "51e3d58a-3cf2-4f43-9d4c-746e22df3723"
   },
   "outputs": [
    {
     "data": {
      "text/plain": [
       "(8387, 3)"
      ]
     },
     "execution_count": 149,
     "metadata": {},
     "output_type": "execute_result"
    }
   ],
   "source": [
    "c_data_2_nneu[['text', 'char_len', 'word_count']].shape"
   ]
  },
  {
   "cell_type": "code",
   "execution_count": 150,
   "metadata": {
    "colab": {},
    "colab_type": "code",
    "id": "H9scVVBh_zkR"
   },
   "outputs": [],
   "source": [
    "X_train, X_test, y_train, y_test = train_test_split(c_data_2_nneu[['text', 'char_len', 'word_count']],\n",
    "                                                    y_2, \n",
    "                                                    test_size = 0.2,\n",
    "                                                    random_state = 42,\n",
    "                                                    stratify = y_2)"
   ]
  },
  {
   "cell_type": "code",
   "execution_count": 151,
   "metadata": {
    "colab": {},
    "colab_type": "code",
    "id": "mlceia8kAAfr"
   },
   "outputs": [],
   "source": [
    "vectorizer = TfidfVectorizer(ngram_range=(1, 2)) \n",
    "vectorizer = vectorizer.fit(X_train['text'])\n",
    "x_train_v = vectorizer.transform(X_train['text'])\n",
    "x_test_v = vectorizer.transform(X_test['text'])"
   ]
  },
  {
   "cell_type": "code",
   "execution_count": 152,
   "metadata": {
    "colab": {},
    "colab_type": "code",
    "id": "tSR-zpStBxeb"
   },
   "outputs": [],
   "source": [
    "X_train_v_2 = pd.concat([X_train[['char_len', 'word_count']].reset_index(drop=True),\n",
    "                          pd.DataFrame(x_train_v.toarray())], axis=1)\n",
    "X_test_v_2 = pd.concat([X_test[['char_len', 'word_count']].reset_index(drop=True),\n",
    "                         pd.DataFrame(x_test_v.toarray())], axis=1)"
   ]
  },
  {
   "cell_type": "code",
   "execution_count": 153,
   "metadata": {
    "colab": {},
    "colab_type": "code",
    "id": "e9e4AbqqDgVX"
   },
   "outputs": [
    {
     "name": "stdout",
     "output_type": "stream",
     "text": [
      "Shape of the Training data X : (6709, 39379), Y : (6709,)\n"
     ]
    }
   ],
   "source": [
    "# Shape of the Training data X and Y\n",
    "print(\"Shape of the Training data X : {}, Y : {}\".format(X_train_v_2.shape, y_train.shape))"
   ]
  },
  {
   "cell_type": "code",
   "execution_count": 143,
   "metadata": {
    "colab": {},
    "colab_type": "code",
    "id": "_5OBKpXUDxud"
   },
   "outputs": [
    {
     "name": "stdout",
     "output_type": "stream",
     "text": [
      "Precision: 0.66 | Recall: 0.73 | Accuracy: 0.66\n"
     ]
    },
    {
     "data": {
      "text/plain": [
       "<matplotlib.axes._subplots.AxesSubplot at 0x1833f281c48>"
      ]
     },
     "execution_count": 143,
     "metadata": {},
     "output_type": "execute_result"
    },
    {
     "data": {
      "image/png": "[encoded data removed]",
      "text/plain": [
       "<Figure size 432x288 with 2 Axes>"
      ]
     },
     "metadata": {},
     "output_type": "display_data"
    }
   ],
   "source": [
    "# n_jobs = -1 for building parallel 150 decision trees. \n",
    "# Max_depth = None means it will build decision tree until minminzation of loss\n",
    "rf = RandomForestClassifier(n_estimators=150, max_depth=None, n_jobs=-1,class_weight=\"balanced\",random_state=42)\n",
    "rf_model = rf.fit(X_train_v_2, y_train)\n",
    "y_pred = rf_model.predict(X_test_v_2)\n",
    "\n",
    "precision = precision_score(y_test, y_pred)\n",
    "recall = recall_score(y_test, y_pred)\n",
    "accuracy = accuracy_score(y_test, y_pred)\n",
    "\n",
    "print('Precision: {:.2f} | Recall: {:.2f} | Accuracy: {:.2f}'.format(precision,recall,accuracy))\n",
    "\n",
    "sns.set(font_scale=1.4)#for label size\n",
    "sns.heatmap(confusion_matrix(y_test, y_pred), cmap=\"Blues\", annot=True,annot_kws={\"size\": 14}, fmt='g')# font size"
   ]
  },
  {
   "cell_type": "markdown",
   "metadata": {},
   "source": [
    "# Naive Bayes Algorithm"
   ]
  },
  {
   "cell_type": "code",
   "execution_count": 144,
   "metadata": {},
   "outputs": [],
   "source": [
    "from sklearn.naive_bayes import GaussianNB"
   ]
  },
  {
   "cell_type": "code",
   "execution_count": 145,
   "metadata": {},
   "outputs": [
    {
     "name": "stdout",
     "output_type": "stream",
     "text": [
      "Precision: 0.73 | Recall: 0.79 | Accuracy: 0.73\n"
     ]
    },
    {
     "data": {
      "text/plain": [
       "<matplotlib.axes._subplots.AxesSubplot at 0x18344eb2348>"
      ]
     },
     "execution_count": 145,
     "metadata": {},
     "output_type": "execute_result"
    },
    {
     "data": {
      "image/png": "[encoded data removed]",
      "text/plain": [
       "<Figure size 432x288 with 2 Axes>"
      ]
     },
     "metadata": {},
     "output_type": "display_data"
    }
   ],
   "source": [
    "gnb = GaussianNB()\n",
    "gnb_model = gnb.fit(X_train_v_2, y_train)\n",
    "y_pred = gnb_model.predict(X_test_v_2)\n",
    "\n",
    "precision = precision_score(y_test, y_pred)\n",
    "recall = recall_score(y_test, y_pred)\n",
    "accuracy = accuracy_score(y_test, y_pred)\n",
    "\n",
    "print('Precision: {:.2f} | Recall: {:.2f} | Accuracy: {:.2f}'.format(precision,recall,accuracy))\n",
    "\n",
    "sns.set(font_scale=1.4)#for label size\n",
    "sns.heatmap(confusion_matrix(y_test, y_pred), cmap=\"Blues\", annot=True,annot_kws={\"size\": 14}, fmt='g')# font size"
   ]
  },
  {
   "cell_type": "code",
   "execution_count": 154,
   "metadata": {},
   "outputs": [],
   "source": [
    "from sklearn.multiclass import OneVsRestClassifier"
   ]
  },
  {
   "cell_type": "code",
   "execution_count": 155,
   "metadata": {},
   "outputs": [],
   "source": [
    "# define model\n",
    "model = GaussianNB()\n",
    "# define the ovr strategy\n",
    "ovr = OneVsRestClassifier(model)\n",
    "# fit model\n",
    "ovr.fit(X_train_v_2, y_train)\n",
    "# make predictions\n",
    "yhat = ovr.predict(X_test_v_2)"
   ]
  },
  {
   "cell_type": "code",
   "execution_count": 156,
   "metadata": {},
   "outputs": [],
   "source": [
    "accuracy = accuracy_score(y_test, yhat)"
   ]
  },
  {
   "cell_type": "code",
   "execution_count": 157,
   "metadata": {},
   "outputs": [
    {
     "data": {
      "text/plain": [
       "0.732419547079857"
      ]
     },
     "execution_count": 157,
     "metadata": {},
     "output_type": "execute_result"
    }
   ],
   "source": [
    "accuracy"
   ]
  },
  {
   "cell_type": "code",
   "execution_count": null,
   "metadata": {},
   "outputs": [],
   "source": [
    "statement = 'Negative'"
   ]
  },
  {
   "cell_type": "code",
   "execution_count": null,
   "metadata": {},
   "outputs": [],
   "source": []
  },
  {
   "cell_type": "code",
   "execution_count": null,
   "metadata": {},
   "outputs": [],
   "source": []
  }
 ],
 "metadata": {
  "colab": {
   "authorship_tag": "ABX9TyM1CsdXJ7nSbJfwDrEnbrae",
   "collapsed_sections": [],
   "include_colab_link": true,
   "name": "NaiveBayesApproach.ipynb",
   "provenance": []
  },
  "kernelspec": {
   "display_name": "Python 3",
   "language": "python",
   "name": "python3"
  },
  "language_info": {
   "codemirror_mode": {
    "name": "ipython",
    "version": 3
   },
   "file_extension": ".py",
   "mimetype": "text/x-python",
   "name": "python",
   "nbconvert_exporter": "python",
   "pygments_lexer": "ipython3",
   "version": "3.7.6"
  }
 },
 "nbformat": 4,
 "nbformat_minor": 1
}

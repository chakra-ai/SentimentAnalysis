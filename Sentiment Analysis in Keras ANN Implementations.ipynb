{
 "cells": [
  {
   "cell_type": "markdown",
   "metadata": {},
   "source": [
    "# Sentiment Analysis in Keras ANN Implementations"
   ]
  },
  {
   "cell_type": "code",
   "execution_count": 1,
   "metadata": {},
   "outputs": [],
   "source": [
    "# Import necessary packages.\n",
    "import string\n",
    "import re\n",
    "import numpy as np\n",
    "import pandas as pd\n",
    "import matplotlib.pyplot as plt\n",
    "from keras.preprocessing.text import Tokenizer\n",
    "from keras.utils.vis_utils import plot_model\n",
    "from keras.callbacks import EarlyStopping\n",
    "from collections import Counter\n",
    "from sklearn.preprocessing import LabelEncoder\n",
    "from sklearn.feature_extraction.text import CountVectorizer\n",
    "from sklearn.model_selection import train_test_split\n",
    "from sklearn.linear_model import LogisticRegression\n",
    "from sklearn.metrics import accuracy_score, confusion_matrix, precision_score, recall_score\n",
    "from sklearn.svm import SVC\n",
    "from sklearn.tree import ExtraTreeClassifier\n",
    "from sklearn.preprocessing import OneHotEncoder\n",
    "from sklearn.model_selection import StratifiedKFold\n",
    "from sklearn.feature_extraction.text import TfidfVectorizer\n",
    "from PreProcessing import clean_doc, Cleaned_X_Y\n",
    "from model import define_model"
   ]
  },
  {
   "cell_type": "code",
   "execution_count": 2,
   "metadata": {},
   "outputs": [],
   "source": [
    "import tensorflow as tf\n",
    "physical_devices = tf.config.list_physical_devices('GPU') \n",
    "tf.config.experimental.set_memory_growth(physical_devices[0], True)"
   ]
  },
  {
   "cell_type": "code",
   "execution_count": 3,
   "metadata": {},
   "outputs": [],
   "source": [
    "filename = \"Roman Urdu DataSet.csv\""
   ]
  },
  {
   "cell_type": "code",
   "execution_count": 4,
   "metadata": {},
   "outputs": [],
   "source": [
    "X, y = Cleaned_X_Y(filename)"
   ]
  },
  {
   "cell_type": "code",
   "execution_count": 5,
   "metadata": {},
   "outputs": [
    {
     "name": "stdout",
     "output_type": "stream",
     "text": [
      "Shape of the Features X : (20227, 1500)\n"
     ]
    }
   ],
   "source": [
    "# Count Vectorizer\n",
    "cv = TfidfVectorizer(max_features=1500)\n",
    "X = cv.fit_transform(X).toarray()\n",
    "print(\"Shape of the Features X :\", X.shape)"
   ]
  },
  {
   "cell_type": "code",
   "execution_count": 6,
   "metadata": {},
   "outputs": [
    {
     "name": "stdout",
     "output_type": "stream",
     "text": [
      "Shape of label tensor: (20227, 3)\n"
     ]
    }
   ],
   "source": [
    "Y = pd.get_dummies(y).values\n",
    "print('Shape of label tensor:', Y.shape)"
   ]
  },
  {
   "cell_type": "code",
   "execution_count": 7,
   "metadata": {},
   "outputs": [],
   "source": [
    "# Train Test Split (0.8, 0.2)\n",
    "X_train, X_test, Y_train, Y_test = train_test_split(X, Y, test_size=0.20)"
   ]
  },
  {
   "cell_type": "code",
   "execution_count": 8,
   "metadata": {},
   "outputs": [
    {
     "name": "stdout",
     "output_type": "stream",
     "text": [
      "Model: \"sequential\"\n",
      "_________________________________________________________________\n",
      "Layer (type)                 Output Shape              Param #   \n",
      "=================================================================\n",
      "dense (Dense)                (None, 30)                45030     \n",
      "_________________________________________________________________\n",
      "leaky_re_lu (LeakyReLU)      (None, 30)                0         \n",
      "_________________________________________________________________\n",
      "dropout (Dropout)            (None, 30)                0         \n",
      "_________________________________________________________________\n",
      "dense_1 (Dense)              (None, 10)                310       \n",
      "_________________________________________________________________\n",
      "leaky_re_lu_1 (LeakyReLU)    (None, 10)                0         \n",
      "_________________________________________________________________\n",
      "dropout_1 (Dropout)          (None, 10)                0         \n",
      "_________________________________________________________________\n",
      "dense_2 (Dense)              (None, 3)                 33        \n",
      "=================================================================\n",
      "Total params: 45,373\n",
      "Trainable params: 45,373\n",
      "Non-trainable params: 0\n",
      "_________________________________________________________________\n"
     ]
    }
   ],
   "source": [
    "n_words = X_train.shape[1]\n",
    "# Create Model\n",
    "model = define_model(n_words)"
   ]
  },
  {
   "cell_type": "code",
   "execution_count": 9,
   "metadata": {},
   "outputs": [
    {
     "name": "stdout",
     "output_type": "stream",
     "text": [
      "Epoch 1/150\n",
      "203/203 [==============================] - 1s 4ms/step - loss: 1.1546 - accuracy: 0.4377 - val_loss: 1.1468 - val_accuracy: 0.4424\n",
      "Epoch 2/150\n",
      "203/203 [==============================] - 1s 3ms/step - loss: 1.1483 - accuracy: 0.4439 - val_loss: 1.1441 - val_accuracy: 0.4424\n",
      "Epoch 3/150\n",
      "203/203 [==============================] - 1s 3ms/step - loss: 1.1439 - accuracy: 0.4439 - val_loss: 1.1423 - val_accuracy: 0.4424\n",
      "Epoch 4/150\n",
      "203/203 [==============================] - 1s 3ms/step - loss: 1.1422 - accuracy: 0.4439 - val_loss: 1.1407 - val_accuracy: 0.4424\n",
      "Epoch 5/150\n",
      "203/203 [==============================] - 1s 3ms/step - loss: 1.1404 - accuracy: 0.4439 - val_loss: 1.1394 - val_accuracy: 0.4424\n",
      "Epoch 6/150\n",
      "203/203 [==============================] - 1s 3ms/step - loss: 1.1388 - accuracy: 0.4439 - val_loss: 1.1380 - val_accuracy: 0.4424\n",
      "Epoch 7/150\n",
      "203/203 [==============================] - 1s 3ms/step - loss: 1.1381 - accuracy: 0.4439 - val_loss: 1.1366 - val_accuracy: 0.4424\n",
      "Epoch 8/150\n",
      "203/203 [==============================] - 1s 3ms/step - loss: 1.1364 - accuracy: 0.4439 - val_loss: 1.1354 - val_accuracy: 0.4424\n",
      "Epoch 9/150\n",
      "203/203 [==============================] - 1s 3ms/step - loss: 1.1341 - accuracy: 0.4439 - val_loss: 1.1336 - val_accuracy: 0.4424\n",
      "Epoch 10/150\n",
      "203/203 [==============================] - 1s 3ms/step - loss: 1.1344 - accuracy: 0.4439 - val_loss: 1.1325 - val_accuracy: 0.4424\n",
      "Epoch 11/150\n",
      "203/203 [==============================] - 1s 3ms/step - loss: 1.1311 - accuracy: 0.4439 - val_loss: 1.1307 - val_accuracy: 0.4424\n",
      "Epoch 12/150\n",
      "203/203 [==============================] - 1s 3ms/step - loss: 1.1299 - accuracy: 0.4439 - val_loss: 1.1292 - val_accuracy: 0.4424\n",
      "Epoch 13/150\n",
      "203/203 [==============================] - 1s 3ms/step - loss: 1.1285 - accuracy: 0.4439 - val_loss: 1.1274 - val_accuracy: 0.4424\n",
      "Epoch 14/150\n",
      "203/203 [==============================] - 1s 3ms/step - loss: 1.1259 - accuracy: 0.4439 - val_loss: 1.1252 - val_accuracy: 0.4424\n",
      "Epoch 15/150\n",
      "203/203 [==============================] - 1s 3ms/step - loss: 1.1245 - accuracy: 0.4441 - val_loss: 1.1234 - val_accuracy: 0.4424\n",
      "Epoch 16/150\n",
      "203/203 [==============================] - 1s 3ms/step - loss: 1.1230 - accuracy: 0.4442 - val_loss: 1.1212 - val_accuracy: 0.4424\n",
      "Epoch 17/150\n",
      "203/203 [==============================] - 1s 3ms/step - loss: 1.1206 - accuracy: 0.4442 - val_loss: 1.1197 - val_accuracy: 0.4424\n",
      "Epoch 18/150\n",
      "203/203 [==============================] - 1s 3ms/step - loss: 1.1196 - accuracy: 0.4447 - val_loss: 1.1178 - val_accuracy: 0.4424\n",
      "Epoch 19/150\n",
      "203/203 [==============================] - 1s 3ms/step - loss: 1.1165 - accuracy: 0.4450 - val_loss: 1.1155 - val_accuracy: 0.4424\n",
      "Epoch 20/150\n",
      "203/203 [==============================] - 1s 3ms/step - loss: 1.1149 - accuracy: 0.4468 - val_loss: 1.1127 - val_accuracy: 0.4424\n",
      "Epoch 21/150\n",
      "203/203 [==============================] - 1s 3ms/step - loss: 1.1148 - accuracy: 0.4478 - val_loss: 1.1108 - val_accuracy: 0.4424\n",
      "Epoch 22/150\n",
      "203/203 [==============================] - 1s 3ms/step - loss: 1.1104 - accuracy: 0.4513 - val_loss: 1.1086 - val_accuracy: 0.4424\n",
      "Epoch 23/150\n",
      "203/203 [==============================] - 1s 3ms/step - loss: 1.1090 - accuracy: 0.4517 - val_loss: 1.1062 - val_accuracy: 0.4430\n",
      "Epoch 24/150\n",
      "203/203 [==============================] - 1s 3ms/step - loss: 1.1069 - accuracy: 0.4536 - val_loss: 1.1041 - val_accuracy: 0.4433\n",
      "Epoch 25/150\n",
      "203/203 [==============================] - 1s 3ms/step - loss: 1.1048 - accuracy: 0.4560 - val_loss: 1.1013 - val_accuracy: 0.4464\n",
      "Epoch 26/150\n",
      "203/203 [==============================] - 1s 3ms/step - loss: 1.1024 - accuracy: 0.4607 - val_loss: 1.0986 - val_accuracy: 0.4486\n",
      "Epoch 27/150\n",
      "203/203 [==============================] - 1s 3ms/step - loss: 1.1025 - accuracy: 0.4614 - val_loss: 1.0969 - val_accuracy: 0.4520\n",
      "Epoch 28/150\n",
      "203/203 [==============================] - 1s 3ms/step - loss: 1.0967 - accuracy: 0.4661 - val_loss: 1.0941 - val_accuracy: 0.4560\n",
      "Epoch 29/150\n",
      "203/203 [==============================] - 1s 3ms/step - loss: 1.0945 - accuracy: 0.4703 - val_loss: 1.0920 - val_accuracy: 0.4720\n",
      "Epoch 30/150\n",
      "203/203 [==============================] - 1s 3ms/step - loss: 1.0910 - accuracy: 0.4761 - val_loss: 1.0885 - val_accuracy: 0.4702\n",
      "Epoch 31/150\n",
      "203/203 [==============================] - 1s 3ms/step - loss: 1.0894 - accuracy: 0.4774 - val_loss: 1.0855 - val_accuracy: 0.4690\n",
      "Epoch 32/150\n",
      "203/203 [==============================] - 1s 3ms/step - loss: 1.0880 - accuracy: 0.4792 - val_loss: 1.0844 - val_accuracy: 0.4968\n",
      "Epoch 33/150\n",
      "203/203 [==============================] - 1s 3ms/step - loss: 1.0840 - accuracy: 0.4832 - val_loss: 1.0805 - val_accuracy: 0.4900\n",
      "Epoch 34/150\n",
      "203/203 [==============================] - 1s 3ms/step - loss: 1.0830 - accuracy: 0.4827 - val_loss: 1.0788 - val_accuracy: 0.5020\n",
      "Epoch 35/150\n",
      "203/203 [==============================] - 1s 3ms/step - loss: 1.0791 - accuracy: 0.4895 - val_loss: 1.0750 - val_accuracy: 0.4983\n",
      "Epoch 36/150\n",
      "203/203 [==============================] - 1s 3ms/step - loss: 1.0761 - accuracy: 0.4911 - val_loss: 1.0721 - val_accuracy: 0.5029\n",
      "Epoch 37/150\n",
      "203/203 [==============================] - 1s 3ms/step - loss: 1.0718 - accuracy: 0.4954 - val_loss: 1.0685 - val_accuracy: 0.5017\n",
      "Epoch 38/150\n",
      "203/203 [==============================] - 1s 3ms/step - loss: 1.0707 - accuracy: 0.5005 - val_loss: 1.0658 - val_accuracy: 0.5051\n",
      "Epoch 39/150\n",
      "203/203 [==============================] - 1s 3ms/step - loss: 1.0685 - accuracy: 0.4995 - val_loss: 1.0629 - val_accuracy: 0.5116\n",
      "Epoch 40/150\n",
      "203/203 [==============================] - 1s 3ms/step - loss: 1.0645 - accuracy: 0.5025 - val_loss: 1.0604 - val_accuracy: 0.5190\n",
      "Epoch 41/150\n",
      "203/203 [==============================] - 1s 3ms/step - loss: 1.0632 - accuracy: 0.5042 - val_loss: 1.0575 - val_accuracy: 0.5196\n",
      "Epoch 42/150\n",
      "203/203 [==============================] - 1s 3ms/step - loss: 1.0582 - accuracy: 0.5107 - val_loss: 1.0535 - val_accuracy: 0.5100\n",
      "Epoch 43/150\n",
      "203/203 [==============================] - 1s 3ms/step - loss: 1.0573 - accuracy: 0.5117 - val_loss: 1.0512 - val_accuracy: 0.5252\n",
      "Epoch 44/150\n",
      "203/203 [==============================] - 1s 3ms/step - loss: 1.0551 - accuracy: 0.5142 - val_loss: 1.0493 - val_accuracy: 0.5233\n",
      "Epoch 45/150\n",
      "203/203 [==============================] - 1s 3ms/step - loss: 1.0491 - accuracy: 0.5178 - val_loss: 1.0453 - val_accuracy: 0.5218\n",
      "Epoch 46/150\n",
      "203/203 [==============================] - 1s 3ms/step - loss: 1.0458 - accuracy: 0.5178 - val_loss: 1.0426 - val_accuracy: 0.5261\n",
      "Epoch 47/150\n",
      "203/203 [==============================] - 1s 3ms/step - loss: 1.0442 - accuracy: 0.5262 - val_loss: 1.0394 - val_accuracy: 0.5270\n",
      "Epoch 48/150\n",
      "203/203 [==============================] - 1s 3ms/step - loss: 1.0399 - accuracy: 0.5277 - val_loss: 1.0372 - val_accuracy: 0.5329\n",
      "Epoch 49/150\n",
      "203/203 [==============================] - 1s 3ms/step - loss: 1.0380 - accuracy: 0.5288 - val_loss: 1.0340 - val_accuracy: 0.5363\n",
      "Epoch 50/150\n",
      "203/203 [==============================] - 1s 3ms/step - loss: 1.0369 - accuracy: 0.5326 - val_loss: 1.0325 - val_accuracy: 0.5357\n",
      "Epoch 51/150\n",
      "203/203 [==============================] - 1s 3ms/step - loss: 1.0340 - accuracy: 0.5324 - val_loss: 1.0291 - val_accuracy: 0.5351\n",
      "Epoch 52/150\n",
      "203/203 [==============================] - 1s 3ms/step - loss: 1.0319 - accuracy: 0.5371 - val_loss: 1.0272 - val_accuracy: 0.5372\n",
      "Epoch 53/150\n",
      "203/203 [==============================] - 1s 3ms/step - loss: 1.0289 - accuracy: 0.5370 - val_loss: 1.0238 - val_accuracy: 0.5388\n",
      "Epoch 54/150\n",
      "203/203 [==============================] - 1s 3ms/step - loss: 1.0259 - accuracy: 0.5370 - val_loss: 1.0226 - val_accuracy: 0.5443\n",
      "Epoch 55/150\n",
      "203/203 [==============================] - 1s 3ms/step - loss: 1.0201 - accuracy: 0.5433 - val_loss: 1.0223 - val_accuracy: 0.5508\n",
      "Epoch 56/150\n",
      "203/203 [==============================] - 1s 3ms/step - loss: 1.0177 - accuracy: 0.5433 - val_loss: 1.0158 - val_accuracy: 0.5465\n",
      "Epoch 57/150\n",
      "203/203 [==============================] - 1s 3ms/step - loss: 1.0192 - accuracy: 0.5439 - val_loss: 1.0156 - val_accuracy: 0.5527\n"
     ]
    },
    {
     "name": "stdout",
     "output_type": "stream",
     "text": [
      "Epoch 58/150\n",
      "203/203 [==============================] - 1s 3ms/step - loss: 1.0144 - accuracy: 0.5493 - val_loss: 1.0107 - val_accuracy: 0.5524\n",
      "Epoch 59/150\n",
      "203/203 [==============================] - 1s 3ms/step - loss: 1.0125 - accuracy: 0.5513 - val_loss: 1.0069 - val_accuracy: 0.5468\n",
      "Epoch 60/150\n",
      "203/203 [==============================] - 1s 3ms/step - loss: 1.0069 - accuracy: 0.5540 - val_loss: 1.0055 - val_accuracy: 0.5589\n",
      "Epoch 61/150\n",
      "203/203 [==============================] - 1s 3ms/step - loss: 1.0024 - accuracy: 0.5567 - val_loss: 1.0040 - val_accuracy: 0.5616\n",
      "Epoch 62/150\n",
      "203/203 [==============================] - 1s 3ms/step - loss: 1.0032 - accuracy: 0.5627 - val_loss: 1.0020 - val_accuracy: 0.5656\n",
      "Epoch 63/150\n",
      "203/203 [==============================] - 1s 3ms/step - loss: 0.9998 - accuracy: 0.5632 - val_loss: 1.0005 - val_accuracy: 0.5684\n",
      "Epoch 64/150\n",
      "203/203 [==============================] - 1s 3ms/step - loss: 0.9942 - accuracy: 0.5579 - val_loss: 0.9964 - val_accuracy: 0.5564\n",
      "Epoch 65/150\n",
      "203/203 [==============================] - 1s 3ms/step - loss: 0.9947 - accuracy: 0.5633 - val_loss: 0.9967 - val_accuracy: 0.5530\n",
      "Epoch 66/150\n",
      "203/203 [==============================] - 1s 3ms/step - loss: 0.9936 - accuracy: 0.5663 - val_loss: 0.9910 - val_accuracy: 0.5681\n",
      "Epoch 67/150\n",
      "203/203 [==============================] - 1s 3ms/step - loss: 0.9893 - accuracy: 0.5685 - val_loss: 0.9925 - val_accuracy: 0.5762\n",
      "Epoch 68/150\n",
      "203/203 [==============================] - 1s 3ms/step - loss: 0.9849 - accuracy: 0.5710 - val_loss: 0.9866 - val_accuracy: 0.5697\n",
      "Epoch 69/150\n",
      "203/203 [==============================] - 1s 3ms/step - loss: 0.9837 - accuracy: 0.5671 - val_loss: 0.9851 - val_accuracy: 0.5712\n",
      "Epoch 70/150\n",
      "203/203 [==============================] - 1s 3ms/step - loss: 0.9816 - accuracy: 0.5732 - val_loss: 0.9823 - val_accuracy: 0.5752\n",
      "Epoch 71/150\n",
      "203/203 [==============================] - 1s 3ms/step - loss: 0.9788 - accuracy: 0.5754 - val_loss: 0.9839 - val_accuracy: 0.5728\n",
      "Epoch 72/150\n",
      "203/203 [==============================] - 1s 3ms/step - loss: 0.9793 - accuracy: 0.5775 - val_loss: 0.9802 - val_accuracy: 0.5774\n",
      "Epoch 73/150\n",
      "203/203 [==============================] - 1s 3ms/step - loss: 0.9794 - accuracy: 0.5766 - val_loss: 0.9775 - val_accuracy: 0.5783\n",
      "Epoch 74/150\n",
      "203/203 [==============================] - 1s 3ms/step - loss: 0.9749 - accuracy: 0.5824 - val_loss: 0.9781 - val_accuracy: 0.5833\n",
      "Epoch 75/150\n",
      "203/203 [==============================] - 1s 3ms/step - loss: 0.9702 - accuracy: 0.5794 - val_loss: 0.9764 - val_accuracy: 0.5894\n",
      "Epoch 76/150\n",
      "203/203 [==============================] - 1s 3ms/step - loss: 0.9715 - accuracy: 0.5812 - val_loss: 0.9724 - val_accuracy: 0.5783\n",
      "Epoch 77/150\n",
      "203/203 [==============================] - 1s 3ms/step - loss: 0.9633 - accuracy: 0.5898 - val_loss: 0.9697 - val_accuracy: 0.5768\n",
      "Epoch 78/150\n",
      "203/203 [==============================] - 1s 4ms/step - loss: 0.9616 - accuracy: 0.5894 - val_loss: 0.9726 - val_accuracy: 0.5863\n",
      "Epoch 79/150\n",
      "203/203 [==============================] - 1s 3ms/step - loss: 0.9611 - accuracy: 0.5943 - val_loss: 0.9662 - val_accuracy: 0.5848\n",
      "Epoch 80/150\n",
      "203/203 [==============================] - 1s 3ms/step - loss: 0.9588 - accuracy: 0.5936 - val_loss: 0.9645 - val_accuracy: 0.5792\n",
      "Epoch 81/150\n",
      "203/203 [==============================] - 1s 3ms/step - loss: 0.9580 - accuracy: 0.5939 - val_loss: 0.9654 - val_accuracy: 0.5888\n",
      "Epoch 82/150\n",
      "203/203 [==============================] - 1s 3ms/step - loss: 0.9550 - accuracy: 0.6003 - val_loss: 0.9641 - val_accuracy: 0.5950\n",
      "Epoch 83/150\n",
      "203/203 [==============================] - 1s 3ms/step - loss: 0.9538 - accuracy: 0.5961 - val_loss: 0.9615 - val_accuracy: 0.5925\n",
      "Epoch 84/150\n",
      "203/203 [==============================] - 1s 3ms/step - loss: 0.9512 - accuracy: 0.5979 - val_loss: 0.9594 - val_accuracy: 0.5968\n",
      "Epoch 85/150\n",
      "203/203 [==============================] - 1s 3ms/step - loss: 0.9461 - accuracy: 0.5987 - val_loss: 0.9568 - val_accuracy: 0.5882\n",
      "Epoch 86/150\n",
      "203/203 [==============================] - 1s 3ms/step - loss: 0.9472 - accuracy: 0.6040 - val_loss: 0.9549 - val_accuracy: 0.5962\n",
      "Epoch 87/150\n",
      "203/203 [==============================] - 1s 3ms/step - loss: 0.9414 - accuracy: 0.6074 - val_loss: 0.9530 - val_accuracy: 0.5935\n",
      "Epoch 88/150\n",
      "203/203 [==============================] - 1s 3ms/step - loss: 0.9429 - accuracy: 0.6115 - val_loss: 0.9553 - val_accuracy: 0.6002\n",
      "Epoch 89/150\n",
      "203/203 [==============================] - 1s 3ms/step - loss: 0.9446 - accuracy: 0.6067 - val_loss: 0.9542 - val_accuracy: 0.6043\n",
      "Epoch 90/150\n",
      "203/203 [==============================] - 1s 3ms/step - loss: 0.9386 - accuracy: 0.6099 - val_loss: 0.9534 - val_accuracy: 0.5885\n",
      "Epoch 91/150\n",
      "203/203 [==============================] - 1s 3ms/step - loss: 0.9377 - accuracy: 0.6092 - val_loss: 0.9533 - val_accuracy: 0.6012\n",
      "Epoch 92/150\n",
      "203/203 [==============================] - 1s 3ms/step - loss: 0.9370 - accuracy: 0.6108 - val_loss: 0.9500 - val_accuracy: 0.6030\n",
      "Epoch 93/150\n",
      "203/203 [==============================] - 1s 3ms/step - loss: 0.9347 - accuracy: 0.6136 - val_loss: 0.9473 - val_accuracy: 0.6043\n",
      "Epoch 94/150\n",
      "203/203 [==============================] - 1s 3ms/step - loss: 0.9322 - accuracy: 0.6183 - val_loss: 0.9467 - val_accuracy: 0.5984\n",
      "Epoch 95/150\n",
      "203/203 [==============================] - 1s 3ms/step - loss: 0.9292 - accuracy: 0.6146 - val_loss: 0.9442 - val_accuracy: 0.6033\n",
      "Epoch 96/150\n",
      "203/203 [==============================] - 1s 3ms/step - loss: 0.9297 - accuracy: 0.6185 - val_loss: 0.9488 - val_accuracy: 0.6021\n",
      "Epoch 97/150\n",
      "203/203 [==============================] - 1s 3ms/step - loss: 0.9275 - accuracy: 0.6176 - val_loss: 0.9420 - val_accuracy: 0.6046\n",
      "Epoch 98/150\n",
      "203/203 [==============================] - 1s 3ms/step - loss: 0.9220 - accuracy: 0.6235 - val_loss: 0.9389 - val_accuracy: 0.5993\n",
      "Epoch 99/150\n",
      "203/203 [==============================] - 1s 3ms/step - loss: 0.9189 - accuracy: 0.6240 - val_loss: 0.9410 - val_accuracy: 0.6083\n",
      "Epoch 100/150\n",
      "203/203 [==============================] - 1s 3ms/step - loss: 0.9262 - accuracy: 0.6163 - val_loss: 0.9372 - val_accuracy: 0.6036\n",
      "Epoch 101/150\n",
      "203/203 [==============================] - 1s 3ms/step - loss: 0.9167 - accuracy: 0.6181 - val_loss: 0.9397 - val_accuracy: 0.6083\n",
      "Epoch 102/150\n",
      "203/203 [==============================] - 1s 3ms/step - loss: 0.9224 - accuracy: 0.6258 - val_loss: 0.9374 - val_accuracy: 0.6043\n",
      "Epoch 103/150\n",
      "203/203 [==============================] - 1s 3ms/step - loss: 0.9182 - accuracy: 0.6248 - val_loss: 0.9386 - val_accuracy: 0.6157\n",
      "Epoch 104/150\n",
      "203/203 [==============================] - 1s 3ms/step - loss: 0.9075 - accuracy: 0.6264 - val_loss: 0.9330 - val_accuracy: 0.6021\n",
      "Epoch 105/150\n",
      "203/203 [==============================] - 1s 3ms/step - loss: 0.9143 - accuracy: 0.6351 - val_loss: 0.9342 - val_accuracy: 0.6120\n",
      "Epoch 106/150\n",
      "203/203 [==============================] - 1s 3ms/step - loss: 0.9133 - accuracy: 0.6285 - val_loss: 0.9343 - val_accuracy: 0.5993\n",
      "Epoch 107/150\n",
      "203/203 [==============================] - 1s 3ms/step - loss: 0.9096 - accuracy: 0.6312 - val_loss: 0.9352 - val_accuracy: 0.6135\n",
      "Epoch 108/150\n",
      "203/203 [==============================] - 1s 3ms/step - loss: 0.9052 - accuracy: 0.6315 - val_loss: 0.9293 - val_accuracy: 0.6141\n",
      "Epoch 109/150\n",
      "203/203 [==============================] - 1s 3ms/step - loss: 0.9122 - accuracy: 0.6350 - val_loss: 0.9336 - val_accuracy: 0.6089\n",
      "Epoch 110/150\n",
      "203/203 [==============================] - 1s 3ms/step - loss: 0.9070 - accuracy: 0.6330 - val_loss: 0.9331 - val_accuracy: 0.6055\n",
      "Epoch 111/150\n",
      "203/203 [==============================] - 1s 3ms/step - loss: 0.9059 - accuracy: 0.6350 - val_loss: 0.9279 - val_accuracy: 0.6166\n",
      "Epoch 112/150\n",
      "203/203 [==============================] - 1s 3ms/step - loss: 0.9050 - accuracy: 0.6355 - val_loss: 0.9306 - val_accuracy: 0.6166\n",
      "Epoch 113/150\n",
      "203/203 [==============================] - 1s 3ms/step - loss: 0.9035 - accuracy: 0.6393 - val_loss: 0.9287 - val_accuracy: 0.6197\n",
      "Epoch 114/150\n",
      "203/203 [==============================] - 1s 3ms/step - loss: 0.9021 - accuracy: 0.6351 - val_loss: 0.9270 - val_accuracy: 0.6194\n"
     ]
    },
    {
     "name": "stdout",
     "output_type": "stream",
     "text": [
      "Epoch 115/150\n",
      "203/203 [==============================] - 1s 3ms/step - loss: 0.8965 - accuracy: 0.6452 - val_loss: 0.9305 - val_accuracy: 0.6098\n",
      "Epoch 116/150\n",
      "203/203 [==============================] - 1s 3ms/step - loss: 0.9057 - accuracy: 0.6419 - val_loss: 0.9293 - val_accuracy: 0.6216\n",
      "Epoch 117/150\n",
      "203/203 [==============================] - 1s 3ms/step - loss: 0.8980 - accuracy: 0.6399 - val_loss: 0.9294 - val_accuracy: 0.6166\n",
      "Epoch 118/150\n",
      "203/203 [==============================] - 1s 3ms/step - loss: 0.8935 - accuracy: 0.6415 - val_loss: 0.9304 - val_accuracy: 0.6027\n",
      "Epoch 119/150\n",
      "203/203 [==============================] - 1s 3ms/step - loss: 0.8992 - accuracy: 0.6438 - val_loss: 0.9250 - val_accuracy: 0.6169\n",
      "Epoch 120/150\n",
      "203/203 [==============================] - 1s 3ms/step - loss: 0.8929 - accuracy: 0.6445 - val_loss: 0.9230 - val_accuracy: 0.6209\n",
      "Epoch 121/150\n",
      "203/203 [==============================] - 1s 3ms/step - loss: 0.8945 - accuracy: 0.6418 - val_loss: 0.9233 - val_accuracy: 0.6247\n",
      "Epoch 122/150\n",
      "203/203 [==============================] - 1s 3ms/step - loss: 0.8900 - accuracy: 0.6468 - val_loss: 0.9326 - val_accuracy: 0.6049\n",
      "Epoch 123/150\n",
      "203/203 [==============================] - 1s 3ms/step - loss: 0.8900 - accuracy: 0.6467 - val_loss: 0.9200 - val_accuracy: 0.6203\n",
      "Epoch 124/150\n",
      "203/203 [==============================] - 1s 3ms/step - loss: 0.8909 - accuracy: 0.6443 - val_loss: 0.9210 - val_accuracy: 0.6225\n",
      "Epoch 125/150\n",
      "203/203 [==============================] - 1s 3ms/step - loss: 0.8851 - accuracy: 0.6500 - val_loss: 0.9198 - val_accuracy: 0.6169\n",
      "Epoch 126/150\n",
      "203/203 [==============================] - 1s 3ms/step - loss: 0.8883 - accuracy: 0.6469 - val_loss: 0.9210 - val_accuracy: 0.6148\n",
      "Epoch 127/150\n",
      "203/203 [==============================] - 1s 3ms/step - loss: 0.8851 - accuracy: 0.6560 - val_loss: 0.9218 - val_accuracy: 0.6228\n",
      "Epoch 128/150\n",
      "203/203 [==============================] - 1s 3ms/step - loss: 0.8839 - accuracy: 0.6509 - val_loss: 0.9186 - val_accuracy: 0.6250\n",
      "Epoch 129/150\n",
      "203/203 [==============================] - 1s 3ms/step - loss: 0.8800 - accuracy: 0.6525 - val_loss: 0.9189 - val_accuracy: 0.6185\n",
      "Epoch 130/150\n",
      "203/203 [==============================] - 1s 3ms/step - loss: 0.8830 - accuracy: 0.6526 - val_loss: 0.9179 - val_accuracy: 0.6222\n",
      "Epoch 131/150\n",
      "203/203 [==============================] - 1s 3ms/step - loss: 0.8813 - accuracy: 0.6454 - val_loss: 0.9198 - val_accuracy: 0.6259\n",
      "Epoch 132/150\n",
      "203/203 [==============================] - 1s 3ms/step - loss: 0.8875 - accuracy: 0.6510 - val_loss: 0.9211 - val_accuracy: 0.6197\n",
      "Epoch 133/150\n",
      "203/203 [==============================] - 1s 3ms/step - loss: 0.8765 - accuracy: 0.6548 - val_loss: 0.9187 - val_accuracy: 0.6253\n",
      "Epoch 134/150\n",
      "203/203 [==============================] - 1s 3ms/step - loss: 0.8776 - accuracy: 0.6579 - val_loss: 0.9193 - val_accuracy: 0.6228\n",
      "Epoch 135/150\n",
      "203/203 [==============================] - 1s 3ms/step - loss: 0.8772 - accuracy: 0.6571 - val_loss: 0.9218 - val_accuracy: 0.6206\n",
      "Epoch 136/150\n",
      "203/203 [==============================] - 1s 3ms/step - loss: 0.8799 - accuracy: 0.6554 - val_loss: 0.9155 - val_accuracy: 0.6271\n",
      "Epoch 137/150\n",
      "203/203 [==============================] - 1s 3ms/step - loss: 0.8777 - accuracy: 0.6548 - val_loss: 0.9183 - val_accuracy: 0.6163\n",
      "Epoch 138/150\n",
      "203/203 [==============================] - 1s 3ms/step - loss: 0.8810 - accuracy: 0.6581 - val_loss: 0.9147 - val_accuracy: 0.6216\n",
      "Epoch 139/150\n",
      "203/203 [==============================] - 1s 3ms/step - loss: 0.8767 - accuracy: 0.6554 - val_loss: 0.9161 - val_accuracy: 0.6213\n",
      "Epoch 140/150\n",
      "203/203 [==============================] - 1s 3ms/step - loss: 0.8705 - accuracy: 0.6602 - val_loss: 0.9137 - val_accuracy: 0.6281\n",
      "Epoch 141/150\n",
      "203/203 [==============================] - 1s 3ms/step - loss: 0.8737 - accuracy: 0.6634 - val_loss: 0.9136 - val_accuracy: 0.6256\n",
      "Epoch 142/150\n",
      "203/203 [==============================] - 1s 3ms/step - loss: 0.8753 - accuracy: 0.6585 - val_loss: 0.9135 - val_accuracy: 0.6281\n",
      "Epoch 143/150\n",
      "203/203 [==============================] - 1s 3ms/step - loss: 0.8686 - accuracy: 0.6594 - val_loss: 0.9220 - val_accuracy: 0.6231\n",
      "Epoch 144/150\n",
      "203/203 [==============================] - 1s 3ms/step - loss: 0.8722 - accuracy: 0.6625 - val_loss: 0.9144 - val_accuracy: 0.6262\n",
      "Epoch 145/150\n",
      "203/203 [==============================] - 1s 3ms/step - loss: 0.8683 - accuracy: 0.6571 - val_loss: 0.9204 - val_accuracy: 0.6237\n",
      "Epoch 146/150\n",
      "203/203 [==============================] - 1s 3ms/step - loss: 0.8691 - accuracy: 0.6629 - val_loss: 0.9143 - val_accuracy: 0.6259\n",
      "Epoch 147/150\n",
      "203/203 [==============================] - 1s 3ms/step - loss: 0.8665 - accuracy: 0.6630 - val_loss: 0.9131 - val_accuracy: 0.6228\n",
      "Epoch 148/150\n",
      "203/203 [==============================] - 1s 3ms/step - loss: 0.8602 - accuracy: 0.6720 - val_loss: 0.9212 - val_accuracy: 0.6203\n",
      "Epoch 149/150\n",
      "203/203 [==============================] - 1s 3ms/step - loss: 0.8628 - accuracy: 0.6609 - val_loss: 0.9135 - val_accuracy: 0.6234\n",
      "Epoch 150/150\n",
      "203/203 [==============================] - 1s 3ms/step - loss: 0.8650 - accuracy: 0.6646 - val_loss: 0.9137 - val_accuracy: 0.6225\n"
     ]
    }
   ],
   "source": [
    "epochs = 150\n",
    "batch_size = 64\n",
    "\n",
    "history_v = model.fit(X_train, Y_train, epochs=epochs, batch_size=batch_size,validation_split=0.2,callbacks=[EarlyStopping(monitor='val_loss', patience=10, min_delta=0.0001)])"
   ]
  },
  {
   "cell_type": "code",
   "execution_count": 11,
   "metadata": {},
   "outputs": [
    {
     "data": {
      "image/png": "[encoded data removed]",
      "text/plain": [
       "<Figure size 432x288 with 1 Axes>"
      ]
     },
     "metadata": {
      "needs_background": "light"
     },
     "output_type": "display_data"
    }
   ],
   "source": [
    "# Training vs Validation Loss Function\n",
    "plt.title('Loss')\n",
    "plt.plot(history_v.history['loss'], label='train')\n",
    "plt.plot(history_v.history['val_loss'], label='test')\n",
    "plt.legend()\n",
    "plt.show();"
   ]
  },
  {
   "cell_type": "code",
   "execution_count": 12,
   "metadata": {},
   "outputs": [
    {
     "data": {
      "image/png": "[encoded data removed]",
      "text/plain": [
       "<Figure size 432x288 with 1 Axes>"
      ]
     },
     "metadata": {
      "needs_background": "light"
     },
     "output_type": "display_data"
    }
   ],
   "source": [
    "# Training vs Validation Accuracy\n",
    "plt.title('Accuracy')\n",
    "plt.plot(history_v.history['accuracy'], label='train')\n",
    "plt.plot(history_v.history['val_accuracy'], label='test')\n",
    "plt.legend()\n",
    "plt.show();"
   ]
  },
  {
   "cell_type": "code",
   "execution_count": null,
   "metadata": {},
   "outputs": [],
   "source": []
  }
 ],
 "metadata": {
  "kernelspec": {
   "display_name": "Python 3",
   "language": "python",
   "name": "python3"
  },
  "language_info": {
   "codemirror_mode": {
    "name": "ipython",
    "version": 3
   },
   "file_extension": ".py",
   "mimetype": "text/x-python",
   "name": "python",
   "nbconvert_exporter": "python",
   "pygments_lexer": "ipython3",
   "version": "3.7.6"
  }
 },
 "nbformat": 4,
 "nbformat_minor": 4
}

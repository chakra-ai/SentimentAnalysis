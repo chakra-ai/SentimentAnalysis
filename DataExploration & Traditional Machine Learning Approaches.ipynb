{
  "nbformat": 4,
  "nbformat_minor": 0,
  "metadata": {
    "kernelspec": {
      "display_name": "Python 3",
      "language": "python",
      "name": "python3"
    },
    "language_info": {
      "codemirror_mode": {
        "name": "ipython",
        "version": 3
      },
      "file_extension": ".py",
      "mimetype": "text/x-python",
      "name": "python",
      "nbconvert_exporter": "python",
      "pygments_lexer": "ipython3",
      "version": "3.7.6"
    },
    "colab": {
      "name": "DataExploration & Traditional Machine Learning Approaches.ipynb",
      "provenance": [],
      "include_colab_link": true
    }
  },
  "cells": [
    {
      "cell_type": "markdown",
      "metadata": {
        "id": "view-in-github",
        "colab_type": "text"
      },
      "source": [
        "<a href=\"https://colab.research.google.com/github/chakra-ai/SentimentAnalysis/blob/master/DataExploration%20%26%20Traditional%20Machine%20Learning%20Approaches.ipynb\" target=\"_parent\"><img src=\"https://colab.research.google.com/assets/colab-badge.svg\" alt=\"Open In Colab\"/></a>"
      ]
    },
    {
      "cell_type": "markdown",
      "metadata": {
        "id": "n7R1NE81PBL3",
        "colab_type": "text"
      },
      "source": [
        "# Data Exploration"
      ]
    },
    {
      "cell_type": "code",
      "metadata": {
        "id": "3S2EW547PBL5",
        "colab_type": "code",
        "colab": {}
      },
      "source": [
        "import numpy as np\n",
        "import pandas as pd\n",
        "import matplotlib.pyplot as plt\n",
        "import seaborn as sns\n",
        "import warnings\n",
        "warnings.filterwarnings('ignore')"
      ],
      "execution_count": 15,
      "outputs": []
    },
    {
      "cell_type": "code",
      "metadata": {
        "id": "nuGBGCvVP-aM",
        "colab_type": "code",
        "colab": {}
      },
      "source": [
        "url = 'https://raw.githubusercontent.com/chakra-ai/SentimentAnalysis/master/RomanUrduDataSet.csv'\n",
        "df = pd.read_csv(url, encoding='utf8', header=None)\n",
        "df.columns = ['text','target','junk']\n",
        "df.drop('junk',axis=1, inplace=True)\n",
        "df.dropna(inplace=True)\n",
        "data = df[df['target'] != 'Neative']"
      ],
      "execution_count": 16,
      "outputs": []
    },
    {
      "cell_type": "code",
      "metadata": {
        "id": "j6aNVtUlRoG5",
        "colab_type": "code",
        "colab": {
          "base_uri": "https://localhost:8080/",
          "height": 204
        },
        "outputId": "ef46c992-8778-40d3-ff34-647dc40e04b4"
      },
      "source": [
        "df.head()"
      ],
      "execution_count": 17,
      "outputs": [
        {
          "output_type": "execute_result",
          "data": {
            "text/html": [
              "<div>\n",
              "<style scoped>\n",
              "    .dataframe tbody tr th:only-of-type {\n",
              "        vertical-align: middle;\n",
              "    }\n",
              "\n",
              "    .dataframe tbody tr th {\n",
              "        vertical-align: top;\n",
              "    }\n",
              "\n",
              "    .dataframe thead th {\n",
              "        text-align: right;\n",
              "    }\n",
              "</style>\n",
              "<table border=\"1\" class=\"dataframe\">\n",
              "  <thead>\n",
              "    <tr style=\"text-align: right;\">\n",
              "      <th></th>\n",
              "      <th>text</th>\n",
              "      <th>target</th>\n",
              "    </tr>\n",
              "  </thead>\n",
              "  <tbody>\n",
              "    <tr>\n",
              "      <th>0</th>\n",
              "      <td>Sai kha ya her kisi kay bus ki bat nhi hai lak...</td>\n",
              "      <td>Positive</td>\n",
              "    </tr>\n",
              "    <tr>\n",
              "      <th>1</th>\n",
              "      <td>sahi bt h</td>\n",
              "      <td>Positive</td>\n",
              "    </tr>\n",
              "    <tr>\n",
              "      <th>2</th>\n",
              "      <td>Kya bt hai,</td>\n",
              "      <td>Positive</td>\n",
              "    </tr>\n",
              "    <tr>\n",
              "      <th>3</th>\n",
              "      <td>Wah je wah</td>\n",
              "      <td>Positive</td>\n",
              "    </tr>\n",
              "    <tr>\n",
              "      <th>4</th>\n",
              "      <td>Are wha kaya bat hai</td>\n",
              "      <td>Positive</td>\n",
              "    </tr>\n",
              "  </tbody>\n",
              "</table>\n",
              "</div>"
            ],
            "text/plain": [
              "                                                text    target\n",
              "0  Sai kha ya her kisi kay bus ki bat nhi hai lak...  Positive\n",
              "1                                          sahi bt h  Positive\n",
              "2                                        Kya bt hai,  Positive\n",
              "3                                         Wah je wah  Positive\n",
              "4                               Are wha kaya bat hai  Positive"
            ]
          },
          "metadata": {
            "tags": []
          },
          "execution_count": 17
        }
      ]
    },
    {
      "cell_type": "code",
      "metadata": {
        "id": "v8K6faPAPBMN",
        "colab_type": "code",
        "colab": {
          "base_uri": "https://localhost:8080/",
          "height": 317
        },
        "outputId": "7c19d3f7-0b72-49d3-9283-d4167852693d"
      },
      "source": [
        "data['target'].value_counts().plot.bar()"
      ],
      "execution_count": 18,
      "outputs": [
        {
          "output_type": "execute_result",
          "data": {
            "text/plain": [
              "<matplotlib.axes._subplots.AxesSubplot at 0x7f1bbd4242b0>"
            ]
          },
          "metadata": {
            "tags": []
          },
          "execution_count": 18
        },
        {
          "output_type": "display_data",
          "data": {
            "image/png": "[encoded data removed]",
            "text/plain": [
              "<Figure size 432x288 with 1 Axes>"
            ]
          },
          "metadata": {
            "tags": [],
            "needs_background": "light"
          }
        }
      ]
    },
    {
      "cell_type": "code",
      "metadata": {
        "scrolled": true,
        "id": "d9Ngg-nQPBMS",
        "colab_type": "code",
        "colab": {
          "base_uri": "https://localhost:8080/",
          "height": 85
        },
        "outputId": "1dbbd95c-96a6-4f05-f3da-d3bfbc9652bc"
      },
      "source": [
        "data['target'].value_counts()"
      ],
      "execution_count": 19,
      "outputs": [
        {
          "output_type": "execute_result",
          "data": {
            "text/plain": [
              "Neutral     8928\n",
              "Positive    6013\n",
              "Negative    5286\n",
              "Name: target, dtype: int64"
            ]
          },
          "metadata": {
            "tags": []
          },
          "execution_count": 19
        }
      ]
    },
    {
      "cell_type": "code",
      "metadata": {
        "id": "OXlo6dOAPBMV",
        "colab_type": "code",
        "colab": {}
      },
      "source": [
        "# Buid a feature to get the character length in each reviews\n",
        "data['char_len'] = data['text'].apply(lambda x: len(x) - x.count(\" \"))"
      ],
      "execution_count": 20,
      "outputs": []
    },
    {
      "cell_type": "code",
      "metadata": {
        "id": "bMI2d8_2PBMZ",
        "colab_type": "code",
        "colab": {}
      },
      "source": [
        "# Buid a feature to get the word count in each reviews\n",
        "data['word_count'] = data['text'].apply(lambda x: len(x.split(\" \")))"
      ],
      "execution_count": 21,
      "outputs": []
    },
    {
      "cell_type": "code",
      "metadata": {
        "scrolled": true,
        "id": "TTRk6bqZPBMc",
        "colab_type": "code",
        "colab": {
          "base_uri": "https://localhost:8080/",
          "height": 204
        },
        "outputId": "f968b27d-ad83-4baf-bb3f-fd54a8cafef1"
      },
      "source": [
        "data.head(5)"
      ],
      "execution_count": 22,
      "outputs": [
        {
          "output_type": "execute_result",
          "data": {
            "text/html": [
              "<div>\n",
              "<style scoped>\n",
              "    .dataframe tbody tr th:only-of-type {\n",
              "        vertical-align: middle;\n",
              "    }\n",
              "\n",
              "    .dataframe tbody tr th {\n",
              "        vertical-align: top;\n",
              "    }\n",
              "\n",
              "    .dataframe thead th {\n",
              "        text-align: right;\n",
              "    }\n",
              "</style>\n",
              "<table border=\"1\" class=\"dataframe\">\n",
              "  <thead>\n",
              "    <tr style=\"text-align: right;\">\n",
              "      <th></th>\n",
              "      <th>text</th>\n",
              "      <th>target</th>\n",
              "      <th>char_len</th>\n",
              "      <th>word_count</th>\n",
              "    </tr>\n",
              "  </thead>\n",
              "  <tbody>\n",
              "    <tr>\n",
              "      <th>0</th>\n",
              "      <td>Sai kha ya her kisi kay bus ki bat nhi hai lak...</td>\n",
              "      <td>Positive</td>\n",
              "      <td>73</td>\n",
              "      <td>25</td>\n",
              "    </tr>\n",
              "    <tr>\n",
              "      <th>1</th>\n",
              "      <td>sahi bt h</td>\n",
              "      <td>Positive</td>\n",
              "      <td>7</td>\n",
              "      <td>3</td>\n",
              "    </tr>\n",
              "    <tr>\n",
              "      <th>2</th>\n",
              "      <td>Kya bt hai,</td>\n",
              "      <td>Positive</td>\n",
              "      <td>9</td>\n",
              "      <td>3</td>\n",
              "    </tr>\n",
              "    <tr>\n",
              "      <th>3</th>\n",
              "      <td>Wah je wah</td>\n",
              "      <td>Positive</td>\n",
              "      <td>8</td>\n",
              "      <td>3</td>\n",
              "    </tr>\n",
              "    <tr>\n",
              "      <th>4</th>\n",
              "      <td>Are wha kaya bat hai</td>\n",
              "      <td>Positive</td>\n",
              "      <td>16</td>\n",
              "      <td>5</td>\n",
              "    </tr>\n",
              "  </tbody>\n",
              "</table>\n",
              "</div>"
            ],
            "text/plain": [
              "                                                text  ... word_count\n",
              "0  Sai kha ya her kisi kay bus ki bat nhi hai lak...  ...         25\n",
              "1                                          sahi bt h  ...          3\n",
              "2                                        Kya bt hai,  ...          3\n",
              "3                                         Wah je wah  ...          3\n",
              "4                               Are wha kaya bat hai  ...          5\n",
              "\n",
              "[5 rows x 4 columns]"
            ]
          },
          "metadata": {
            "tags": []
          },
          "execution_count": 22
        }
      ]
    },
    {
      "cell_type": "code",
      "metadata": {
        "id": "Op6KjwVGPBMf",
        "colab_type": "code",
        "colab": {
          "base_uri": "https://localhost:8080/",
          "height": 281
        },
        "outputId": "3672cd82-f409-40f1-dffb-969a015a8583"
      },
      "source": [
        "# Distribution of Character Length across the entire review corpus\n",
        "bins = np.linspace(0, 300, 50)\n",
        "plt.hist(data[data['target']=='Negative']['char_len'], bins, density = True, alpha =0.4, label = 'Negative')\n",
        "plt.hist(data[data['target']=='Positive']['char_len'], bins, density = True, alpha =0.4, label = 'Positive')\n",
        "plt.hist(data[data['target']=='Neutral']['char_len'], bins, density = True, alpha =0.4, label = 'Neutral')\n",
        "plt.legend(loc='upper right')\n",
        "plt.title('Distribution of word count in body text by each sentiment')\n",
        "plt.show()"
      ],
      "execution_count": 23,
      "outputs": [
        {
          "output_type": "display_data",
          "data": {
            "image/png": "[encoded data removed]",
            "text/plain": [
              "<Figure size 432x288 with 1 Axes>"
            ]
          },
          "metadata": {
            "tags": [],
            "needs_background": "light"
          }
        }
      ]
    },
    {
      "cell_type": "code",
      "metadata": {
        "id": "LDL3OxAmPBMh",
        "colab_type": "code",
        "colab": {
          "base_uri": "https://localhost:8080/",
          "height": 281
        },
        "outputId": "83dac019-f0dd-41ad-a24e-7bc0fce17c8d"
      },
      "source": [
        "# Distribution of Character Length across the entire review corpus\n",
        "bins = np.linspace(0, 100, 40)\n",
        "plt.hist(data[data['target']=='Negative']['word_count'], bins, density = True, alpha =0.4, label = 'Negative')\n",
        "plt.hist(data[data['target']=='Positive']['word_count'], bins, density = True, alpha =0.4, label = 'Positive')\n",
        "plt.hist(data[data['target']=='Neutral']['word_count'], bins, density = True, alpha =0.4, label = 'Neutral')\n",
        "plt.legend(loc='upper right')\n",
        "plt.title('Distribution of word count in body text by each sentiment')\n",
        "plt.show()"
      ],
      "execution_count": 24,
      "outputs": [
        {
          "output_type": "display_data",
          "data": {
            "image/png": "[encoded data removed]",
            "text/plain": [
              "<Figure size 432x288 with 1 Axes>"
            ]
          },
          "metadata": {
            "tags": [],
            "needs_background": "light"
          }
        }
      ]
    },
    {
      "cell_type": "code",
      "metadata": {
        "id": "Qg7kUbcWPBMk",
        "colab_type": "code",
        "colab": {}
      },
      "source": [
        "# Create dataset files for analysis based on the size / length of the reviews.\n",
        "data[data['char_len'] > 50].to_csv('reviews_greater_50.csv',header = True, index = False)\n",
        "data[data['char_len'] < 50].to_csv('reviews_lesser_50.csv',header = True, index = False)"
      ],
      "execution_count": 25,
      "outputs": []
    },
    {
      "cell_type": "code",
      "metadata": {
        "id": "xOj0bQA6PBMo",
        "colab_type": "code",
        "colab": {}
      },
      "source": [
        "reviews_greater_50 = data[data['char_len'] > 50]\n",
        "reviews_lesser_50 = data[data['char_len'] <= 50]"
      ],
      "execution_count": 26,
      "outputs": []
    },
    {
      "cell_type": "code",
      "metadata": {
        "id": "9cpOeJyBPBMq",
        "colab_type": "code",
        "colab": {
          "base_uri": "https://localhost:8080/",
          "height": 51
        },
        "outputId": "0f6f7b0c-8548-4484-9912-9ea07e69321f"
      },
      "source": [
        "corp = []\n",
        "for sentence in data['text'].values:\n",
        "    corp = corp + sentence.split()\n",
        "print(\"Total No of Words : \", len(corp))\n",
        "print(\"Size of the Vocabuary : \", len(set(corp)))"
      ],
      "execution_count": 27,
      "outputs": [
        {
          "output_type": "stream",
          "text": [
            "Total No of Words :  268722\n",
            "Size of the Vocabuary :  45124\n"
          ],
          "name": "stdout"
        }
      ]
    },
    {
      "cell_type": "markdown",
      "metadata": {
        "id": "BJw4n9ktPBMu",
        "colab_type": "text"
      },
      "source": [
        "## Building Sentiment Classification on Traditional Machine Learning Model"
      ]
    },
    {
      "cell_type": "code",
      "metadata": {
        "id": "0iAM-eoTPBMu",
        "colab_type": "code",
        "colab": {}
      },
      "source": [
        "import time\n",
        "from sklearn.ensemble import RandomForestClassifier, GradientBoostingClassifier\n",
        "from sklearn.linear_model import LogisticRegression\n",
        "from sklearn.metrics import precision_recall_fscore_support as score, roc_auc_score\n",
        "from sklearn.metrics import confusion_matrix,classification_report,accuracy_score\n",
        "from mlxtend.plotting import plot_confusion_matrix\n",
        "from sklearn.feature_extraction.text import TfidfVectorizer, CountVectorizer\n",
        "from sklearn.preprocessing import LabelEncoder\n",
        "from sklearn.metrics import accuracy_score, confusion_matrix, precision_score, recall_score\n",
        "from sklearn.model_selection import train_test_split\n",
        "from sklearn import svm\n",
        "from sklearn.neural_network import MLPClassifier\n",
        "\n",
        "from sklearn.decomposition import PCA\n",
        "from sklearn.discriminant_analysis import LinearDiscriminantAnalysis\n",
        "from sklearn.neighbors import KNeighborsClassifier, NeighborhoodComponentsAnalysis\n",
        "from sklearn.pipeline import make_pipeline\n",
        "from sklearn.preprocessing import StandardScaler"
      ],
      "execution_count": null,
      "outputs": []
    },
    {
      "cell_type": "code",
      "metadata": {
        "id": "JKCqTc_kPBMw",
        "colab_type": "code",
        "colab": {},
        "outputId": "18103c96-4864-4c58-afd9-29c6690764a4"
      },
      "source": [
        "data['target'].value_counts()"
      ],
      "execution_count": null,
      "outputs": [
        {
          "output_type": "execute_result",
          "data": {
            "text/plain": [
              "Neutral     8928\n",
              "Positive    6013\n",
              "Negative    5286\n",
              "Name: target, dtype: int64"
            ]
          },
          "metadata": {
            "tags": []
          },
          "execution_count": 16
        }
      ]
    },
    {
      "cell_type": "code",
      "metadata": {
        "id": "f1MXpA3JPBM0",
        "colab_type": "code",
        "colab": {}
      },
      "source": [
        "#data_2 = data[data['target'].isin(['Positive', 'Negative'])]\n",
        "#data_2['target'].value_counts()"
      ],
      "execution_count": null,
      "outputs": []
    },
    {
      "cell_type": "code",
      "metadata": {
        "id": "l_FE9Eo0PBM3",
        "colab_type": "code",
        "colab": {}
      },
      "source": [
        "# Lambda function to clean the text reviews.\n",
        "clean_text = data['text'].apply(lambda x: clean_doc(x))"
      ],
      "execution_count": null,
      "outputs": []
    },
    {
      "cell_type": "code",
      "metadata": {
        "id": "3h3YM8mWPBM6",
        "colab_type": "code",
        "colab": {}
      },
      "source": [
        "y = data['target'].values\n",
        "enc = LabelEncoder()\n",
        "y = enc.fit_transform(y)"
      ],
      "execution_count": null,
      "outputs": []
    },
    {
      "cell_type": "code",
      "metadata": {
        "id": "hDnt3jNkPBM8",
        "colab_type": "code",
        "colab": {}
      },
      "source": [
        "X_train, X_test, y_train, y_test = train_test_split(data[['text', 'char_len', 'word_count']],\n",
        "                                                    y, \n",
        "                                                    test_size = 0.2,\n",
        "                                                    random_state = 42,\n",
        "                                                    stratify = y)"
      ],
      "execution_count": null,
      "outputs": []
    },
    {
      "cell_type": "code",
      "metadata": {
        "id": "p2e4p_xYPBNA",
        "colab_type": "code",
        "colab": {}
      },
      "source": [
        "vectorizer = TfidfVectorizer(analyzer=clean_doc,ngram_range=(1, 2)) \n",
        "vectorizer = vectorizer.fit(X_train['text'])\n",
        "x_train_v = vectorizer.transform(X_train['text'])\n",
        "x_test_v = vectorizer.transform(X_test['text'])"
      ],
      "execution_count": null,
      "outputs": []
    },
    {
      "cell_type": "code",
      "metadata": {
        "id": "VkUrW93BPBND",
        "colab_type": "code",
        "colab": {}
      },
      "source": [
        "X_train_c = pd.concat([X_train[['char_len', 'word_count']].reset_index(drop=True),\n",
        "                          pd.DataFrame(x_train_v.toarray())], axis=1)\n",
        "X_test_c = pd.concat([X_test[['char_len', 'word_count']].reset_index(drop=True),\n",
        "                         pd.DataFrame(x_test_v.toarray())], axis=1)"
      ],
      "execution_count": null,
      "outputs": []
    },
    {
      "cell_type": "code",
      "metadata": {
        "id": "EQ9L5xziPBNF",
        "colab_type": "code",
        "colab": {},
        "outputId": "24d3ceb7-a1d6-42ed-aa79-16b5e4a35f14"
      },
      "source": [
        "# Shape of the Training data X and Y\n",
        "print(\"Shape of the Training data X : {}, Y : {}\".format(X_train_c.shape, y_train.shape))"
      ],
      "execution_count": null,
      "outputs": [
        {
          "output_type": "stream",
          "text": [
            "Shape of the Training data X : (16181, 27887), Y : (16181,)\n"
          ],
          "name": "stdout"
        }
      ]
    },
    {
      "cell_type": "markdown",
      "metadata": {
        "id": "L_fBMCFFPBNL",
        "colab_type": "text"
      },
      "source": [
        "# Random Forest"
      ]
    },
    {
      "cell_type": "code",
      "metadata": {
        "id": "yIT_D8RQPBNM",
        "colab_type": "code",
        "colab": {},
        "outputId": "3554830c-1b24-4efd-b14c-5c368209ad30"
      },
      "source": [
        "# n_jobs = -1 for building parallel 150 decision trees. \n",
        "# Max_depth = None means it will build decision tree until minminzation of loss\n",
        "rf = RandomForestClassifier(n_estimators=150, max_depth=None, n_jobs=-1,class_weight=\"balanced\",random_state=42)\n",
        "rf_model = rf.fit(X_train_c, y_train)\n",
        "y_pred = rf_model.predict(X_test_c)\n",
        "\n",
        "precision = precision_score(y_test, y_pred, pos_label='positive', average='weighted')\n",
        "recall = recall_score(y_test, y_pred, pos_label='positive', average='weighted')\n",
        "accuracy = accuracy_score(y_test, y_pred)\n",
        "\n",
        "print('Precision: {:.2f} | Recall: {:.2f} | Accuracy: {:.2f}'.format(precision,recall,accuracy))\n",
        "\n",
        "sns.set(font_scale=1.4)#for label size\n",
        "sns.heatmap(confusion_matrix(y_test, y_pred), cmap=\"Blues\", annot=True,annot_kws={\"size\": 14}, fmt='g')# font size"
      ],
      "execution_count": null,
      "outputs": [
        {
          "output_type": "stream",
          "text": [
            "Precision: 0.64 | Recall: 0.64 | Accuracy: 0.64\n"
          ],
          "name": "stdout"
        },
        {
          "output_type": "execute_result",
          "data": {
            "text/plain": [
              "<matplotlib.axes._subplots.AxesSubplot at 0x1d1b7c45888>"
            ]
          },
          "metadata": {
            "tags": []
          },
          "execution_count": 24
        },
        {
          "output_type": "display_data",
          "data": {
            "image/png": "[encoded data removed]",
            "text/plain": [
              "<Figure size 432x288 with 2 Axes>"
            ]
          },
          "metadata": {
            "tags": []
          }
        }
      ]
    },
    {
      "cell_type": "markdown",
      "metadata": {
        "id": "-28UkobEPBNP",
        "colab_type": "text"
      },
      "source": [
        "# Logistic Regression"
      ]
    },
    {
      "cell_type": "code",
      "metadata": {
        "id": "fFurhTCePBNQ",
        "colab_type": "code",
        "colab": {},
        "outputId": "85b0f99f-db3a-4fac-9ffc-215abf020a18"
      },
      "source": [
        "classifier = LogisticRegression(random_state=0,solver='liblinear',multi_class='auto')\n",
        "classifier.fit(X_train_c, y_train)\n",
        "y_pred = classifier.predict(X_test_c)\n",
        "\n",
        "precision = precision_score(y_test, y_pred, pos_label='positive', average='weighted')\n",
        "recall = recall_score(y_test, y_pred, pos_label='positive', average='weighted')\n",
        "accuracy = accuracy_score(y_test, y_pred)\n",
        "\n",
        "print('Precision: {:.2f} | Recall: {:.2f} | Accuracy: {:.2f}'.format(precision,recall,accuracy))\n",
        "\n",
        "sns.set(font_scale=1.4)#for label size\n",
        "sns.heatmap(confusion_matrix(y_test, y_pred), cmap=\"Blues\", annot=True,annot_kws={\"size\": 14}, fmt='g')# font size"
      ],
      "execution_count": null,
      "outputs": [
        {
          "output_type": "stream",
          "text": [
            "Precision: 0.65 | Recall: 0.65 | Accuracy: 0.65\n"
          ],
          "name": "stdout"
        },
        {
          "output_type": "execute_result",
          "data": {
            "text/plain": [
              "<matplotlib.axes._subplots.AxesSubplot at 0x1d1c7b03a08>"
            ]
          },
          "metadata": {
            "tags": []
          },
          "execution_count": 26
        },
        {
          "output_type": "display_data",
          "data": {
            "image/png": "[encoded data removed]",
            "text/plain": [
              "<Figure size 432x288 with 2 Axes>"
            ]
          },
          "metadata": {
            "tags": []
          }
        }
      ]
    },
    {
      "cell_type": "code",
      "metadata": {
        "id": "bbMptbwZPBNT",
        "colab_type": "code",
        "colab": {}
      },
      "source": [
        ""
      ],
      "execution_count": null,
      "outputs": []
    }
  ]
}
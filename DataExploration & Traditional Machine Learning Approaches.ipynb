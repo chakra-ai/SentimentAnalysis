{
 "cells": [
  {
   "cell_type": "markdown",
   "metadata": {},
   "source": [
    "# Data Exploration"
   ]
  },
  {
   "cell_type": "code",
   "execution_count": 1,
   "metadata": {},
   "outputs": [],
   "source": [
    "from PreProcessing import Cleaned_X_Y, clean_doc\n",
    "import numpy as np\n",
    "import pandas as pd\n",
    "import matplotlib.pyplot as plt\n",
    "import seaborn as sns\n",
    "import warnings\n",
    "warnings.filterwarnings('ignore')"
   ]
  },
  {
   "cell_type": "code",
   "execution_count": 2,
   "metadata": {},
   "outputs": [],
   "source": [
    "filename = \"Roman Urdu DataSet.csv\""
   ]
  },
  {
   "cell_type": "code",
   "execution_count": 3,
   "metadata": {},
   "outputs": [],
   "source": [
    "X, y = Cleaned_X_Y(filename)"
   ]
  },
  {
   "cell_type": "code",
   "execution_count": 4,
   "metadata": {},
   "outputs": [],
   "source": [
    "df = pd.read_csv(filename, encoding='utf8', header=None)\n",
    "df.columns = ['text','target','junk']\n",
    "df.drop('junk',axis=1, inplace=True)\n",
    "df.dropna(inplace=True)\n",
    "data = df[df['target'] != 'Neative']"
   ]
  },
  {
   "cell_type": "code",
   "execution_count": 5,
   "metadata": {},
   "outputs": [
    {
     "data": {
      "text/plain": [
       "<matplotlib.axes._subplots.AxesSubplot at 0x1d1ac4f5e08>"
      ]
     },
     "execution_count": 5,
     "metadata": {},
     "output_type": "execute_result"
    },
    {
     "data": {
      "image/png": "[encoded data removed]",
      "text/plain": [
       "<Figure size 432x288 with 1 Axes>"
      ]
     },
     "metadata": {
      "needs_background": "light"
     },
     "output_type": "display_data"
    }
   ],
   "source": [
    "data['target'].value_counts().plot.bar()"
   ]
  },
  {
   "cell_type": "code",
   "execution_count": 6,
   "metadata": {
    "scrolled": true
   },
   "outputs": [
    {
     "data": {
      "text/plain": [
       "Neutral     8928\n",
       "Positive    6013\n",
       "Negative    5286\n",
       "Name: target, dtype: int64"
      ]
     },
     "execution_count": 6,
     "metadata": {},
     "output_type": "execute_result"
    }
   ],
   "source": [
    "data['target'].value_counts()"
   ]
  },
  {
   "cell_type": "code",
   "execution_count": 7,
   "metadata": {},
   "outputs": [],
   "source": [
    "# Buid a feature to get the character length in each reviews\n",
    "data['char_len'] = data['text'].apply(lambda x: len(x) - x.count(\" \"))"
   ]
  },
  {
   "cell_type": "code",
   "execution_count": 8,
   "metadata": {},
   "outputs": [],
   "source": [
    "# Buid a feature to get the word count in each reviews\n",
    "data['word_count'] = data['text'].apply(lambda x: len(x.split(\" \")))"
   ]
  },
  {
   "cell_type": "code",
   "execution_count": 9,
   "metadata": {
    "scrolled": true
   },
   "outputs": [
    {
     "data": {
      "text/html": [
       "<div>\n",
       "<style scoped>\n",
       "    .dataframe tbody tr th:only-of-type {\n",
       "        vertical-align: middle;\n",
       "    }\n",
       "\n",
       "    .dataframe tbody tr th {\n",
       "        vertical-align: top;\n",
       "    }\n",
       "\n",
       "    .dataframe thead th {\n",
       "        text-align: right;\n",
       "    }\n",
       "</style>\n",
       "<table border=\"1\" class=\"dataframe\">\n",
       "  <thead>\n",
       "    <tr style=\"text-align: right;\">\n",
       "      <th></th>\n",
       "      <th>text</th>\n",
       "      <th>target</th>\n",
       "      <th>char_len</th>\n",
       "      <th>word_count</th>\n",
       "    </tr>\n",
       "  </thead>\n",
       "  <tbody>\n",
       "    <tr>\n",
       "      <th>0</th>\n",
       "      <td>Sai kha ya her kisi kay bus ki bat nhi hai lak...</td>\n",
       "      <td>Positive</td>\n",
       "      <td>73</td>\n",
       "      <td>25</td>\n",
       "    </tr>\n",
       "    <tr>\n",
       "      <th>1</th>\n",
       "      <td>sahi bt h</td>\n",
       "      <td>Positive</td>\n",
       "      <td>7</td>\n",
       "      <td>3</td>\n",
       "    </tr>\n",
       "    <tr>\n",
       "      <th>2</th>\n",
       "      <td>Kya bt hai,</td>\n",
       "      <td>Positive</td>\n",
       "      <td>9</td>\n",
       "      <td>3</td>\n",
       "    </tr>\n",
       "    <tr>\n",
       "      <th>3</th>\n",
       "      <td>Wah je wah</td>\n",
       "      <td>Positive</td>\n",
       "      <td>8</td>\n",
       "      <td>3</td>\n",
       "    </tr>\n",
       "    <tr>\n",
       "      <th>4</th>\n",
       "      <td>Are wha kaya bat hai</td>\n",
       "      <td>Positive</td>\n",
       "      <td>16</td>\n",
       "      <td>5</td>\n",
       "    </tr>\n",
       "  </tbody>\n",
       "</table>\n",
       "</div>"
      ],
      "text/plain": [
       "                                                text    target  char_len  \\\n",
       "0  Sai kha ya her kisi kay bus ki bat nhi hai lak...  Positive        73   \n",
       "1                                          sahi bt h  Positive         7   \n",
       "2                                        Kya bt hai,  Positive         9   \n",
       "3                                         Wah je wah  Positive         8   \n",
       "4                               Are wha kaya bat hai  Positive        16   \n",
       "\n",
       "   word_count  \n",
       "0          25  \n",
       "1           3  \n",
       "2           3  \n",
       "3           3  \n",
       "4           5  "
      ]
     },
     "execution_count": 9,
     "metadata": {},
     "output_type": "execute_result"
    }
   ],
   "source": [
    "data.head(5)"
   ]
  },
  {
   "cell_type": "code",
   "execution_count": 10,
   "metadata": {},
   "outputs": [
    {
     "data": {
      "image/png": "[encoded data removed]",
      "text/plain": [
       "<Figure size 432x288 with 1 Axes>"
      ]
     },
     "metadata": {
      "needs_background": "light"
     },
     "output_type": "display_data"
    }
   ],
   "source": [
    "# Distribution of Character Length across the entire review corpus\n",
    "bins = np.linspace(0, 300, 50)\n",
    "plt.hist(data[data['target']=='Negative']['char_len'], bins, density = True, alpha =0.4, label = 'Negative')\n",
    "plt.hist(data[data['target']=='Positive']['char_len'], bins, density = True, alpha =0.4, label = 'Positive')\n",
    "plt.hist(data[data['target']=='Neutral']['char_len'], bins, density = True, alpha =0.4, label = 'Neutral')\n",
    "plt.legend(loc='upper right')\n",
    "plt.title('Distribution of word count in body text by each sentiment')\n",
    "plt.show()"
   ]
  },
  {
   "cell_type": "code",
   "execution_count": 11,
   "metadata": {},
   "outputs": [
    {
     "data": {
      "image/png": "[encoded data removed]",
      "text/plain": [
       "<Figure size 432x288 with 1 Axes>"
      ]
     },
     "metadata": {
      "needs_background": "light"
     },
     "output_type": "display_data"
    }
   ],
   "source": [
    "# Distribution of Character Length across the entire review corpus\n",
    "bins = np.linspace(0, 100, 40)\n",
    "plt.hist(data[data['target']=='Negative']['word_count'], bins, density = True, alpha =0.4, label = 'Negative')\n",
    "plt.hist(data[data['target']=='Positive']['word_count'], bins, density = True, alpha =0.4, label = 'Positive')\n",
    "plt.hist(data[data['target']=='Neutral']['word_count'], bins, density = True, alpha =0.4, label = 'Neutral')\n",
    "plt.legend(loc='upper right')\n",
    "plt.title('Distribution of word count in body text by each sentiment')\n",
    "plt.show()"
   ]
  },
  {
   "cell_type": "code",
   "execution_count": 12,
   "metadata": {},
   "outputs": [],
   "source": [
    "# Create dataset files for analysis based on the size / length of the reviews.\n",
    "data[data['char_len'] > 50].to_csv('reviews_greater_50.csv',header = True, index = False)\n",
    "data[data['char_len'] < 50].to_csv('reviews_lesser_50.csv',header = True, index = False)"
   ]
  },
  {
   "cell_type": "code",
   "execution_count": 13,
   "metadata": {},
   "outputs": [],
   "source": [
    "reviews_greater_50 = data[data['char_len'] > 50]\n",
    "reviews_lesser_50 = data[data['char_len'] <= 50]"
   ]
  },
  {
   "cell_type": "code",
   "execution_count": 14,
   "metadata": {},
   "outputs": [
    {
     "name": "stdout",
     "output_type": "stream",
     "text": [
      "Total No of Words :  268722\n",
      "Size of the Vocabuary :  45124\n"
     ]
    }
   ],
   "source": [
    "corp = []\n",
    "for sentence in data['text'].values:\n",
    "    corp = corp + sentence.split()\n",
    "print(\"Total No of Words : \", len(corp))\n",
    "print(\"Size of the Vocabuary : \", len(set(corp)))"
   ]
  },
  {
   "cell_type": "markdown",
   "metadata": {},
   "source": [
    "## Building Sentiment Classification on Traditional Machine Learning Model"
   ]
  },
  {
   "cell_type": "code",
   "execution_count": 15,
   "metadata": {},
   "outputs": [],
   "source": [
    "import time\n",
    "from sklearn.ensemble import RandomForestClassifier, GradientBoostingClassifier\n",
    "from sklearn.linear_model import LogisticRegression\n",
    "from sklearn.metrics import precision_recall_fscore_support as score, roc_auc_score\n",
    "from sklearn.metrics import confusion_matrix,classification_report,accuracy_score\n",
    "from mlxtend.plotting import plot_confusion_matrix\n",
    "from sklearn.feature_extraction.text import TfidfVectorizer, CountVectorizer\n",
    "from sklearn.preprocessing import LabelEncoder\n",
    "from sklearn.metrics import accuracy_score, confusion_matrix, precision_score, recall_score\n",
    "from sklearn.model_selection import train_test_split\n",
    "from sklearn import svm\n",
    "from sklearn.neural_network import MLPClassifier\n",
    "\n",
    "from sklearn.decomposition import PCA\n",
    "from sklearn.discriminant_analysis import LinearDiscriminantAnalysis\n",
    "from sklearn.neighbors import KNeighborsClassifier, NeighborhoodComponentsAnalysis\n",
    "from sklearn.pipeline import make_pipeline\n",
    "from sklearn.preprocessing import StandardScaler"
   ]
  },
  {
   "cell_type": "code",
   "execution_count": 16,
   "metadata": {},
   "outputs": [
    {
     "data": {
      "text/plain": [
       "Neutral     8928\n",
       "Positive    6013\n",
       "Negative    5286\n",
       "Name: target, dtype: int64"
      ]
     },
     "execution_count": 16,
     "metadata": {},
     "output_type": "execute_result"
    }
   ],
   "source": [
    "data['target'].value_counts()"
   ]
  },
  {
   "cell_type": "code",
   "execution_count": 17,
   "metadata": {},
   "outputs": [],
   "source": [
    "#data_2 = data[data['target'].isin(['Positive', 'Negative'])]\n",
    "#data_2['target'].value_counts()"
   ]
  },
  {
   "cell_type": "code",
   "execution_count": 18,
   "metadata": {},
   "outputs": [],
   "source": [
    "# Lambda function to clean the text reviews.\n",
    "clean_text = data['text'].apply(lambda x: clean_doc(x))"
   ]
  },
  {
   "cell_type": "code",
   "execution_count": 19,
   "metadata": {},
   "outputs": [],
   "source": [
    "y = data['target'].values\n",
    "enc = LabelEncoder()\n",
    "y = enc.fit_transform(y)"
   ]
  },
  {
   "cell_type": "code",
   "execution_count": 20,
   "metadata": {},
   "outputs": [],
   "source": [
    "X_train, X_test, y_train, y_test = train_test_split(data[['text', 'char_len', 'word_count']],\n",
    "                                                    y, \n",
    "                                                    test_size = 0.2,\n",
    "                                                    random_state = 42,\n",
    "                                                    stratify = y)"
   ]
  },
  {
   "cell_type": "code",
   "execution_count": 21,
   "metadata": {},
   "outputs": [],
   "source": [
    "vectorizer = TfidfVectorizer(analyzer=clean_doc,ngram_range=(1, 2)) \n",
    "vectorizer = vectorizer.fit(X_train['text'])\n",
    "x_train_v = vectorizer.transform(X_train['text'])\n",
    "x_test_v = vectorizer.transform(X_test['text'])"
   ]
  },
  {
   "cell_type": "code",
   "execution_count": 22,
   "metadata": {},
   "outputs": [],
   "source": [
    "X_train_c = pd.concat([X_train[['char_len', 'word_count']].reset_index(drop=True),\n",
    "                          pd.DataFrame(x_train_v.toarray())], axis=1)\n",
    "X_test_c = pd.concat([X_test[['char_len', 'word_count']].reset_index(drop=True),\n",
    "                         pd.DataFrame(x_test_v.toarray())], axis=1)"
   ]
  },
  {
   "cell_type": "code",
   "execution_count": 23,
   "metadata": {},
   "outputs": [
    {
     "name": "stdout",
     "output_type": "stream",
     "text": [
      "Shape of the Training data X : (16181, 27887), Y : (16181,)\n"
     ]
    }
   ],
   "source": [
    "# Shape of the Training data X and Y\n",
    "print(\"Shape of the Training data X : {}, Y : {}\".format(X_train_c.shape, y_train.shape))"
   ]
  },
  {
   "cell_type": "markdown",
   "metadata": {},
   "source": [
    "# Random Forest"
   ]
  },
  {
   "cell_type": "code",
   "execution_count": 24,
   "metadata": {},
   "outputs": [
    {
     "name": "stdout",
     "output_type": "stream",
     "text": [
      "Precision: 0.64 | Recall: 0.64 | Accuracy: 0.64\n"
     ]
    },
    {
     "data": {
      "text/plain": [
       "<matplotlib.axes._subplots.AxesSubplot at 0x1d1b7c45888>"
      ]
     },
     "execution_count": 24,
     "metadata": {},
     "output_type": "execute_result"
    },
    {
     "data": {
      "image/png": "[encoded data removed]",
      "text/plain": [
       "<Figure size 432x288 with 2 Axes>"
      ]
     },
     "metadata": {},
     "output_type": "display_data"
    }
   ],
   "source": [
    "# n_jobs = -1 for building parallel 150 decision trees. \n",
    "# Max_depth = None means it will build decision tree until minminzation of loss\n",
    "rf = RandomForestClassifier(n_estimators=150, max_depth=None, n_jobs=-1,class_weight=\"balanced\",random_state=42)\n",
    "rf_model = rf.fit(X_train_c, y_train)\n",
    "y_pred = rf_model.predict(X_test_c)\n",
    "\n",
    "precision = precision_score(y_test, y_pred, pos_label='positive', average='weighted')\n",
    "recall = recall_score(y_test, y_pred, pos_label='positive', average='weighted')\n",
    "accuracy = accuracy_score(y_test, y_pred)\n",
    "\n",
    "print('Precision: {:.2f} | Recall: {:.2f} | Accuracy: {:.2f}'.format(precision,recall,accuracy))\n",
    "\n",
    "sns.set(font_scale=1.4)#for label size\n",
    "sns.heatmap(confusion_matrix(y_test, y_pred), cmap=\"Blues\", annot=True,annot_kws={\"size\": 14}, fmt='g')# font size"
   ]
  },
  {
   "cell_type": "markdown",
   "metadata": {},
   "source": [
    "# Logistic Regression"
   ]
  },
  {
   "cell_type": "code",
   "execution_count": 26,
   "metadata": {},
   "outputs": [
    {
     "name": "stdout",
     "output_type": "stream",
     "text": [
      "Precision: 0.65 | Recall: 0.65 | Accuracy: 0.65\n"
     ]
    },
    {
     "data": {
      "text/plain": [
       "<matplotlib.axes._subplots.AxesSubplot at 0x1d1c7b03a08>"
      ]
     },
     "execution_count": 26,
     "metadata": {},
     "output_type": "execute_result"
    },
    {
     "data": {
      "image/png": "[encoded data removed]",
      "text/plain": [
       "<Figure size 432x288 with 2 Axes>"
      ]
     },
     "metadata": {},
     "output_type": "display_data"
    }
   ],
   "source": [
    "classifier = LogisticRegression(random_state=0,solver='liblinear',multi_class='auto')\n",
    "classifier.fit(X_train_c, y_train)\n",
    "y_pred = classifier.predict(X_test_c)\n",
    "\n",
    "precision = precision_score(y_test, y_pred, pos_label='positive', average='weighted')\n",
    "recall = recall_score(y_test, y_pred, pos_label='positive', average='weighted')\n",
    "accuracy = accuracy_score(y_test, y_pred)\n",
    "\n",
    "print('Precision: {:.2f} | Recall: {:.2f} | Accuracy: {:.2f}'.format(precision,recall,accuracy))\n",
    "\n",
    "sns.set(font_scale=1.4)#for label size\n",
    "sns.heatmap(confusion_matrix(y_test, y_pred), cmap=\"Blues\", annot=True,annot_kws={\"size\": 14}, fmt='g')# font size"
   ]
  },
  {
   "cell_type": "code",
   "execution_count": null,
   "metadata": {},
   "outputs": [],
   "source": []
  }
 ],
 "metadata": {
  "kernelspec": {
   "display_name": "Python 3",
   "language": "python",
   "name": "python3"
  },
  "language_info": {
   "codemirror_mode": {
    "name": "ipython",
    "version": 3
   },
   "file_extension": ".py",
   "mimetype": "text/x-python",
   "name": "python",
   "nbconvert_exporter": "python",
   "pygments_lexer": "ipython3",
   "version": "3.7.6"
  }
 },
 "nbformat": 4,
 "nbformat_minor": 4
}
